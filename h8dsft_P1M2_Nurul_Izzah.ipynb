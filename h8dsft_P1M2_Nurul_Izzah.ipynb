{
  "cells": [
    {
      "cell_type": "markdown",
      "metadata": {
        "id": "ssxCHu66huw5"
      },
      "source": [
        "#I. Perkenalan"
      ]
    },
    {
      "cell_type": "markdown",
      "metadata": {
        "id": "_DKp9qKQiKPo"
      },
      "source": [
        "Nama : Nurul Izzah\n",
        "\n",
        "Batch : 18\n",
        "\n",
        "Objective : memprediksi penjualan dan permintaan untuk toko Walmart,\n",
        "\n",
        "Permintaannya adalah \n",
        "- Membantu dalam menghadapi tantangan permintaan tidak terduga dan kehabisan stok (memasukan faktor2 seperti IHK, indeks pengangguran dll)\n",
        "- memodelkan efek penurunan harga pada minggu2 liburan, yg diberi bobot 5x lebih tinggi dalam evaluasi daripada minggu2 non libur, dan juga memprediksi dampak promosi diskon pada penjualan selama periode liburan besar seperti Super bowl day (11 februari), Labour Day (1 mei), Thanksgiving (23 November), \n",
        "Natal (25 Desember)."
      ]
    },
    {
      "cell_type": "markdown",
      "metadata": {
        "id": "1c3tC_AUhwqV"
      },
      "source": [
        "#II. Import Libraries"
      ]
    },
    {
      "cell_type": "code",
      "execution_count": 1,
      "metadata": {
        "colab": {
          "base_uri": "https://localhost:8080/"
        },
        "id": "zpxO7PlMhm1P",
        "outputId": "6a2e5f1c-26e8-44a4-8464-0c60266b6f06"
      },
      "outputs": [
        {
          "output_type": "stream",
          "name": "stdout",
          "text": [
            "Looking in indexes: https://pypi.org/simple, https://us-python.pkg.dev/colab-wheels/public/simple/\n",
            "Requirement already satisfied: feature-engine in /usr/local/lib/python3.9/dist-packages (1.5.2)\n",
            "Requirement already satisfied: scipy>=1.4.1 in /usr/local/lib/python3.9/dist-packages (from feature-engine) (1.10.1)\n",
            "Requirement already satisfied: statsmodels>=0.11.1 in /usr/local/lib/python3.9/dist-packages (from feature-engine) (0.13.5)\n",
            "Requirement already satisfied: scikit-learn>=1.0.0 in /usr/local/lib/python3.9/dist-packages (from feature-engine) (1.2.2)\n",
            "Requirement already satisfied: pandas>=1.0.3 in /usr/local/lib/python3.9/dist-packages (from feature-engine) (1.4.4)\n",
            "Requirement already satisfied: numpy>=1.18.2 in /usr/local/lib/python3.9/dist-packages (from feature-engine) (1.22.4)\n",
            "Requirement already satisfied: python-dateutil>=2.8.1 in /usr/local/lib/python3.9/dist-packages (from pandas>=1.0.3->feature-engine) (2.8.2)\n",
            "Requirement already satisfied: pytz>=2020.1 in /usr/local/lib/python3.9/dist-packages (from pandas>=1.0.3->feature-engine) (2022.7.1)\n",
            "Requirement already satisfied: joblib>=1.1.1 in /usr/local/lib/python3.9/dist-packages (from scikit-learn>=1.0.0->feature-engine) (1.1.1)\n",
            "Requirement already satisfied: threadpoolctl>=2.0.0 in /usr/local/lib/python3.9/dist-packages (from scikit-learn>=1.0.0->feature-engine) (3.1.0)\n",
            "Requirement already satisfied: packaging>=21.3 in /usr/local/lib/python3.9/dist-packages (from statsmodels>=0.11.1->feature-engine) (23.0)\n",
            "Requirement already satisfied: patsy>=0.5.2 in /usr/local/lib/python3.9/dist-packages (from statsmodels>=0.11.1->feature-engine) (0.5.3)\n",
            "Requirement already satisfied: six in /usr/local/lib/python3.9/dist-packages (from patsy>=0.5.2->statsmodels>=0.11.1->feature-engine) (1.16.0)\n",
            "Looking in indexes: https://pypi.org/simple, https://us-python.pkg.dev/colab-wheels/public/simple/\n",
            "Requirement already satisfied: pmdarima in /usr/local/lib/python3.9/dist-packages (2.0.3)\n",
            "Requirement already satisfied: urllib3 in /usr/local/lib/python3.9/dist-packages (from pmdarima) (1.26.15)\n",
            "Requirement already satisfied: scipy>=1.3.2 in /usr/local/lib/python3.9/dist-packages (from pmdarima) (1.10.1)\n",
            "Requirement already satisfied: Cython!=0.29.18,!=0.29.31,>=0.29 in /usr/local/lib/python3.9/dist-packages (from pmdarima) (0.29.33)\n",
            "Requirement already satisfied: pandas>=0.19 in /usr/local/lib/python3.9/dist-packages (from pmdarima) (1.4.4)\n",
            "Requirement already satisfied: numpy>=1.21.2 in /usr/local/lib/python3.9/dist-packages (from pmdarima) (1.22.4)\n",
            "Requirement already satisfied: joblib>=0.11 in /usr/local/lib/python3.9/dist-packages (from pmdarima) (1.1.1)\n",
            "Requirement already satisfied: statsmodels>=0.13.2 in /usr/local/lib/python3.9/dist-packages (from pmdarima) (0.13.5)\n",
            "Requirement already satisfied: scikit-learn>=0.22 in /usr/local/lib/python3.9/dist-packages (from pmdarima) (1.2.2)\n",
            "Requirement already satisfied: setuptools!=50.0.0,>=38.6.0 in /usr/local/lib/python3.9/dist-packages (from pmdarima) (67.6.0)\n",
            "Requirement already satisfied: python-dateutil>=2.8.1 in /usr/local/lib/python3.9/dist-packages (from pandas>=0.19->pmdarima) (2.8.2)\n",
            "Requirement already satisfied: pytz>=2020.1 in /usr/local/lib/python3.9/dist-packages (from pandas>=0.19->pmdarima) (2022.7.1)\n",
            "Requirement already satisfied: threadpoolctl>=2.0.0 in /usr/local/lib/python3.9/dist-packages (from scikit-learn>=0.22->pmdarima) (3.1.0)\n",
            "Requirement already satisfied: patsy>=0.5.2 in /usr/local/lib/python3.9/dist-packages (from statsmodels>=0.13.2->pmdarima) (0.5.3)\n",
            "Requirement already satisfied: packaging>=21.3 in /usr/local/lib/python3.9/dist-packages (from statsmodels>=0.13.2->pmdarima) (23.0)\n",
            "Requirement already satisfied: six in /usr/local/lib/python3.9/dist-packages (from patsy>=0.5.2->statsmodels>=0.13.2->pmdarima) (1.16.0)\n"
          ]
        }
      ],
      "source": [
        "#import libraries\n",
        "import pandas as pd\n",
        "import numpy as np\n",
        "import matplotlib.pyplot as plt\n",
        "import seaborn as sns\n",
        "import pylab\n",
        "!pip install feature-engine\n",
        "!pip install pmdarima\n",
        "\n",
        "from scipy.stats import kendalltau\n",
        "from math import sqrt\n",
        "from statsmodels.tsa.seasonal import seasonal_decompose\n",
        "from statsmodels.tsa.statespace.sarimax import SARIMAX\n",
        "from statsmodels.graphics.tsaplots import plot_acf, plot_pacf\n",
        "from statsmodels.tsa.stattools import adfuller\n",
        "from sklearn.model_selection import train_test_split\n",
        "from feature_engine.outliers import Winsorizer\n",
        "from sklearn.preprocessing import StandardScaler\n",
        "from sklearn.linear_model import LinearRegression\n",
        "from sklearn.svm import SVR\n",
        "from sklearn.ensemble import RandomForestRegressor\n",
        "from sklearn.ensemble import GradientBoostingRegressor\n",
        "from sklearn.pipeline import Pipeline\n",
        "from sklearn.metrics import r2_score, mean_absolute_error, mean_squared_error\n",
        "from sklearn.model_selection import GridSearchCV\n",
        "from sklearn.model_selection import cross_val_score\n",
        "from sklearn.metrics import confusion_matrix\n",
        "from pmdarima.arima import auto_arima\n",
        "from statsmodels.tsa.stattools import adfuller\n",
        "from statsmodels.tsa.arima.model import ARIMA\n",
        "\n",
        "import pickle\n",
        "import json\n",
        "\n",
        "import warnings\n",
        "warnings.filterwarnings(action='ignore')"
      ]
    },
    {
      "cell_type": "code",
      "execution_count": 2,
      "metadata": {
        "colab": {
          "base_uri": "https://localhost:8080/"
        },
        "id": "FL3csLC7HRQz",
        "outputId": "059722a6-98bb-48af-dfc7-457eb9312726"
      },
      "outputs": [
        {
          "output_type": "stream",
          "name": "stdout",
          "text": [
            "Drive already mounted at /content/drive; to attempt to forcibly remount, call drive.mount(\"/content/drive\", force_remount=True).\n"
          ]
        }
      ],
      "source": [
        "from google.colab import drive\n",
        "drive.mount('/content/drive')"
      ]
    },
    {
      "cell_type": "markdown",
      "metadata": {
        "id": "xJpp8beKa6Wv"
      },
      "source": [
        "#III. Data Loading"
      ]
    },
    {
      "cell_type": "code",
      "execution_count": 3,
      "metadata": {
        "id": "hQFadAdYiLVw"
      },
      "outputs": [],
      "source": [
        "#import data\n",
        "df = pd.read_csv('/content/drive/MyDrive/dataset/Walmart.csv')"
      ]
    },
    {
      "cell_type": "code",
      "execution_count": 4,
      "metadata": {
        "id": "ZisnpCvhijnI"
      },
      "outputs": [],
      "source": [
        "#menduplikat data agar tidak kehilangan data asli\n",
        "df_copy = df.copy()"
      ]
    },
    {
      "cell_type": "code",
      "execution_count": 5,
      "metadata": {
        "colab": {
          "base_uri": "https://localhost:8080/",
          "height": 423
        },
        "id": "uUlSfpRRikn-",
        "outputId": "74b7b1bf-758a-4e3b-aa5f-ed507aeb51fc"
      },
      "outputs": [
        {
          "output_type": "execute_result",
          "data": {
            "text/plain": [
              "      Store        Date  Weekly_Sales  Holiday_Flag  Temperature  Fuel_Price  \\\n",
              "0         1  05-02-2010    1643690.90             0        42.31       2.572   \n",
              "1         1  12-02-2010    1641957.44             1        38.51       2.548   \n",
              "2         1  19-02-2010    1611968.17             0        39.93       2.514   \n",
              "3         1  26-02-2010    1409727.59             0        46.63       2.561   \n",
              "4         1  05-03-2010    1554806.68             0        46.50       2.625   \n",
              "...     ...         ...           ...           ...          ...         ...   \n",
              "6430     45  28-09-2012     713173.95             0        64.88       3.997   \n",
              "6431     45  05-10-2012     733455.07             0        64.89       3.985   \n",
              "6432     45  12-10-2012     734464.36             0        54.47       4.000   \n",
              "6433     45  19-10-2012     718125.53             0        56.47       3.969   \n",
              "6434     45  26-10-2012     760281.43             0        58.85       3.882   \n",
              "\n",
              "             CPI  Unemployment  \n",
              "0     211.096358         8.106  \n",
              "1     211.242170         8.106  \n",
              "2     211.289143         8.106  \n",
              "3     211.319643         8.106  \n",
              "4     211.350143         8.106  \n",
              "...          ...           ...  \n",
              "6430  192.013558         8.684  \n",
              "6431  192.170412         8.667  \n",
              "6432  192.327265         8.667  \n",
              "6433  192.330854         8.667  \n",
              "6434  192.308899         8.667  \n",
              "\n",
              "[6435 rows x 8 columns]"
            ],
            "text/html": [
              "\n",
              "  <div id=\"df-8887423b-7ade-4bcd-814d-e21252398e9a\">\n",
              "    <div class=\"colab-df-container\">\n",
              "      <div>\n",
              "<style scoped>\n",
              "    .dataframe tbody tr th:only-of-type {\n",
              "        vertical-align: middle;\n",
              "    }\n",
              "\n",
              "    .dataframe tbody tr th {\n",
              "        vertical-align: top;\n",
              "    }\n",
              "\n",
              "    .dataframe thead th {\n",
              "        text-align: right;\n",
              "    }\n",
              "</style>\n",
              "<table border=\"1\" class=\"dataframe\">\n",
              "  <thead>\n",
              "    <tr style=\"text-align: right;\">\n",
              "      <th></th>\n",
              "      <th>Store</th>\n",
              "      <th>Date</th>\n",
              "      <th>Weekly_Sales</th>\n",
              "      <th>Holiday_Flag</th>\n",
              "      <th>Temperature</th>\n",
              "      <th>Fuel_Price</th>\n",
              "      <th>CPI</th>\n",
              "      <th>Unemployment</th>\n",
              "    </tr>\n",
              "  </thead>\n",
              "  <tbody>\n",
              "    <tr>\n",
              "      <th>0</th>\n",
              "      <td>1</td>\n",
              "      <td>05-02-2010</td>\n",
              "      <td>1643690.90</td>\n",
              "      <td>0</td>\n",
              "      <td>42.31</td>\n",
              "      <td>2.572</td>\n",
              "      <td>211.096358</td>\n",
              "      <td>8.106</td>\n",
              "    </tr>\n",
              "    <tr>\n",
              "      <th>1</th>\n",
              "      <td>1</td>\n",
              "      <td>12-02-2010</td>\n",
              "      <td>1641957.44</td>\n",
              "      <td>1</td>\n",
              "      <td>38.51</td>\n",
              "      <td>2.548</td>\n",
              "      <td>211.242170</td>\n",
              "      <td>8.106</td>\n",
              "    </tr>\n",
              "    <tr>\n",
              "      <th>2</th>\n",
              "      <td>1</td>\n",
              "      <td>19-02-2010</td>\n",
              "      <td>1611968.17</td>\n",
              "      <td>0</td>\n",
              "      <td>39.93</td>\n",
              "      <td>2.514</td>\n",
              "      <td>211.289143</td>\n",
              "      <td>8.106</td>\n",
              "    </tr>\n",
              "    <tr>\n",
              "      <th>3</th>\n",
              "      <td>1</td>\n",
              "      <td>26-02-2010</td>\n",
              "      <td>1409727.59</td>\n",
              "      <td>0</td>\n",
              "      <td>46.63</td>\n",
              "      <td>2.561</td>\n",
              "      <td>211.319643</td>\n",
              "      <td>8.106</td>\n",
              "    </tr>\n",
              "    <tr>\n",
              "      <th>4</th>\n",
              "      <td>1</td>\n",
              "      <td>05-03-2010</td>\n",
              "      <td>1554806.68</td>\n",
              "      <td>0</td>\n",
              "      <td>46.50</td>\n",
              "      <td>2.625</td>\n",
              "      <td>211.350143</td>\n",
              "      <td>8.106</td>\n",
              "    </tr>\n",
              "    <tr>\n",
              "      <th>...</th>\n",
              "      <td>...</td>\n",
              "      <td>...</td>\n",
              "      <td>...</td>\n",
              "      <td>...</td>\n",
              "      <td>...</td>\n",
              "      <td>...</td>\n",
              "      <td>...</td>\n",
              "      <td>...</td>\n",
              "    </tr>\n",
              "    <tr>\n",
              "      <th>6430</th>\n",
              "      <td>45</td>\n",
              "      <td>28-09-2012</td>\n",
              "      <td>713173.95</td>\n",
              "      <td>0</td>\n",
              "      <td>64.88</td>\n",
              "      <td>3.997</td>\n",
              "      <td>192.013558</td>\n",
              "      <td>8.684</td>\n",
              "    </tr>\n",
              "    <tr>\n",
              "      <th>6431</th>\n",
              "      <td>45</td>\n",
              "      <td>05-10-2012</td>\n",
              "      <td>733455.07</td>\n",
              "      <td>0</td>\n",
              "      <td>64.89</td>\n",
              "      <td>3.985</td>\n",
              "      <td>192.170412</td>\n",
              "      <td>8.667</td>\n",
              "    </tr>\n",
              "    <tr>\n",
              "      <th>6432</th>\n",
              "      <td>45</td>\n",
              "      <td>12-10-2012</td>\n",
              "      <td>734464.36</td>\n",
              "      <td>0</td>\n",
              "      <td>54.47</td>\n",
              "      <td>4.000</td>\n",
              "      <td>192.327265</td>\n",
              "      <td>8.667</td>\n",
              "    </tr>\n",
              "    <tr>\n",
              "      <th>6433</th>\n",
              "      <td>45</td>\n",
              "      <td>19-10-2012</td>\n",
              "      <td>718125.53</td>\n",
              "      <td>0</td>\n",
              "      <td>56.47</td>\n",
              "      <td>3.969</td>\n",
              "      <td>192.330854</td>\n",
              "      <td>8.667</td>\n",
              "    </tr>\n",
              "    <tr>\n",
              "      <th>6434</th>\n",
              "      <td>45</td>\n",
              "      <td>26-10-2012</td>\n",
              "      <td>760281.43</td>\n",
              "      <td>0</td>\n",
              "      <td>58.85</td>\n",
              "      <td>3.882</td>\n",
              "      <td>192.308899</td>\n",
              "      <td>8.667</td>\n",
              "    </tr>\n",
              "  </tbody>\n",
              "</table>\n",
              "<p>6435 rows × 8 columns</p>\n",
              "</div>\n",
              "      <button class=\"colab-df-convert\" onclick=\"convertToInteractive('df-8887423b-7ade-4bcd-814d-e21252398e9a')\"\n",
              "              title=\"Convert this dataframe to an interactive table.\"\n",
              "              style=\"display:none;\">\n",
              "        \n",
              "  <svg xmlns=\"http://www.w3.org/2000/svg\" height=\"24px\"viewBox=\"0 0 24 24\"\n",
              "       width=\"24px\">\n",
              "    <path d=\"M0 0h24v24H0V0z\" fill=\"none\"/>\n",
              "    <path d=\"M18.56 5.44l.94 2.06.94-2.06 2.06-.94-2.06-.94-.94-2.06-.94 2.06-2.06.94zm-11 1L8.5 8.5l.94-2.06 2.06-.94-2.06-.94L8.5 2.5l-.94 2.06-2.06.94zm10 10l.94 2.06.94-2.06 2.06-.94-2.06-.94-.94-2.06-.94 2.06-2.06.94z\"/><path d=\"M17.41 7.96l-1.37-1.37c-.4-.4-.92-.59-1.43-.59-.52 0-1.04.2-1.43.59L10.3 9.45l-7.72 7.72c-.78.78-.78 2.05 0 2.83L4 21.41c.39.39.9.59 1.41.59.51 0 1.02-.2 1.41-.59l7.78-7.78 2.81-2.81c.8-.78.8-2.07 0-2.86zM5.41 20L4 18.59l7.72-7.72 1.47 1.35L5.41 20z\"/>\n",
              "  </svg>\n",
              "      </button>\n",
              "      \n",
              "  <style>\n",
              "    .colab-df-container {\n",
              "      display:flex;\n",
              "      flex-wrap:wrap;\n",
              "      gap: 12px;\n",
              "    }\n",
              "\n",
              "    .colab-df-convert {\n",
              "      background-color: #E8F0FE;\n",
              "      border: none;\n",
              "      border-radius: 50%;\n",
              "      cursor: pointer;\n",
              "      display: none;\n",
              "      fill: #1967D2;\n",
              "      height: 32px;\n",
              "      padding: 0 0 0 0;\n",
              "      width: 32px;\n",
              "    }\n",
              "\n",
              "    .colab-df-convert:hover {\n",
              "      background-color: #E2EBFA;\n",
              "      box-shadow: 0px 1px 2px rgba(60, 64, 67, 0.3), 0px 1px 3px 1px rgba(60, 64, 67, 0.15);\n",
              "      fill: #174EA6;\n",
              "    }\n",
              "\n",
              "    [theme=dark] .colab-df-convert {\n",
              "      background-color: #3B4455;\n",
              "      fill: #D2E3FC;\n",
              "    }\n",
              "\n",
              "    [theme=dark] .colab-df-convert:hover {\n",
              "      background-color: #434B5C;\n",
              "      box-shadow: 0px 1px 3px 1px rgba(0, 0, 0, 0.15);\n",
              "      filter: drop-shadow(0px 1px 2px rgba(0, 0, 0, 0.3));\n",
              "      fill: #FFFFFF;\n",
              "    }\n",
              "  </style>\n",
              "\n",
              "      <script>\n",
              "        const buttonEl =\n",
              "          document.querySelector('#df-8887423b-7ade-4bcd-814d-e21252398e9a button.colab-df-convert');\n",
              "        buttonEl.style.display =\n",
              "          google.colab.kernel.accessAllowed ? 'block' : 'none';\n",
              "\n",
              "        async function convertToInteractive(key) {\n",
              "          const element = document.querySelector('#df-8887423b-7ade-4bcd-814d-e21252398e9a');\n",
              "          const dataTable =\n",
              "            await google.colab.kernel.invokeFunction('convertToInteractive',\n",
              "                                                     [key], {});\n",
              "          if (!dataTable) return;\n",
              "\n",
              "          const docLinkHtml = 'Like what you see? Visit the ' +\n",
              "            '<a target=\"_blank\" href=https://colab.research.google.com/notebooks/data_table.ipynb>data table notebook</a>'\n",
              "            + ' to learn more about interactive tables.';\n",
              "          element.innerHTML = '';\n",
              "          dataTable['output_type'] = 'display_data';\n",
              "          await google.colab.output.renderOutput(dataTable, element);\n",
              "          const docLink = document.createElement('div');\n",
              "          docLink.innerHTML = docLinkHtml;\n",
              "          element.appendChild(docLink);\n",
              "        }\n",
              "      </script>\n",
              "    </div>\n",
              "  </div>\n",
              "  "
            ]
          },
          "metadata": {},
          "execution_count": 5
        }
      ],
      "source": [
        "#show data\n",
        "df"
      ]
    },
    {
      "cell_type": "code",
      "execution_count": 6,
      "metadata": {
        "colab": {
          "base_uri": "https://localhost:8080/",
          "height": 363
        },
        "id": "hjizbYPHimOG",
        "outputId": "97a12e98-4fbd-413d-c9dd-b73207528a86"
      },
      "outputs": [
        {
          "output_type": "execute_result",
          "data": {
            "text/plain": [
              "   Store        Date  Weekly_Sales  Holiday_Flag  Temperature  Fuel_Price  \\\n",
              "0      1  05-02-2010    1643690.90             0        42.31       2.572   \n",
              "1      1  12-02-2010    1641957.44             1        38.51       2.548   \n",
              "2      1  19-02-2010    1611968.17             0        39.93       2.514   \n",
              "3      1  26-02-2010    1409727.59             0        46.63       2.561   \n",
              "4      1  05-03-2010    1554806.68             0        46.50       2.625   \n",
              "5      1  12-03-2010    1439541.59             0        57.79       2.667   \n",
              "6      1  19-03-2010    1472515.79             0        54.58       2.720   \n",
              "7      1  26-03-2010    1404429.92             0        51.45       2.732   \n",
              "8      1  02-04-2010    1594968.28             0        62.27       2.719   \n",
              "9      1  09-04-2010    1545418.53             0        65.86       2.770   \n",
              "\n",
              "          CPI  Unemployment  \n",
              "0  211.096358         8.106  \n",
              "1  211.242170         8.106  \n",
              "2  211.289143         8.106  \n",
              "3  211.319643         8.106  \n",
              "4  211.350143         8.106  \n",
              "5  211.380643         8.106  \n",
              "6  211.215635         8.106  \n",
              "7  211.018042         8.106  \n",
              "8  210.820450         7.808  \n",
              "9  210.622857         7.808  "
            ],
            "text/html": [
              "\n",
              "  <div id=\"df-8104a275-c87c-45ef-95e9-9d941010fafc\">\n",
              "    <div class=\"colab-df-container\">\n",
              "      <div>\n",
              "<style scoped>\n",
              "    .dataframe tbody tr th:only-of-type {\n",
              "        vertical-align: middle;\n",
              "    }\n",
              "\n",
              "    .dataframe tbody tr th {\n",
              "        vertical-align: top;\n",
              "    }\n",
              "\n",
              "    .dataframe thead th {\n",
              "        text-align: right;\n",
              "    }\n",
              "</style>\n",
              "<table border=\"1\" class=\"dataframe\">\n",
              "  <thead>\n",
              "    <tr style=\"text-align: right;\">\n",
              "      <th></th>\n",
              "      <th>Store</th>\n",
              "      <th>Date</th>\n",
              "      <th>Weekly_Sales</th>\n",
              "      <th>Holiday_Flag</th>\n",
              "      <th>Temperature</th>\n",
              "      <th>Fuel_Price</th>\n",
              "      <th>CPI</th>\n",
              "      <th>Unemployment</th>\n",
              "    </tr>\n",
              "  </thead>\n",
              "  <tbody>\n",
              "    <tr>\n",
              "      <th>0</th>\n",
              "      <td>1</td>\n",
              "      <td>05-02-2010</td>\n",
              "      <td>1643690.90</td>\n",
              "      <td>0</td>\n",
              "      <td>42.31</td>\n",
              "      <td>2.572</td>\n",
              "      <td>211.096358</td>\n",
              "      <td>8.106</td>\n",
              "    </tr>\n",
              "    <tr>\n",
              "      <th>1</th>\n",
              "      <td>1</td>\n",
              "      <td>12-02-2010</td>\n",
              "      <td>1641957.44</td>\n",
              "      <td>1</td>\n",
              "      <td>38.51</td>\n",
              "      <td>2.548</td>\n",
              "      <td>211.242170</td>\n",
              "      <td>8.106</td>\n",
              "    </tr>\n",
              "    <tr>\n",
              "      <th>2</th>\n",
              "      <td>1</td>\n",
              "      <td>19-02-2010</td>\n",
              "      <td>1611968.17</td>\n",
              "      <td>0</td>\n",
              "      <td>39.93</td>\n",
              "      <td>2.514</td>\n",
              "      <td>211.289143</td>\n",
              "      <td>8.106</td>\n",
              "    </tr>\n",
              "    <tr>\n",
              "      <th>3</th>\n",
              "      <td>1</td>\n",
              "      <td>26-02-2010</td>\n",
              "      <td>1409727.59</td>\n",
              "      <td>0</td>\n",
              "      <td>46.63</td>\n",
              "      <td>2.561</td>\n",
              "      <td>211.319643</td>\n",
              "      <td>8.106</td>\n",
              "    </tr>\n",
              "    <tr>\n",
              "      <th>4</th>\n",
              "      <td>1</td>\n",
              "      <td>05-03-2010</td>\n",
              "      <td>1554806.68</td>\n",
              "      <td>0</td>\n",
              "      <td>46.50</td>\n",
              "      <td>2.625</td>\n",
              "      <td>211.350143</td>\n",
              "      <td>8.106</td>\n",
              "    </tr>\n",
              "    <tr>\n",
              "      <th>5</th>\n",
              "      <td>1</td>\n",
              "      <td>12-03-2010</td>\n",
              "      <td>1439541.59</td>\n",
              "      <td>0</td>\n",
              "      <td>57.79</td>\n",
              "      <td>2.667</td>\n",
              "      <td>211.380643</td>\n",
              "      <td>8.106</td>\n",
              "    </tr>\n",
              "    <tr>\n",
              "      <th>6</th>\n",
              "      <td>1</td>\n",
              "      <td>19-03-2010</td>\n",
              "      <td>1472515.79</td>\n",
              "      <td>0</td>\n",
              "      <td>54.58</td>\n",
              "      <td>2.720</td>\n",
              "      <td>211.215635</td>\n",
              "      <td>8.106</td>\n",
              "    </tr>\n",
              "    <tr>\n",
              "      <th>7</th>\n",
              "      <td>1</td>\n",
              "      <td>26-03-2010</td>\n",
              "      <td>1404429.92</td>\n",
              "      <td>0</td>\n",
              "      <td>51.45</td>\n",
              "      <td>2.732</td>\n",
              "      <td>211.018042</td>\n",
              "      <td>8.106</td>\n",
              "    </tr>\n",
              "    <tr>\n",
              "      <th>8</th>\n",
              "      <td>1</td>\n",
              "      <td>02-04-2010</td>\n",
              "      <td>1594968.28</td>\n",
              "      <td>0</td>\n",
              "      <td>62.27</td>\n",
              "      <td>2.719</td>\n",
              "      <td>210.820450</td>\n",
              "      <td>7.808</td>\n",
              "    </tr>\n",
              "    <tr>\n",
              "      <th>9</th>\n",
              "      <td>1</td>\n",
              "      <td>09-04-2010</td>\n",
              "      <td>1545418.53</td>\n",
              "      <td>0</td>\n",
              "      <td>65.86</td>\n",
              "      <td>2.770</td>\n",
              "      <td>210.622857</td>\n",
              "      <td>7.808</td>\n",
              "    </tr>\n",
              "  </tbody>\n",
              "</table>\n",
              "</div>\n",
              "      <button class=\"colab-df-convert\" onclick=\"convertToInteractive('df-8104a275-c87c-45ef-95e9-9d941010fafc')\"\n",
              "              title=\"Convert this dataframe to an interactive table.\"\n",
              "              style=\"display:none;\">\n",
              "        \n",
              "  <svg xmlns=\"http://www.w3.org/2000/svg\" height=\"24px\"viewBox=\"0 0 24 24\"\n",
              "       width=\"24px\">\n",
              "    <path d=\"M0 0h24v24H0V0z\" fill=\"none\"/>\n",
              "    <path d=\"M18.56 5.44l.94 2.06.94-2.06 2.06-.94-2.06-.94-.94-2.06-.94 2.06-2.06.94zm-11 1L8.5 8.5l.94-2.06 2.06-.94-2.06-.94L8.5 2.5l-.94 2.06-2.06.94zm10 10l.94 2.06.94-2.06 2.06-.94-2.06-.94-.94-2.06-.94 2.06-2.06.94z\"/><path d=\"M17.41 7.96l-1.37-1.37c-.4-.4-.92-.59-1.43-.59-.52 0-1.04.2-1.43.59L10.3 9.45l-7.72 7.72c-.78.78-.78 2.05 0 2.83L4 21.41c.39.39.9.59 1.41.59.51 0 1.02-.2 1.41-.59l7.78-7.78 2.81-2.81c.8-.78.8-2.07 0-2.86zM5.41 20L4 18.59l7.72-7.72 1.47 1.35L5.41 20z\"/>\n",
              "  </svg>\n",
              "      </button>\n",
              "      \n",
              "  <style>\n",
              "    .colab-df-container {\n",
              "      display:flex;\n",
              "      flex-wrap:wrap;\n",
              "      gap: 12px;\n",
              "    }\n",
              "\n",
              "    .colab-df-convert {\n",
              "      background-color: #E8F0FE;\n",
              "      border: none;\n",
              "      border-radius: 50%;\n",
              "      cursor: pointer;\n",
              "      display: none;\n",
              "      fill: #1967D2;\n",
              "      height: 32px;\n",
              "      padding: 0 0 0 0;\n",
              "      width: 32px;\n",
              "    }\n",
              "\n",
              "    .colab-df-convert:hover {\n",
              "      background-color: #E2EBFA;\n",
              "      box-shadow: 0px 1px 2px rgba(60, 64, 67, 0.3), 0px 1px 3px 1px rgba(60, 64, 67, 0.15);\n",
              "      fill: #174EA6;\n",
              "    }\n",
              "\n",
              "    [theme=dark] .colab-df-convert {\n",
              "      background-color: #3B4455;\n",
              "      fill: #D2E3FC;\n",
              "    }\n",
              "\n",
              "    [theme=dark] .colab-df-convert:hover {\n",
              "      background-color: #434B5C;\n",
              "      box-shadow: 0px 1px 3px 1px rgba(0, 0, 0, 0.15);\n",
              "      filter: drop-shadow(0px 1px 2px rgba(0, 0, 0, 0.3));\n",
              "      fill: #FFFFFF;\n",
              "    }\n",
              "  </style>\n",
              "\n",
              "      <script>\n",
              "        const buttonEl =\n",
              "          document.querySelector('#df-8104a275-c87c-45ef-95e9-9d941010fafc button.colab-df-convert');\n",
              "        buttonEl.style.display =\n",
              "          google.colab.kernel.accessAllowed ? 'block' : 'none';\n",
              "\n",
              "        async function convertToInteractive(key) {\n",
              "          const element = document.querySelector('#df-8104a275-c87c-45ef-95e9-9d941010fafc');\n",
              "          const dataTable =\n",
              "            await google.colab.kernel.invokeFunction('convertToInteractive',\n",
              "                                                     [key], {});\n",
              "          if (!dataTable) return;\n",
              "\n",
              "          const docLinkHtml = 'Like what you see? Visit the ' +\n",
              "            '<a target=\"_blank\" href=https://colab.research.google.com/notebooks/data_table.ipynb>data table notebook</a>'\n",
              "            + ' to learn more about interactive tables.';\n",
              "          element.innerHTML = '';\n",
              "          dataTable['output_type'] = 'display_data';\n",
              "          await google.colab.output.renderOutput(dataTable, element);\n",
              "          const docLink = document.createElement('div');\n",
              "          docLink.innerHTML = docLinkHtml;\n",
              "          element.appendChild(docLink);\n",
              "        }\n",
              "      </script>\n",
              "    </div>\n",
              "  </div>\n",
              "  "
            ]
          },
          "metadata": {},
          "execution_count": 6
        }
      ],
      "source": [
        "#melihat 10 data pertama\n",
        "df.head(10)"
      ]
    },
    {
      "cell_type": "code",
      "execution_count": 7,
      "metadata": {
        "colab": {
          "base_uri": "https://localhost:8080/",
          "height": 363
        },
        "id": "2hPUZ_QIsU-7",
        "outputId": "01d80940-0d6a-4a0f-a2cb-c71321b9e1cb"
      },
      "outputs": [
        {
          "output_type": "execute_result",
          "data": {
            "text/plain": [
              "      Store        Date  Weekly_Sales  Holiday_Flag  Temperature  Fuel_Price  \\\n",
              "6425     45  24-08-2012     718232.26             0        72.62       3.834   \n",
              "6426     45  31-08-2012     734297.87             0        75.09       3.867   \n",
              "6427     45  07-09-2012     766512.66             1        75.70       3.911   \n",
              "6428     45  14-09-2012     702238.27             0        67.87       3.948   \n",
              "6429     45  21-09-2012     723086.20             0        65.32       4.038   \n",
              "6430     45  28-09-2012     713173.95             0        64.88       3.997   \n",
              "6431     45  05-10-2012     733455.07             0        64.89       3.985   \n",
              "6432     45  12-10-2012     734464.36             0        54.47       4.000   \n",
              "6433     45  19-10-2012     718125.53             0        56.47       3.969   \n",
              "6434     45  26-10-2012     760281.43             0        58.85       3.882   \n",
              "\n",
              "             CPI  Unemployment  \n",
              "6425  191.344887         8.684  \n",
              "6426  191.461281         8.684  \n",
              "6427  191.577676         8.684  \n",
              "6428  191.699850         8.684  \n",
              "6429  191.856704         8.684  \n",
              "6430  192.013558         8.684  \n",
              "6431  192.170412         8.667  \n",
              "6432  192.327265         8.667  \n",
              "6433  192.330854         8.667  \n",
              "6434  192.308899         8.667  "
            ],
            "text/html": [
              "\n",
              "  <div id=\"df-d5ab2fd3-dc1e-4b3a-bf1a-01bb7e5c6dc0\">\n",
              "    <div class=\"colab-df-container\">\n",
              "      <div>\n",
              "<style scoped>\n",
              "    .dataframe tbody tr th:only-of-type {\n",
              "        vertical-align: middle;\n",
              "    }\n",
              "\n",
              "    .dataframe tbody tr th {\n",
              "        vertical-align: top;\n",
              "    }\n",
              "\n",
              "    .dataframe thead th {\n",
              "        text-align: right;\n",
              "    }\n",
              "</style>\n",
              "<table border=\"1\" class=\"dataframe\">\n",
              "  <thead>\n",
              "    <tr style=\"text-align: right;\">\n",
              "      <th></th>\n",
              "      <th>Store</th>\n",
              "      <th>Date</th>\n",
              "      <th>Weekly_Sales</th>\n",
              "      <th>Holiday_Flag</th>\n",
              "      <th>Temperature</th>\n",
              "      <th>Fuel_Price</th>\n",
              "      <th>CPI</th>\n",
              "      <th>Unemployment</th>\n",
              "    </tr>\n",
              "  </thead>\n",
              "  <tbody>\n",
              "    <tr>\n",
              "      <th>6425</th>\n",
              "      <td>45</td>\n",
              "      <td>24-08-2012</td>\n",
              "      <td>718232.26</td>\n",
              "      <td>0</td>\n",
              "      <td>72.62</td>\n",
              "      <td>3.834</td>\n",
              "      <td>191.344887</td>\n",
              "      <td>8.684</td>\n",
              "    </tr>\n",
              "    <tr>\n",
              "      <th>6426</th>\n",
              "      <td>45</td>\n",
              "      <td>31-08-2012</td>\n",
              "      <td>734297.87</td>\n",
              "      <td>0</td>\n",
              "      <td>75.09</td>\n",
              "      <td>3.867</td>\n",
              "      <td>191.461281</td>\n",
              "      <td>8.684</td>\n",
              "    </tr>\n",
              "    <tr>\n",
              "      <th>6427</th>\n",
              "      <td>45</td>\n",
              "      <td>07-09-2012</td>\n",
              "      <td>766512.66</td>\n",
              "      <td>1</td>\n",
              "      <td>75.70</td>\n",
              "      <td>3.911</td>\n",
              "      <td>191.577676</td>\n",
              "      <td>8.684</td>\n",
              "    </tr>\n",
              "    <tr>\n",
              "      <th>6428</th>\n",
              "      <td>45</td>\n",
              "      <td>14-09-2012</td>\n",
              "      <td>702238.27</td>\n",
              "      <td>0</td>\n",
              "      <td>67.87</td>\n",
              "      <td>3.948</td>\n",
              "      <td>191.699850</td>\n",
              "      <td>8.684</td>\n",
              "    </tr>\n",
              "    <tr>\n",
              "      <th>6429</th>\n",
              "      <td>45</td>\n",
              "      <td>21-09-2012</td>\n",
              "      <td>723086.20</td>\n",
              "      <td>0</td>\n",
              "      <td>65.32</td>\n",
              "      <td>4.038</td>\n",
              "      <td>191.856704</td>\n",
              "      <td>8.684</td>\n",
              "    </tr>\n",
              "    <tr>\n",
              "      <th>6430</th>\n",
              "      <td>45</td>\n",
              "      <td>28-09-2012</td>\n",
              "      <td>713173.95</td>\n",
              "      <td>0</td>\n",
              "      <td>64.88</td>\n",
              "      <td>3.997</td>\n",
              "      <td>192.013558</td>\n",
              "      <td>8.684</td>\n",
              "    </tr>\n",
              "    <tr>\n",
              "      <th>6431</th>\n",
              "      <td>45</td>\n",
              "      <td>05-10-2012</td>\n",
              "      <td>733455.07</td>\n",
              "      <td>0</td>\n",
              "      <td>64.89</td>\n",
              "      <td>3.985</td>\n",
              "      <td>192.170412</td>\n",
              "      <td>8.667</td>\n",
              "    </tr>\n",
              "    <tr>\n",
              "      <th>6432</th>\n",
              "      <td>45</td>\n",
              "      <td>12-10-2012</td>\n",
              "      <td>734464.36</td>\n",
              "      <td>0</td>\n",
              "      <td>54.47</td>\n",
              "      <td>4.000</td>\n",
              "      <td>192.327265</td>\n",
              "      <td>8.667</td>\n",
              "    </tr>\n",
              "    <tr>\n",
              "      <th>6433</th>\n",
              "      <td>45</td>\n",
              "      <td>19-10-2012</td>\n",
              "      <td>718125.53</td>\n",
              "      <td>0</td>\n",
              "      <td>56.47</td>\n",
              "      <td>3.969</td>\n",
              "      <td>192.330854</td>\n",
              "      <td>8.667</td>\n",
              "    </tr>\n",
              "    <tr>\n",
              "      <th>6434</th>\n",
              "      <td>45</td>\n",
              "      <td>26-10-2012</td>\n",
              "      <td>760281.43</td>\n",
              "      <td>0</td>\n",
              "      <td>58.85</td>\n",
              "      <td>3.882</td>\n",
              "      <td>192.308899</td>\n",
              "      <td>8.667</td>\n",
              "    </tr>\n",
              "  </tbody>\n",
              "</table>\n",
              "</div>\n",
              "      <button class=\"colab-df-convert\" onclick=\"convertToInteractive('df-d5ab2fd3-dc1e-4b3a-bf1a-01bb7e5c6dc0')\"\n",
              "              title=\"Convert this dataframe to an interactive table.\"\n",
              "              style=\"display:none;\">\n",
              "        \n",
              "  <svg xmlns=\"http://www.w3.org/2000/svg\" height=\"24px\"viewBox=\"0 0 24 24\"\n",
              "       width=\"24px\">\n",
              "    <path d=\"M0 0h24v24H0V0z\" fill=\"none\"/>\n",
              "    <path d=\"M18.56 5.44l.94 2.06.94-2.06 2.06-.94-2.06-.94-.94-2.06-.94 2.06-2.06.94zm-11 1L8.5 8.5l.94-2.06 2.06-.94-2.06-.94L8.5 2.5l-.94 2.06-2.06.94zm10 10l.94 2.06.94-2.06 2.06-.94-2.06-.94-.94-2.06-.94 2.06-2.06.94z\"/><path d=\"M17.41 7.96l-1.37-1.37c-.4-.4-.92-.59-1.43-.59-.52 0-1.04.2-1.43.59L10.3 9.45l-7.72 7.72c-.78.78-.78 2.05 0 2.83L4 21.41c.39.39.9.59 1.41.59.51 0 1.02-.2 1.41-.59l7.78-7.78 2.81-2.81c.8-.78.8-2.07 0-2.86zM5.41 20L4 18.59l7.72-7.72 1.47 1.35L5.41 20z\"/>\n",
              "  </svg>\n",
              "      </button>\n",
              "      \n",
              "  <style>\n",
              "    .colab-df-container {\n",
              "      display:flex;\n",
              "      flex-wrap:wrap;\n",
              "      gap: 12px;\n",
              "    }\n",
              "\n",
              "    .colab-df-convert {\n",
              "      background-color: #E8F0FE;\n",
              "      border: none;\n",
              "      border-radius: 50%;\n",
              "      cursor: pointer;\n",
              "      display: none;\n",
              "      fill: #1967D2;\n",
              "      height: 32px;\n",
              "      padding: 0 0 0 0;\n",
              "      width: 32px;\n",
              "    }\n",
              "\n",
              "    .colab-df-convert:hover {\n",
              "      background-color: #E2EBFA;\n",
              "      box-shadow: 0px 1px 2px rgba(60, 64, 67, 0.3), 0px 1px 3px 1px rgba(60, 64, 67, 0.15);\n",
              "      fill: #174EA6;\n",
              "    }\n",
              "\n",
              "    [theme=dark] .colab-df-convert {\n",
              "      background-color: #3B4455;\n",
              "      fill: #D2E3FC;\n",
              "    }\n",
              "\n",
              "    [theme=dark] .colab-df-convert:hover {\n",
              "      background-color: #434B5C;\n",
              "      box-shadow: 0px 1px 3px 1px rgba(0, 0, 0, 0.15);\n",
              "      filter: drop-shadow(0px 1px 2px rgba(0, 0, 0, 0.3));\n",
              "      fill: #FFFFFF;\n",
              "    }\n",
              "  </style>\n",
              "\n",
              "      <script>\n",
              "        const buttonEl =\n",
              "          document.querySelector('#df-d5ab2fd3-dc1e-4b3a-bf1a-01bb7e5c6dc0 button.colab-df-convert');\n",
              "        buttonEl.style.display =\n",
              "          google.colab.kernel.accessAllowed ? 'block' : 'none';\n",
              "\n",
              "        async function convertToInteractive(key) {\n",
              "          const element = document.querySelector('#df-d5ab2fd3-dc1e-4b3a-bf1a-01bb7e5c6dc0');\n",
              "          const dataTable =\n",
              "            await google.colab.kernel.invokeFunction('convertToInteractive',\n",
              "                                                     [key], {});\n",
              "          if (!dataTable) return;\n",
              "\n",
              "          const docLinkHtml = 'Like what you see? Visit the ' +\n",
              "            '<a target=\"_blank\" href=https://colab.research.google.com/notebooks/data_table.ipynb>data table notebook</a>'\n",
              "            + ' to learn more about interactive tables.';\n",
              "          element.innerHTML = '';\n",
              "          dataTable['output_type'] = 'display_data';\n",
              "          await google.colab.output.renderOutput(dataTable, element);\n",
              "          const docLink = document.createElement('div');\n",
              "          docLink.innerHTML = docLinkHtml;\n",
              "          element.appendChild(docLink);\n",
              "        }\n",
              "      </script>\n",
              "    </div>\n",
              "  </div>\n",
              "  "
            ]
          },
          "metadata": {},
          "execution_count": 7
        }
      ],
      "source": [
        "#melihat 10 data terakhir\n",
        "df.tail(10)"
      ]
    },
    {
      "cell_type": "code",
      "execution_count": 8,
      "metadata": {
        "colab": {
          "base_uri": "https://localhost:8080/"
        },
        "id": "MRsI8Hi_sW0X",
        "outputId": "6a7cbf7e-f3e1-4a82-cbac-560508421d8e"
      },
      "outputs": [
        {
          "output_type": "stream",
          "name": "stdout",
          "text": [
            "<class 'pandas.core.frame.DataFrame'>\n",
            "RangeIndex: 6435 entries, 0 to 6434\n",
            "Data columns (total 8 columns):\n",
            " #   Column        Non-Null Count  Dtype  \n",
            "---  ------        --------------  -----  \n",
            " 0   Store         6435 non-null   int64  \n",
            " 1   Date          6435 non-null   object \n",
            " 2   Weekly_Sales  6435 non-null   float64\n",
            " 3   Holiday_Flag  6435 non-null   int64  \n",
            " 4   Temperature   6435 non-null   float64\n",
            " 5   Fuel_Price    6435 non-null   float64\n",
            " 6   CPI           6435 non-null   float64\n",
            " 7   Unemployment  6435 non-null   float64\n",
            "dtypes: float64(5), int64(2), object(1)\n",
            "memory usage: 402.3+ KB\n"
          ]
        }
      ],
      "source": [
        "#melihat info data\n",
        "df.info()"
      ]
    },
    {
      "cell_type": "markdown",
      "metadata": {
        "id": "sLn7r30jWjs4"
      },
      "source": [
        "dataset walmart memiliki 8 kolom dengan 6435 baris. Kolom-kolom tersebut meliputi:\n",
        "\n",
        "- Store: nomor toko tempat penjualan terjadi\n",
        "- Date: tanggal penjualan\n",
        "- Weekly_Sales: total penjualan mingguan\n",
        "- Holiday_Flag: menandakan apakah tanggal penjualan merupakan hari libur atau tidak\n",
        "- Temperature: suhu rata-rata pada tanggal penjualan\n",
        "- Fuel_Price: harga rata-rata bahan bakar pada tanggal penjualan\n",
        "- CPI: Consumer Price Index pada tanggal penjualan\n",
        "- Unemployment: tingkat pengangguran pada tanggal penjualan"
      ]
    },
    {
      "cell_type": "code",
      "execution_count": 9,
      "metadata": {
        "colab": {
          "base_uri": "https://localhost:8080/",
          "height": 300
        },
        "id": "t11Hv0afsZP-",
        "outputId": "9384bcf0-daaf-4f66-d644-cd43a7a9bdb5"
      },
      "outputs": [
        {
          "output_type": "execute_result",
          "data": {
            "text/plain": [
              "             Store  Weekly_Sales  Holiday_Flag  Temperature   Fuel_Price  \\\n",
              "count  6435.000000  6.435000e+03   6435.000000  6435.000000  6435.000000   \n",
              "mean     23.000000  1.046965e+06      0.069930    60.663782     3.358607   \n",
              "std      12.988182  5.643666e+05      0.255049    18.444933     0.459020   \n",
              "min       1.000000  2.099862e+05      0.000000    -2.060000     2.472000   \n",
              "25%      12.000000  5.533501e+05      0.000000    47.460000     2.933000   \n",
              "50%      23.000000  9.607460e+05      0.000000    62.670000     3.445000   \n",
              "75%      34.000000  1.420159e+06      0.000000    74.940000     3.735000   \n",
              "max      45.000000  3.818686e+06      1.000000   100.140000     4.468000   \n",
              "\n",
              "               CPI  Unemployment  \n",
              "count  6435.000000   6435.000000  \n",
              "mean    171.578394      7.999151  \n",
              "std      39.356712      1.875885  \n",
              "min     126.064000      3.879000  \n",
              "25%     131.735000      6.891000  \n",
              "50%     182.616521      7.874000  \n",
              "75%     212.743293      8.622000  \n",
              "max     227.232807     14.313000  "
            ],
            "text/html": [
              "\n",
              "  <div id=\"df-dc9fa118-dd23-4823-8fda-ed46598a586f\">\n",
              "    <div class=\"colab-df-container\">\n",
              "      <div>\n",
              "<style scoped>\n",
              "    .dataframe tbody tr th:only-of-type {\n",
              "        vertical-align: middle;\n",
              "    }\n",
              "\n",
              "    .dataframe tbody tr th {\n",
              "        vertical-align: top;\n",
              "    }\n",
              "\n",
              "    .dataframe thead th {\n",
              "        text-align: right;\n",
              "    }\n",
              "</style>\n",
              "<table border=\"1\" class=\"dataframe\">\n",
              "  <thead>\n",
              "    <tr style=\"text-align: right;\">\n",
              "      <th></th>\n",
              "      <th>Store</th>\n",
              "      <th>Weekly_Sales</th>\n",
              "      <th>Holiday_Flag</th>\n",
              "      <th>Temperature</th>\n",
              "      <th>Fuel_Price</th>\n",
              "      <th>CPI</th>\n",
              "      <th>Unemployment</th>\n",
              "    </tr>\n",
              "  </thead>\n",
              "  <tbody>\n",
              "    <tr>\n",
              "      <th>count</th>\n",
              "      <td>6435.000000</td>\n",
              "      <td>6.435000e+03</td>\n",
              "      <td>6435.000000</td>\n",
              "      <td>6435.000000</td>\n",
              "      <td>6435.000000</td>\n",
              "      <td>6435.000000</td>\n",
              "      <td>6435.000000</td>\n",
              "    </tr>\n",
              "    <tr>\n",
              "      <th>mean</th>\n",
              "      <td>23.000000</td>\n",
              "      <td>1.046965e+06</td>\n",
              "      <td>0.069930</td>\n",
              "      <td>60.663782</td>\n",
              "      <td>3.358607</td>\n",
              "      <td>171.578394</td>\n",
              "      <td>7.999151</td>\n",
              "    </tr>\n",
              "    <tr>\n",
              "      <th>std</th>\n",
              "      <td>12.988182</td>\n",
              "      <td>5.643666e+05</td>\n",
              "      <td>0.255049</td>\n",
              "      <td>18.444933</td>\n",
              "      <td>0.459020</td>\n",
              "      <td>39.356712</td>\n",
              "      <td>1.875885</td>\n",
              "    </tr>\n",
              "    <tr>\n",
              "      <th>min</th>\n",
              "      <td>1.000000</td>\n",
              "      <td>2.099862e+05</td>\n",
              "      <td>0.000000</td>\n",
              "      <td>-2.060000</td>\n",
              "      <td>2.472000</td>\n",
              "      <td>126.064000</td>\n",
              "      <td>3.879000</td>\n",
              "    </tr>\n",
              "    <tr>\n",
              "      <th>25%</th>\n",
              "      <td>12.000000</td>\n",
              "      <td>5.533501e+05</td>\n",
              "      <td>0.000000</td>\n",
              "      <td>47.460000</td>\n",
              "      <td>2.933000</td>\n",
              "      <td>131.735000</td>\n",
              "      <td>6.891000</td>\n",
              "    </tr>\n",
              "    <tr>\n",
              "      <th>50%</th>\n",
              "      <td>23.000000</td>\n",
              "      <td>9.607460e+05</td>\n",
              "      <td>0.000000</td>\n",
              "      <td>62.670000</td>\n",
              "      <td>3.445000</td>\n",
              "      <td>182.616521</td>\n",
              "      <td>7.874000</td>\n",
              "    </tr>\n",
              "    <tr>\n",
              "      <th>75%</th>\n",
              "      <td>34.000000</td>\n",
              "      <td>1.420159e+06</td>\n",
              "      <td>0.000000</td>\n",
              "      <td>74.940000</td>\n",
              "      <td>3.735000</td>\n",
              "      <td>212.743293</td>\n",
              "      <td>8.622000</td>\n",
              "    </tr>\n",
              "    <tr>\n",
              "      <th>max</th>\n",
              "      <td>45.000000</td>\n",
              "      <td>3.818686e+06</td>\n",
              "      <td>1.000000</td>\n",
              "      <td>100.140000</td>\n",
              "      <td>4.468000</td>\n",
              "      <td>227.232807</td>\n",
              "      <td>14.313000</td>\n",
              "    </tr>\n",
              "  </tbody>\n",
              "</table>\n",
              "</div>\n",
              "      <button class=\"colab-df-convert\" onclick=\"convertToInteractive('df-dc9fa118-dd23-4823-8fda-ed46598a586f')\"\n",
              "              title=\"Convert this dataframe to an interactive table.\"\n",
              "              style=\"display:none;\">\n",
              "        \n",
              "  <svg xmlns=\"http://www.w3.org/2000/svg\" height=\"24px\"viewBox=\"0 0 24 24\"\n",
              "       width=\"24px\">\n",
              "    <path d=\"M0 0h24v24H0V0z\" fill=\"none\"/>\n",
              "    <path d=\"M18.56 5.44l.94 2.06.94-2.06 2.06-.94-2.06-.94-.94-2.06-.94 2.06-2.06.94zm-11 1L8.5 8.5l.94-2.06 2.06-.94-2.06-.94L8.5 2.5l-.94 2.06-2.06.94zm10 10l.94 2.06.94-2.06 2.06-.94-2.06-.94-.94-2.06-.94 2.06-2.06.94z\"/><path d=\"M17.41 7.96l-1.37-1.37c-.4-.4-.92-.59-1.43-.59-.52 0-1.04.2-1.43.59L10.3 9.45l-7.72 7.72c-.78.78-.78 2.05 0 2.83L4 21.41c.39.39.9.59 1.41.59.51 0 1.02-.2 1.41-.59l7.78-7.78 2.81-2.81c.8-.78.8-2.07 0-2.86zM5.41 20L4 18.59l7.72-7.72 1.47 1.35L5.41 20z\"/>\n",
              "  </svg>\n",
              "      </button>\n",
              "      \n",
              "  <style>\n",
              "    .colab-df-container {\n",
              "      display:flex;\n",
              "      flex-wrap:wrap;\n",
              "      gap: 12px;\n",
              "    }\n",
              "\n",
              "    .colab-df-convert {\n",
              "      background-color: #E8F0FE;\n",
              "      border: none;\n",
              "      border-radius: 50%;\n",
              "      cursor: pointer;\n",
              "      display: none;\n",
              "      fill: #1967D2;\n",
              "      height: 32px;\n",
              "      padding: 0 0 0 0;\n",
              "      width: 32px;\n",
              "    }\n",
              "\n",
              "    .colab-df-convert:hover {\n",
              "      background-color: #E2EBFA;\n",
              "      box-shadow: 0px 1px 2px rgba(60, 64, 67, 0.3), 0px 1px 3px 1px rgba(60, 64, 67, 0.15);\n",
              "      fill: #174EA6;\n",
              "    }\n",
              "\n",
              "    [theme=dark] .colab-df-convert {\n",
              "      background-color: #3B4455;\n",
              "      fill: #D2E3FC;\n",
              "    }\n",
              "\n",
              "    [theme=dark] .colab-df-convert:hover {\n",
              "      background-color: #434B5C;\n",
              "      box-shadow: 0px 1px 3px 1px rgba(0, 0, 0, 0.15);\n",
              "      filter: drop-shadow(0px 1px 2px rgba(0, 0, 0, 0.3));\n",
              "      fill: #FFFFFF;\n",
              "    }\n",
              "  </style>\n",
              "\n",
              "      <script>\n",
              "        const buttonEl =\n",
              "          document.querySelector('#df-dc9fa118-dd23-4823-8fda-ed46598a586f button.colab-df-convert');\n",
              "        buttonEl.style.display =\n",
              "          google.colab.kernel.accessAllowed ? 'block' : 'none';\n",
              "\n",
              "        async function convertToInteractive(key) {\n",
              "          const element = document.querySelector('#df-dc9fa118-dd23-4823-8fda-ed46598a586f');\n",
              "          const dataTable =\n",
              "            await google.colab.kernel.invokeFunction('convertToInteractive',\n",
              "                                                     [key], {});\n",
              "          if (!dataTable) return;\n",
              "\n",
              "          const docLinkHtml = 'Like what you see? Visit the ' +\n",
              "            '<a target=\"_blank\" href=https://colab.research.google.com/notebooks/data_table.ipynb>data table notebook</a>'\n",
              "            + ' to learn more about interactive tables.';\n",
              "          element.innerHTML = '';\n",
              "          dataTable['output_type'] = 'display_data';\n",
              "          await google.colab.output.renderOutput(dataTable, element);\n",
              "          const docLink = document.createElement('div');\n",
              "          docLink.innerHTML = docLinkHtml;\n",
              "          element.appendChild(docLink);\n",
              "        }\n",
              "      </script>\n",
              "    </div>\n",
              "  </div>\n",
              "  "
            ]
          },
          "metadata": {},
          "execution_count": 9
        }
      ],
      "source": [
        "#deskripstif analisis\n",
        "df.describe()"
      ]
    },
    {
      "cell_type": "markdown",
      "metadata": {
        "id": "j941x6w0Qnkk"
      },
      "source": [
        "- terdapat 6435 data yang merupakan penjualan mingguan (Weekly Sales) pada 45 toko (Store) selama beberapa tahun. \n",
        "\n",
        "- Rata-rata penjualan mingguan pada seluruh toko adalah sekitar 1,046,965 dengan standar deviasi sekitar 564,366. Penjualan mingguan paling rendah sekitar 209,986 dan penjualan mingguan tertinggi mencapai 3,818,686. \n",
        "\n",
        "- Terdapat 6 kolom data lainnya yaitu Holiday_Flag (0 untuk hari biasa dan 1 untuk hari libur), Temperature, Fuel_Price, CPI (Consumer Price Index), dan Unemployment (tingkat pengangguran). \n",
        "\n",
        "- Dari kolom tersebut, terlihat bahwa toko-toko tersebut terletak di daerah yang memiliki suhu rata-rata sekitar 60,66 derajat dan harga bahan bakar sekitar 3,36 dolar AS per liter. \n",
        "\n",
        "- Nilai rata-rata CPI (Consumer Price Index) di daerah tersebut adalah 171,58 dan tingkat pengangguran rata-rata sekitar 7,99%."
      ]
    },
    {
      "cell_type": "markdown",
      "metadata": {
        "id": "7aMUQ0NALAyZ"
      },
      "source": [
        "#IV. Exploratory Data Analysis (EDA)"
      ]
    },
    {
      "cell_type": "markdown",
      "metadata": {
        "id": "mbdpTm5oQ4xf"
      },
      "source": [
        "> Melihat Pola dan tren dalam data penjualan Walmart"
      ]
    },
    {
      "cell_type": "code",
      "execution_count": 10,
      "metadata": {
        "id": "QBmpb9gBa3Q3"
      },
      "outputs": [],
      "source": [
        "# Convert the 'Date' column to a datetime format\n",
        "df['Date'] = pd.to_datetime(df['Date'])\n"
      ]
    },
    {
      "cell_type": "code",
      "execution_count": 11,
      "metadata": {
        "colab": {
          "base_uri": "https://localhost:8080/",
          "height": 330
        },
        "id": "2lGFxQWsQ1XP",
        "outputId": "ef092ef7-d969-47a9-b973-73eea1ea19c9"
      },
      "outputs": [
        {
          "output_type": "display_data",
          "data": {
            "text/plain": [
              "<Figure size 1440x360 with 1 Axes>"
            ],
            "image/png": "[encoded data removed]"
          },
          "metadata": {
            "needs_background": "light"
          }
        }
      ],
      "source": [
        "# Create chart\n",
        "plt.figure(figsize=(20,5))\n",
        "sns.lineplot(x=df['Date'], y=(df.Weekly_Sales/1e6))\n",
        "plt.xlabel('Months')\n",
        "plt.ylabel('Weekly Sales (in million USD)')\n",
        "plt.title('Weekly Sales Trend')\n",
        "\n",
        "\n",
        "plt.show()"
      ]
    },
    {
      "cell_type": "markdown",
      "metadata": {
        "id": "Sa9wa7Jb4qb3"
      },
      "source": [
        "terlihat adanya pola musiman dalam tren penjualan mingguan Walmart. Terdapat peningkatan penjualan yang signifikan di awal tahun, terutama pada tahun 2011, dan juga peningkatan penjualan di setiap bulan Desember. Namun, di luar periode-periode tersebut, penjualan mingguan cenderung stabil dan tidak melebihi angka 1.2 juta USD"
      ]
    },
    {
      "cell_type": "markdown",
      "metadata": {
        "id": "3sByuGloQ8Tp"
      },
      "source": [
        "> Melihat hubungan antara faktor-faktor seperti IHK, tingkat pengangguran, suhu, dan harga bahan bakar dengan penjualan"
      ]
    },
    {
      "cell_type": "code",
      "execution_count": 12,
      "metadata": {
        "colab": {
          "base_uri": "https://localhost:8080/",
          "height": 404
        },
        "id": "aw9vrj2sRKhc",
        "outputId": "5c5ce42f-8586-4651-d103-43b323fa2eea"
      },
      "outputs": [
        {
          "output_type": "display_data",
          "data": {
            "text/plain": [
              "<Figure size 720x432 with 1 Axes>"
            ],
            "image/png": "[encoded data removed]"
          },
          "metadata": {
            "needs_background": "light"
          }
        }
      ],
      "source": [
        "# Plot the relationship between CPI and weekly sales as a scatter plot\n",
        "plt.figure(figsize=(10, 6))\n",
        "plt.scatter(df['CPI'], df['Weekly_Sales'])\n",
        "plt.title('Relationship between CPI and Weekly Sales')\n",
        "plt.xlabel('CPI')\n",
        "plt.ylabel('Weekly Sales')\n",
        "plt.show()"
      ]
    },
    {
      "cell_type": "markdown",
      "metadata": {
        "id": "j8A1J9hG4vn5"
      },
      "source": [
        "terdapat korelasi positif antara CPI dan weekly sales. Terlihat bahwa ketika CPI naik, weekly sales juga cenderung meningkat, namun pada rentang 180-200 titik scatter plot lebih sedikit dibandingkan dengan rentang lainnya"
      ]
    },
    {
      "cell_type": "code",
      "execution_count": 13,
      "metadata": {
        "colab": {
          "base_uri": "https://localhost:8080/",
          "height": 404
        },
        "id": "6esHUySqROMH",
        "outputId": "b1285388-379f-448a-a2ef-30900dbb3305"
      },
      "outputs": [
        {
          "output_type": "display_data",
          "data": {
            "text/plain": [
              "<Figure size 720x432 with 1 Axes>"
            ],
            "image/png": "[encoded data removed]"
          },
          "metadata": {
            "needs_background": "light"
          }
        }
      ],
      "source": [
        "# Plot the relationship between unemployment rate and weekly sales as a scatter plot\n",
        "plt.figure(figsize=(10, 6))\n",
        "plt.scatter(df['Unemployment'], df['Weekly_Sales'])\n",
        "plt.title('Relationship between Unemployment and Weekly Sales')\n",
        "plt.xlabel('Unemployment Rate')\n",
        "plt.ylabel('Weekly Sales')\n",
        "plt.show()"
      ]
    },
    {
      "cell_type": "markdown",
      "metadata": {
        "id": "PSrl6rJX65YK"
      },
      "source": [
        "Dari visualisasi tersebut, terlihat bahwa terdapat banyak data yang berkumpul pada rentang tingkat pengangguran antara 4 hingga 11 persen. Namun, ketika tingkat pengangguran melebihi 11 persen, terlihat bahwa titik-titik data terdistribusi dengan lebih jarang, terutama pada rentang tingkat pengangguran antara 11 hingga 14 persen. Hal ini menunjukkan bahwa pada tingkat pengangguran yang tinggi, penjualan mingguan cenderung menurun atau tidak stabil"
      ]
    },
    {
      "cell_type": "code",
      "execution_count": 14,
      "metadata": {
        "colab": {
          "base_uri": "https://localhost:8080/",
          "height": 404
        },
        "id": "ACBvRh69RQQE",
        "outputId": "f2378381-efe7-4c63-f6a1-f6f48adc6913"
      },
      "outputs": [
        {
          "output_type": "display_data",
          "data": {
            "text/plain": [
              "<Figure size 720x432 with 1 Axes>"
            ],
            "image/png": "[encoded data removed]"
          },
          "metadata": {
            "needs_background": "light"
          }
        }
      ],
      "source": [
        "# Plot the relationship between temperature and weekly sales as a scatter plot\n",
        "plt.figure(figsize=(10, 6))\n",
        "plt.scatter(df['Temperature'], df['Weekly_Sales'])\n",
        "plt.title('Relationship between Temperature and Weekly Sales')\n",
        "plt.xlabel('Temperature')\n",
        "plt.ylabel('Weekly Sales')\n",
        "plt.show()"
      ]
    },
    {
      "cell_type": "markdown",
      "metadata": {
        "id": "q7gFTjpZ8BI1"
      },
      "source": [
        "Berdasarkan visualisasi tersebut, terlihat adanya korelasi positif antara temperature dengan weekly sales, dengan peningkatan weekly sales seiring dengan peningkatan suhu. Namun, terdapat beberapa outlier di luar range temperature dan weekly sales"
      ]
    },
    {
      "cell_type": "code",
      "execution_count": 15,
      "metadata": {
        "colab": {
          "base_uri": "https://localhost:8080/",
          "height": 404
        },
        "id": "b4jM3wkWRTDC",
        "outputId": "c37a8740-8d38-4f4b-df8b-efdacd219047"
      },
      "outputs": [
        {
          "output_type": "display_data",
          "data": {
            "text/plain": [
              "<Figure size 720x432 with 1 Axes>"
            ],
            "image/png": "[encoded data removed]"
          },
          "metadata": {
            "needs_background": "light"
          }
        }
      ],
      "source": [
        "# Plot the relationship between fuel price and weekly sales as a scatter plot\n",
        "plt.figure(figsize=(10, 6))\n",
        "plt.scatter(df['Fuel_Price'], df['Weekly_Sales'])\n",
        "plt.title('Relationship between Fuel Price and Weekly Sales')\n",
        "plt.xlabel('Fuel Price')\n",
        "plt.ylabel('Weekly Sales')\n",
        "plt.show()"
      ]
    },
    {
      "cell_type": "markdown",
      "metadata": {
        "id": "5mAjdJf--Cft"
      },
      "source": [
        "terdapat hubungan antara fuel price dan weekly sales, dimana pada rentang fuel price 2.50-4.25, Namun, terdapat beberapa titik outlier di luar rentang tersebut, yaitu pada fuel price di atas 4.25 dan juga weekly sales di atas 3.5."
      ]
    },
    {
      "cell_type": "markdown",
      "metadata": {
        "id": "47j9AYc_RTj6"
      },
      "source": [
        "> Melihat distribusi data penjualan Walmart"
      ]
    },
    {
      "cell_type": "code",
      "execution_count": 16,
      "metadata": {
        "colab": {
          "base_uri": "https://localhost:8080/",
          "height": 404
        },
        "id": "a_fP3XHsRZUy",
        "outputId": "944a355f-1594-4f6a-b90e-3bc18c4591cb"
      },
      "outputs": [
        {
          "output_type": "display_data",
          "data": {
            "text/plain": [
              "<Figure size 720x432 with 1 Axes>"
            ],
            "image/png": "[encoded data removed]"
          },
          "metadata": {
            "needs_background": "light"
          }
        }
      ],
      "source": [
        "# Visualize distribution of weekly sales\n",
        "plt.figure(figsize=(10, 6))\n",
        "plt.hist(df['Weekly_Sales'], bins=50)\n",
        "plt.xlabel('Weekly Sales')\n",
        "plt.ylabel('Frequency')\n",
        "plt.title('Distribution of Weekly Sales at Walmart')\n",
        "plt.show()"
      ]
    },
    {
      "cell_type": "markdown",
      "metadata": {
        "id": "Rga7jTmYvRxF"
      },
      "source": [
        "dari visualisasi tersebut, distribusi datanya cenderung ke sebelah kiri"
      ]
    },
    {
      "cell_type": "markdown",
      "metadata": {
        "id": "fde4xUJARv1B"
      },
      "source": [
        "> Melihat Korelasi antara variabel independen"
      ]
    },
    {
      "cell_type": "code",
      "execution_count": 17,
      "metadata": {
        "id": "TEV3z-wPRxsx"
      },
      "outputs": [],
      "source": [
        "# Select independent variables\n",
        "independent_vars = ['Temperature', 'Fuel_Price', 'CPI', 'Unemployment']"
      ]
    },
    {
      "cell_type": "code",
      "execution_count": 18,
      "metadata": {
        "id": "UJGkpiGjR0hh"
      },
      "outputs": [],
      "source": [
        "# Calculate correlation matrix\n",
        "corr_matrix = df[independent_vars].corr()"
      ]
    },
    {
      "cell_type": "code",
      "execution_count": 19,
      "metadata": {
        "colab": {
          "base_uri": "https://localhost:8080/",
          "height": 391
        },
        "id": "YOZsH4B3R2HM",
        "outputId": "789b038f-0a98-42ea-d24d-c021c943694a"
      },
      "outputs": [
        {
          "output_type": "display_data",
          "data": {
            "text/plain": [
              "<Figure size 720x432 with 2 Axes>"
            ],
            "image/png": "[encoded data removed]"
          },
          "metadata": {
            "needs_background": "light"
          }
        }
      ],
      "source": [
        "# Visualize correlation matrix\n",
        "plt.figure(figsize=(10, 6))\n",
        "sns.heatmap(corr_matrix, annot=True)\n",
        "plt.title('Correlation between Independent Variables')\n",
        "plt.show()"
      ]
    },
    {
      "cell_type": "markdown",
      "metadata": {
        "id": "KU-tRasj-K2Q"
      },
      "source": [
        "- Korelasi antara temperature dan weekly sales adalah positif dan moderat (sekitar 0.6).\n",
        "\n",
        "- Korelasi antara fuel price dan weekly sales adalah negatif dan lemah (sekitar -0.1).\n",
        "\n",
        "- Korelasi antara cpi dan weekly sales adalah positif dan lemah (sekitar 0.1).\n",
        "\n",
        "- Korelasi antara unemployment dan weekly sales adalah negatif dan lemah (sekitar -0.04)."
      ]
    },
    {
      "cell_type": "markdown",
      "source": [
        "##Preprosessing data"
      ],
      "metadata": {
        "id": "uGOT_8oIwL_-"
      }
    },
    {
      "cell_type": "code",
      "source": [
        "# filter data yang terdapat libur\n",
        "holiday_data = df.loc[df['Holiday_Flag'] == 1]\n",
        "holiday_data"
      ],
      "metadata": {
        "colab": {
          "base_uri": "https://localhost:8080/",
          "height": 423
        },
        "id": "vKMteyiZe3ma",
        "outputId": "59e5f434-0086-4c59-94ac-55deed5d1513"
      },
      "execution_count": 20,
      "outputs": [
        {
          "output_type": "execute_result",
          "data": {
            "text/plain": [
              "      Store       Date  Weekly_Sales  Holiday_Flag  Temperature  Fuel_Price  \\\n",
              "1         1 2010-12-02    1641957.44             1        38.51       2.548   \n",
              "31        1 2010-10-09    1507460.69             1        78.69       2.565   \n",
              "42        1 2010-11-26    1955624.11             1        64.52       2.735   \n",
              "47        1 2010-12-31    1367320.01             1        48.43       2.943   \n",
              "53        1 2011-11-02    1649614.93             1        36.39       3.022   \n",
              "...     ...        ...           ...           ...          ...         ...   \n",
              "6375     45 2011-09-09     746129.56             1        71.48       3.738   \n",
              "6386     45 2011-11-25    1170672.94             1        48.71       3.492   \n",
              "6391     45 2011-12-30     869403.63             1        37.79       3.389   \n",
              "6397     45 2012-10-02     803657.12             1        37.00       3.640   \n",
              "6427     45 2012-07-09     766512.66             1        75.70       3.911   \n",
              "\n",
              "             CPI  Unemployment  \n",
              "1     211.242170         8.106  \n",
              "31    211.495190         7.787  \n",
              "42    211.748433         7.838  \n",
              "47    211.404932         7.838  \n",
              "53    212.936705         7.742  \n",
              "...          ...           ...  \n",
              "6375  186.673738         8.625  \n",
              "6386  188.350400         8.523  \n",
              "6391  189.062016         8.523  \n",
              "6397  189.707605         8.424  \n",
              "6427  191.577676         8.684  \n",
              "\n",
              "[450 rows x 8 columns]"
            ],
            "text/html": [
              "\n",
              "  <div id=\"df-887ce6c9-8833-4077-93ac-b8e1bc677372\">\n",
              "    <div class=\"colab-df-container\">\n",
              "      <div>\n",
              "<style scoped>\n",
              "    .dataframe tbody tr th:only-of-type {\n",
              "        vertical-align: middle;\n",
              "    }\n",
              "\n",
              "    .dataframe tbody tr th {\n",
              "        vertical-align: top;\n",
              "    }\n",
              "\n",
              "    .dataframe thead th {\n",
              "        text-align: right;\n",
              "    }\n",
              "</style>\n",
              "<table border=\"1\" class=\"dataframe\">\n",
              "  <thead>\n",
              "    <tr style=\"text-align: right;\">\n",
              "      <th></th>\n",
              "      <th>Store</th>\n",
              "      <th>Date</th>\n",
              "      <th>Weekly_Sales</th>\n",
              "      <th>Holiday_Flag</th>\n",
              "      <th>Temperature</th>\n",
              "      <th>Fuel_Price</th>\n",
              "      <th>CPI</th>\n",
              "      <th>Unemployment</th>\n",
              "    </tr>\n",
              "  </thead>\n",
              "  <tbody>\n",
              "    <tr>\n",
              "      <th>1</th>\n",
              "      <td>1</td>\n",
              "      <td>2010-12-02</td>\n",
              "      <td>1641957.44</td>\n",
              "      <td>1</td>\n",
              "      <td>38.51</td>\n",
              "      <td>2.548</td>\n",
              "      <td>211.242170</td>\n",
              "      <td>8.106</td>\n",
              "    </tr>\n",
              "    <tr>\n",
              "      <th>31</th>\n",
              "      <td>1</td>\n",
              "      <td>2010-10-09</td>\n",
              "      <td>1507460.69</td>\n",
              "      <td>1</td>\n",
              "      <td>78.69</td>\n",
              "      <td>2.565</td>\n",
              "      <td>211.495190</td>\n",
              "      <td>7.787</td>\n",
              "    </tr>\n",
              "    <tr>\n",
              "      <th>42</th>\n",
              "      <td>1</td>\n",
              "      <td>2010-11-26</td>\n",
              "      <td>1955624.11</td>\n",
              "      <td>1</td>\n",
              "      <td>64.52</td>\n",
              "      <td>2.735</td>\n",
              "      <td>211.748433</td>\n",
              "      <td>7.838</td>\n",
              "    </tr>\n",
              "    <tr>\n",
              "      <th>47</th>\n",
              "      <td>1</td>\n",
              "      <td>2010-12-31</td>\n",
              "      <td>1367320.01</td>\n",
              "      <td>1</td>\n",
              "      <td>48.43</td>\n",
              "      <td>2.943</td>\n",
              "      <td>211.404932</td>\n",
              "      <td>7.838</td>\n",
              "    </tr>\n",
              "    <tr>\n",
              "      <th>53</th>\n",
              "      <td>1</td>\n",
              "      <td>2011-11-02</td>\n",
              "      <td>1649614.93</td>\n",
              "      <td>1</td>\n",
              "      <td>36.39</td>\n",
              "      <td>3.022</td>\n",
              "      <td>212.936705</td>\n",
              "      <td>7.742</td>\n",
              "    </tr>\n",
              "    <tr>\n",
              "      <th>...</th>\n",
              "      <td>...</td>\n",
              "      <td>...</td>\n",
              "      <td>...</td>\n",
              "      <td>...</td>\n",
              "      <td>...</td>\n",
              "      <td>...</td>\n",
              "      <td>...</td>\n",
              "      <td>...</td>\n",
              "    </tr>\n",
              "    <tr>\n",
              "      <th>6375</th>\n",
              "      <td>45</td>\n",
              "      <td>2011-09-09</td>\n",
              "      <td>746129.56</td>\n",
              "      <td>1</td>\n",
              "      <td>71.48</td>\n",
              "      <td>3.738</td>\n",
              "      <td>186.673738</td>\n",
              "      <td>8.625</td>\n",
              "    </tr>\n",
              "    <tr>\n",
              "      <th>6386</th>\n",
              "      <td>45</td>\n",
              "      <td>2011-11-25</td>\n",
              "      <td>1170672.94</td>\n",
              "      <td>1</td>\n",
              "      <td>48.71</td>\n",
              "      <td>3.492</td>\n",
              "      <td>188.350400</td>\n",
              "      <td>8.523</td>\n",
              "    </tr>\n",
              "    <tr>\n",
              "      <th>6391</th>\n",
              "      <td>45</td>\n",
              "      <td>2011-12-30</td>\n",
              "      <td>869403.63</td>\n",
              "      <td>1</td>\n",
              "      <td>37.79</td>\n",
              "      <td>3.389</td>\n",
              "      <td>189.062016</td>\n",
              "      <td>8.523</td>\n",
              "    </tr>\n",
              "    <tr>\n",
              "      <th>6397</th>\n",
              "      <td>45</td>\n",
              "      <td>2012-10-02</td>\n",
              "      <td>803657.12</td>\n",
              "      <td>1</td>\n",
              "      <td>37.00</td>\n",
              "      <td>3.640</td>\n",
              "      <td>189.707605</td>\n",
              "      <td>8.424</td>\n",
              "    </tr>\n",
              "    <tr>\n",
              "      <th>6427</th>\n",
              "      <td>45</td>\n",
              "      <td>2012-07-09</td>\n",
              "      <td>766512.66</td>\n",
              "      <td>1</td>\n",
              "      <td>75.70</td>\n",
              "      <td>3.911</td>\n",
              "      <td>191.577676</td>\n",
              "      <td>8.684</td>\n",
              "    </tr>\n",
              "  </tbody>\n",
              "</table>\n",
              "<p>450 rows × 8 columns</p>\n",
              "</div>\n",
              "      <button class=\"colab-df-convert\" onclick=\"convertToInteractive('df-887ce6c9-8833-4077-93ac-b8e1bc677372')\"\n",
              "              title=\"Convert this dataframe to an interactive table.\"\n",
              "              style=\"display:none;\">\n",
              "        \n",
              "  <svg xmlns=\"http://www.w3.org/2000/svg\" height=\"24px\"viewBox=\"0 0 24 24\"\n",
              "       width=\"24px\">\n",
              "    <path d=\"M0 0h24v24H0V0z\" fill=\"none\"/>\n",
              "    <path d=\"M18.56 5.44l.94 2.06.94-2.06 2.06-.94-2.06-.94-.94-2.06-.94 2.06-2.06.94zm-11 1L8.5 8.5l.94-2.06 2.06-.94-2.06-.94L8.5 2.5l-.94 2.06-2.06.94zm10 10l.94 2.06.94-2.06 2.06-.94-2.06-.94-.94-2.06-.94 2.06-2.06.94z\"/><path d=\"M17.41 7.96l-1.37-1.37c-.4-.4-.92-.59-1.43-.59-.52 0-1.04.2-1.43.59L10.3 9.45l-7.72 7.72c-.78.78-.78 2.05 0 2.83L4 21.41c.39.39.9.59 1.41.59.51 0 1.02-.2 1.41-.59l7.78-7.78 2.81-2.81c.8-.78.8-2.07 0-2.86zM5.41 20L4 18.59l7.72-7.72 1.47 1.35L5.41 20z\"/>\n",
              "  </svg>\n",
              "      </button>\n",
              "      \n",
              "  <style>\n",
              "    .colab-df-container {\n",
              "      display:flex;\n",
              "      flex-wrap:wrap;\n",
              "      gap: 12px;\n",
              "    }\n",
              "\n",
              "    .colab-df-convert {\n",
              "      background-color: #E8F0FE;\n",
              "      border: none;\n",
              "      border-radius: 50%;\n",
              "      cursor: pointer;\n",
              "      display: none;\n",
              "      fill: #1967D2;\n",
              "      height: 32px;\n",
              "      padding: 0 0 0 0;\n",
              "      width: 32px;\n",
              "    }\n",
              "\n",
              "    .colab-df-convert:hover {\n",
              "      background-color: #E2EBFA;\n",
              "      box-shadow: 0px 1px 2px rgba(60, 64, 67, 0.3), 0px 1px 3px 1px rgba(60, 64, 67, 0.15);\n",
              "      fill: #174EA6;\n",
              "    }\n",
              "\n",
              "    [theme=dark] .colab-df-convert {\n",
              "      background-color: #3B4455;\n",
              "      fill: #D2E3FC;\n",
              "    }\n",
              "\n",
              "    [theme=dark] .colab-df-convert:hover {\n",
              "      background-color: #434B5C;\n",
              "      box-shadow: 0px 1px 3px 1px rgba(0, 0, 0, 0.15);\n",
              "      filter: drop-shadow(0px 1px 2px rgba(0, 0, 0, 0.3));\n",
              "      fill: #FFFFFF;\n",
              "    }\n",
              "  </style>\n",
              "\n",
              "      <script>\n",
              "        const buttonEl =\n",
              "          document.querySelector('#df-887ce6c9-8833-4077-93ac-b8e1bc677372 button.colab-df-convert');\n",
              "        buttonEl.style.display =\n",
              "          google.colab.kernel.accessAllowed ? 'block' : 'none';\n",
              "\n",
              "        async function convertToInteractive(key) {\n",
              "          const element = document.querySelector('#df-887ce6c9-8833-4077-93ac-b8e1bc677372');\n",
              "          const dataTable =\n",
              "            await google.colab.kernel.invokeFunction('convertToInteractive',\n",
              "                                                     [key], {});\n",
              "          if (!dataTable) return;\n",
              "\n",
              "          const docLinkHtml = 'Like what you see? Visit the ' +\n",
              "            '<a target=\"_blank\" href=https://colab.research.google.com/notebooks/data_table.ipynb>data table notebook</a>'\n",
              "            + ' to learn more about interactive tables.';\n",
              "          element.innerHTML = '';\n",
              "          dataTable['output_type'] = 'display_data';\n",
              "          await google.colab.output.renderOutput(dataTable, element);\n",
              "          const docLink = document.createElement('div');\n",
              "          docLink.innerHTML = docLinkHtml;\n",
              "          element.appendChild(docLink);\n",
              "        }\n",
              "      </script>\n",
              "    </div>\n",
              "  </div>\n",
              "  "
            ]
          },
          "metadata": {},
          "execution_count": 20
        }
      ]
    },
    {
      "cell_type": "code",
      "source": [
        "# melihat tanggal-tanggal yang terdapat di dalam holiday_data\n",
        "holiday_dates = holiday_data['Date'].unique()\n",
        "holiday_dates"
      ],
      "metadata": {
        "colab": {
          "base_uri": "https://localhost:8080/"
        },
        "id": "KdOuq4m0e5l0",
        "outputId": "3d2f6a6d-2a2b-4ea5-e4b8-d045dfc18f8d"
      },
      "execution_count": 21,
      "outputs": [
        {
          "output_type": "execute_result",
          "data": {
            "text/plain": [
              "array(['2010-12-02T00:00:00.000000000', '2010-10-09T00:00:00.000000000',\n",
              "       '2010-11-26T00:00:00.000000000', '2010-12-31T00:00:00.000000000',\n",
              "       '2011-11-02T00:00:00.000000000', '2011-09-09T00:00:00.000000000',\n",
              "       '2011-11-25T00:00:00.000000000', '2011-12-30T00:00:00.000000000',\n",
              "       '2012-10-02T00:00:00.000000000', '2012-07-09T00:00:00.000000000'],\n",
              "      dtype='datetime64[ns]')"
            ]
          },
          "metadata": {},
          "execution_count": 21
        }
      ]
    },
    {
      "cell_type": "code",
      "source": [
        "# list of holiday dates\n",
        "holiday_dates = ['2010-02-11', '2010-05-01', '2010-11-23', '2010-12-25','2011-02-11',\n",
        "                 '2011-05-01', '2011-11-23', '2011-12-25', '2012-02-11', '2012-05-01']"
      ],
      "metadata": {
        "id": "bhPpurLdC8ya"
      },
      "execution_count": 22,
      "outputs": []
    },
    {
      "cell_type": "markdown",
      "source": [
        "disini sudah terindex tanggal libur sesuai objectivenya"
      ],
      "metadata": {
        "id": "1A2b302HwUDo"
      }
    },
    {
      "cell_type": "code",
      "source": [
        "# add weight based on holiday flag\n",
        "for index, row in df.iterrows():\n",
        "    date = row['Date']\n",
        "    if row['Holiday_Flag'] == 1:\n",
        "        weight = 5\n",
        "    else:\n",
        "        weight = 1"
      ],
      "metadata": {
        "id": "Q79IInQqxNZM"
      },
      "execution_count": 23,
      "outputs": []
    },
    {
      "cell_type": "markdown",
      "metadata": {
        "id": "H_XfK7fIKqiI"
      },
      "source": [
        "#V. Feature Engineering"
      ]
    },
    {
      "cell_type": "markdown",
      "metadata": {
        "id": "mBOnsuk-LUKf"
      },
      "source": [
        "###Split between X (Features), y (Target)"
      ]
    },
    {
      "cell_type": "code",
      "execution_count": 24,
      "metadata": {
        "colab": {
          "base_uri": "https://localhost:8080/",
          "height": 423
        },
        "id": "VdwHPNeCLTpi",
        "outputId": "b811cb7c-7dcf-433b-f31f-75bf040854d7"
      },
      "outputs": [
        {
          "output_type": "execute_result",
          "data": {
            "text/plain": [
              "      Store       Date  Weekly_Sales  Holiday_Flag  Temperature  Fuel_Price  \\\n",
              "0         1 2010-05-02    1643690.90             0        42.31       2.572   \n",
              "1         1 2010-12-02    1641957.44             1        38.51       2.548   \n",
              "2         1 2010-02-19    1611968.17             0        39.93       2.514   \n",
              "3         1 2010-02-26    1409727.59             0        46.63       2.561   \n",
              "4         1 2010-05-03    1554806.68             0        46.50       2.625   \n",
              "...     ...        ...           ...           ...          ...         ...   \n",
              "6430     45 2012-09-28     713173.95             0        64.88       3.997   \n",
              "6431     45 2012-05-10     733455.07             0        64.89       3.985   \n",
              "6432     45 2012-12-10     734464.36             0        54.47       4.000   \n",
              "6433     45 2012-10-19     718125.53             0        56.47       3.969   \n",
              "6434     45 2012-10-26     760281.43             0        58.85       3.882   \n",
              "\n",
              "             CPI  Unemployment  \n",
              "0     211.096358         8.106  \n",
              "1     211.242170         8.106  \n",
              "2     211.289143         8.106  \n",
              "3     211.319643         8.106  \n",
              "4     211.350143         8.106  \n",
              "...          ...           ...  \n",
              "6430  192.013558         8.684  \n",
              "6431  192.170412         8.667  \n",
              "6432  192.327265         8.667  \n",
              "6433  192.330854         8.667  \n",
              "6434  192.308899         8.667  \n",
              "\n",
              "[6435 rows x 8 columns]"
            ],
            "text/html": [
              "\n",
              "  <div id=\"df-d00de95e-9261-48f5-8140-d4cfd0cde878\">\n",
              "    <div class=\"colab-df-container\">\n",
              "      <div>\n",
              "<style scoped>\n",
              "    .dataframe tbody tr th:only-of-type {\n",
              "        vertical-align: middle;\n",
              "    }\n",
              "\n",
              "    .dataframe tbody tr th {\n",
              "        vertical-align: top;\n",
              "    }\n",
              "\n",
              "    .dataframe thead th {\n",
              "        text-align: right;\n",
              "    }\n",
              "</style>\n",
              "<table border=\"1\" class=\"dataframe\">\n",
              "  <thead>\n",
              "    <tr style=\"text-align: right;\">\n",
              "      <th></th>\n",
              "      <th>Store</th>\n",
              "      <th>Date</th>\n",
              "      <th>Weekly_Sales</th>\n",
              "      <th>Holiday_Flag</th>\n",
              "      <th>Temperature</th>\n",
              "      <th>Fuel_Price</th>\n",
              "      <th>CPI</th>\n",
              "      <th>Unemployment</th>\n",
              "    </tr>\n",
              "  </thead>\n",
              "  <tbody>\n",
              "    <tr>\n",
              "      <th>0</th>\n",
              "      <td>1</td>\n",
              "      <td>2010-05-02</td>\n",
              "      <td>1643690.90</td>\n",
              "      <td>0</td>\n",
              "      <td>42.31</td>\n",
              "      <td>2.572</td>\n",
              "      <td>211.096358</td>\n",
              "      <td>8.106</td>\n",
              "    </tr>\n",
              "    <tr>\n",
              "      <th>1</th>\n",
              "      <td>1</td>\n",
              "      <td>2010-12-02</td>\n",
              "      <td>1641957.44</td>\n",
              "      <td>1</td>\n",
              "      <td>38.51</td>\n",
              "      <td>2.548</td>\n",
              "      <td>211.242170</td>\n",
              "      <td>8.106</td>\n",
              "    </tr>\n",
              "    <tr>\n",
              "      <th>2</th>\n",
              "      <td>1</td>\n",
              "      <td>2010-02-19</td>\n",
              "      <td>1611968.17</td>\n",
              "      <td>0</td>\n",
              "      <td>39.93</td>\n",
              "      <td>2.514</td>\n",
              "      <td>211.289143</td>\n",
              "      <td>8.106</td>\n",
              "    </tr>\n",
              "    <tr>\n",
              "      <th>3</th>\n",
              "      <td>1</td>\n",
              "      <td>2010-02-26</td>\n",
              "      <td>1409727.59</td>\n",
              "      <td>0</td>\n",
              "      <td>46.63</td>\n",
              "      <td>2.561</td>\n",
              "      <td>211.319643</td>\n",
              "      <td>8.106</td>\n",
              "    </tr>\n",
              "    <tr>\n",
              "      <th>4</th>\n",
              "      <td>1</td>\n",
              "      <td>2010-05-03</td>\n",
              "      <td>1554806.68</td>\n",
              "      <td>0</td>\n",
              "      <td>46.50</td>\n",
              "      <td>2.625</td>\n",
              "      <td>211.350143</td>\n",
              "      <td>8.106</td>\n",
              "    </tr>\n",
              "    <tr>\n",
              "      <th>...</th>\n",
              "      <td>...</td>\n",
              "      <td>...</td>\n",
              "      <td>...</td>\n",
              "      <td>...</td>\n",
              "      <td>...</td>\n",
              "      <td>...</td>\n",
              "      <td>...</td>\n",
              "      <td>...</td>\n",
              "    </tr>\n",
              "    <tr>\n",
              "      <th>6430</th>\n",
              "      <td>45</td>\n",
              "      <td>2012-09-28</td>\n",
              "      <td>713173.95</td>\n",
              "      <td>0</td>\n",
              "      <td>64.88</td>\n",
              "      <td>3.997</td>\n",
              "      <td>192.013558</td>\n",
              "      <td>8.684</td>\n",
              "    </tr>\n",
              "    <tr>\n",
              "      <th>6431</th>\n",
              "      <td>45</td>\n",
              "      <td>2012-05-10</td>\n",
              "      <td>733455.07</td>\n",
              "      <td>0</td>\n",
              "      <td>64.89</td>\n",
              "      <td>3.985</td>\n",
              "      <td>192.170412</td>\n",
              "      <td>8.667</td>\n",
              "    </tr>\n",
              "    <tr>\n",
              "      <th>6432</th>\n",
              "      <td>45</td>\n",
              "      <td>2012-12-10</td>\n",
              "      <td>734464.36</td>\n",
              "      <td>0</td>\n",
              "      <td>54.47</td>\n",
              "      <td>4.000</td>\n",
              "      <td>192.327265</td>\n",
              "      <td>8.667</td>\n",
              "    </tr>\n",
              "    <tr>\n",
              "      <th>6433</th>\n",
              "      <td>45</td>\n",
              "      <td>2012-10-19</td>\n",
              "      <td>718125.53</td>\n",
              "      <td>0</td>\n",
              "      <td>56.47</td>\n",
              "      <td>3.969</td>\n",
              "      <td>192.330854</td>\n",
              "      <td>8.667</td>\n",
              "    </tr>\n",
              "    <tr>\n",
              "      <th>6434</th>\n",
              "      <td>45</td>\n",
              "      <td>2012-10-26</td>\n",
              "      <td>760281.43</td>\n",
              "      <td>0</td>\n",
              "      <td>58.85</td>\n",
              "      <td>3.882</td>\n",
              "      <td>192.308899</td>\n",
              "      <td>8.667</td>\n",
              "    </tr>\n",
              "  </tbody>\n",
              "</table>\n",
              "<p>6435 rows × 8 columns</p>\n",
              "</div>\n",
              "      <button class=\"colab-df-convert\" onclick=\"convertToInteractive('df-d00de95e-9261-48f5-8140-d4cfd0cde878')\"\n",
              "              title=\"Convert this dataframe to an interactive table.\"\n",
              "              style=\"display:none;\">\n",
              "        \n",
              "  <svg xmlns=\"http://www.w3.org/2000/svg\" height=\"24px\"viewBox=\"0 0 24 24\"\n",
              "       width=\"24px\">\n",
              "    <path d=\"M0 0h24v24H0V0z\" fill=\"none\"/>\n",
              "    <path d=\"M18.56 5.44l.94 2.06.94-2.06 2.06-.94-2.06-.94-.94-2.06-.94 2.06-2.06.94zm-11 1L8.5 8.5l.94-2.06 2.06-.94-2.06-.94L8.5 2.5l-.94 2.06-2.06.94zm10 10l.94 2.06.94-2.06 2.06-.94-2.06-.94-.94-2.06-.94 2.06-2.06.94z\"/><path d=\"M17.41 7.96l-1.37-1.37c-.4-.4-.92-.59-1.43-.59-.52 0-1.04.2-1.43.59L10.3 9.45l-7.72 7.72c-.78.78-.78 2.05 0 2.83L4 21.41c.39.39.9.59 1.41.59.51 0 1.02-.2 1.41-.59l7.78-7.78 2.81-2.81c.8-.78.8-2.07 0-2.86zM5.41 20L4 18.59l7.72-7.72 1.47 1.35L5.41 20z\"/>\n",
              "  </svg>\n",
              "      </button>\n",
              "      \n",
              "  <style>\n",
              "    .colab-df-container {\n",
              "      display:flex;\n",
              "      flex-wrap:wrap;\n",
              "      gap: 12px;\n",
              "    }\n",
              "\n",
              "    .colab-df-convert {\n",
              "      background-color: #E8F0FE;\n",
              "      border: none;\n",
              "      border-radius: 50%;\n",
              "      cursor: pointer;\n",
              "      display: none;\n",
              "      fill: #1967D2;\n",
              "      height: 32px;\n",
              "      padding: 0 0 0 0;\n",
              "      width: 32px;\n",
              "    }\n",
              "\n",
              "    .colab-df-convert:hover {\n",
              "      background-color: #E2EBFA;\n",
              "      box-shadow: 0px 1px 2px rgba(60, 64, 67, 0.3), 0px 1px 3px 1px rgba(60, 64, 67, 0.15);\n",
              "      fill: #174EA6;\n",
              "    }\n",
              "\n",
              "    [theme=dark] .colab-df-convert {\n",
              "      background-color: #3B4455;\n",
              "      fill: #D2E3FC;\n",
              "    }\n",
              "\n",
              "    [theme=dark] .colab-df-convert:hover {\n",
              "      background-color: #434B5C;\n",
              "      box-shadow: 0px 1px 3px 1px rgba(0, 0, 0, 0.15);\n",
              "      filter: drop-shadow(0px 1px 2px rgba(0, 0, 0, 0.3));\n",
              "      fill: #FFFFFF;\n",
              "    }\n",
              "  </style>\n",
              "\n",
              "      <script>\n",
              "        const buttonEl =\n",
              "          document.querySelector('#df-d00de95e-9261-48f5-8140-d4cfd0cde878 button.colab-df-convert');\n",
              "        buttonEl.style.display =\n",
              "          google.colab.kernel.accessAllowed ? 'block' : 'none';\n",
              "\n",
              "        async function convertToInteractive(key) {\n",
              "          const element = document.querySelector('#df-d00de95e-9261-48f5-8140-d4cfd0cde878');\n",
              "          const dataTable =\n",
              "            await google.colab.kernel.invokeFunction('convertToInteractive',\n",
              "                                                     [key], {});\n",
              "          if (!dataTable) return;\n",
              "\n",
              "          const docLinkHtml = 'Like what you see? Visit the ' +\n",
              "            '<a target=\"_blank\" href=https://colab.research.google.com/notebooks/data_table.ipynb>data table notebook</a>'\n",
              "            + ' to learn more about interactive tables.';\n",
              "          element.innerHTML = '';\n",
              "          dataTable['output_type'] = 'display_data';\n",
              "          await google.colab.output.renderOutput(dataTable, element);\n",
              "          const docLink = document.createElement('div');\n",
              "          docLink.innerHTML = docLinkHtml;\n",
              "          element.appendChild(docLink);\n",
              "        }\n",
              "      </script>\n",
              "    </div>\n",
              "  </div>\n",
              "  "
            ]
          },
          "metadata": {},
          "execution_count": 24
        }
      ],
      "source": [
        "#show data\n",
        "df"
      ]
    },
    {
      "cell_type": "code",
      "execution_count": 25,
      "metadata": {
        "colab": {
          "base_uri": "https://localhost:8080/",
          "height": 423
        },
        "id": "Bsm4pfKjaL5n",
        "outputId": "2c0ea84b-50fc-455a-db40-4fa91ee5d1e6"
      },
      "outputs": [
        {
          "output_type": "execute_result",
          "data": {
            "text/plain": [
              "      Store       Date  Holiday_Flag  Temperature  Fuel_Price         CPI  \\\n",
              "0         1 2010-05-02             0        42.31       2.572  211.096358   \n",
              "1         1 2010-12-02             1        38.51       2.548  211.242170   \n",
              "2         1 2010-02-19             0        39.93       2.514  211.289143   \n",
              "3         1 2010-02-26             0        46.63       2.561  211.319643   \n",
              "4         1 2010-05-03             0        46.50       2.625  211.350143   \n",
              "...     ...        ...           ...          ...         ...         ...   \n",
              "6430     45 2012-09-28             0        64.88       3.997  192.013558   \n",
              "6431     45 2012-05-10             0        64.89       3.985  192.170412   \n",
              "6432     45 2012-12-10             0        54.47       4.000  192.327265   \n",
              "6433     45 2012-10-19             0        56.47       3.969  192.330854   \n",
              "6434     45 2012-10-26             0        58.85       3.882  192.308899   \n",
              "\n",
              "      Unemployment  \n",
              "0            8.106  \n",
              "1            8.106  \n",
              "2            8.106  \n",
              "3            8.106  \n",
              "4            8.106  \n",
              "...            ...  \n",
              "6430         8.684  \n",
              "6431         8.667  \n",
              "6432         8.667  \n",
              "6433         8.667  \n",
              "6434         8.667  \n",
              "\n",
              "[6435 rows x 7 columns]"
            ],
            "text/html": [
              "\n",
              "  <div id=\"df-c2a3a9cc-8f62-4dfb-829f-b57b993d11a8\">\n",
              "    <div class=\"colab-df-container\">\n",
              "      <div>\n",
              "<style scoped>\n",
              "    .dataframe tbody tr th:only-of-type {\n",
              "        vertical-align: middle;\n",
              "    }\n",
              "\n",
              "    .dataframe tbody tr th {\n",
              "        vertical-align: top;\n",
              "    }\n",
              "\n",
              "    .dataframe thead th {\n",
              "        text-align: right;\n",
              "    }\n",
              "</style>\n",
              "<table border=\"1\" class=\"dataframe\">\n",
              "  <thead>\n",
              "    <tr style=\"text-align: right;\">\n",
              "      <th></th>\n",
              "      <th>Store</th>\n",
              "      <th>Date</th>\n",
              "      <th>Holiday_Flag</th>\n",
              "      <th>Temperature</th>\n",
              "      <th>Fuel_Price</th>\n",
              "      <th>CPI</th>\n",
              "      <th>Unemployment</th>\n",
              "    </tr>\n",
              "  </thead>\n",
              "  <tbody>\n",
              "    <tr>\n",
              "      <th>0</th>\n",
              "      <td>1</td>\n",
              "      <td>2010-05-02</td>\n",
              "      <td>0</td>\n",
              "      <td>42.31</td>\n",
              "      <td>2.572</td>\n",
              "      <td>211.096358</td>\n",
              "      <td>8.106</td>\n",
              "    </tr>\n",
              "    <tr>\n",
              "      <th>1</th>\n",
              "      <td>1</td>\n",
              "      <td>2010-12-02</td>\n",
              "      <td>1</td>\n",
              "      <td>38.51</td>\n",
              "      <td>2.548</td>\n",
              "      <td>211.242170</td>\n",
              "      <td>8.106</td>\n",
              "    </tr>\n",
              "    <tr>\n",
              "      <th>2</th>\n",
              "      <td>1</td>\n",
              "      <td>2010-02-19</td>\n",
              "      <td>0</td>\n",
              "      <td>39.93</td>\n",
              "      <td>2.514</td>\n",
              "      <td>211.289143</td>\n",
              "      <td>8.106</td>\n",
              "    </tr>\n",
              "    <tr>\n",
              "      <th>3</th>\n",
              "      <td>1</td>\n",
              "      <td>2010-02-26</td>\n",
              "      <td>0</td>\n",
              "      <td>46.63</td>\n",
              "      <td>2.561</td>\n",
              "      <td>211.319643</td>\n",
              "      <td>8.106</td>\n",
              "    </tr>\n",
              "    <tr>\n",
              "      <th>4</th>\n",
              "      <td>1</td>\n",
              "      <td>2010-05-03</td>\n",
              "      <td>0</td>\n",
              "      <td>46.50</td>\n",
              "      <td>2.625</td>\n",
              "      <td>211.350143</td>\n",
              "      <td>8.106</td>\n",
              "    </tr>\n",
              "    <tr>\n",
              "      <th>...</th>\n",
              "      <td>...</td>\n",
              "      <td>...</td>\n",
              "      <td>...</td>\n",
              "      <td>...</td>\n",
              "      <td>...</td>\n",
              "      <td>...</td>\n",
              "      <td>...</td>\n",
              "    </tr>\n",
              "    <tr>\n",
              "      <th>6430</th>\n",
              "      <td>45</td>\n",
              "      <td>2012-09-28</td>\n",
              "      <td>0</td>\n",
              "      <td>64.88</td>\n",
              "      <td>3.997</td>\n",
              "      <td>192.013558</td>\n",
              "      <td>8.684</td>\n",
              "    </tr>\n",
              "    <tr>\n",
              "      <th>6431</th>\n",
              "      <td>45</td>\n",
              "      <td>2012-05-10</td>\n",
              "      <td>0</td>\n",
              "      <td>64.89</td>\n",
              "      <td>3.985</td>\n",
              "      <td>192.170412</td>\n",
              "      <td>8.667</td>\n",
              "    </tr>\n",
              "    <tr>\n",
              "      <th>6432</th>\n",
              "      <td>45</td>\n",
              "      <td>2012-12-10</td>\n",
              "      <td>0</td>\n",
              "      <td>54.47</td>\n",
              "      <td>4.000</td>\n",
              "      <td>192.327265</td>\n",
              "      <td>8.667</td>\n",
              "    </tr>\n",
              "    <tr>\n",
              "      <th>6433</th>\n",
              "      <td>45</td>\n",
              "      <td>2012-10-19</td>\n",
              "      <td>0</td>\n",
              "      <td>56.47</td>\n",
              "      <td>3.969</td>\n",
              "      <td>192.330854</td>\n",
              "      <td>8.667</td>\n",
              "    </tr>\n",
              "    <tr>\n",
              "      <th>6434</th>\n",
              "      <td>45</td>\n",
              "      <td>2012-10-26</td>\n",
              "      <td>0</td>\n",
              "      <td>58.85</td>\n",
              "      <td>3.882</td>\n",
              "      <td>192.308899</td>\n",
              "      <td>8.667</td>\n",
              "    </tr>\n",
              "  </tbody>\n",
              "</table>\n",
              "<p>6435 rows × 7 columns</p>\n",
              "</div>\n",
              "      <button class=\"colab-df-convert\" onclick=\"convertToInteractive('df-c2a3a9cc-8f62-4dfb-829f-b57b993d11a8')\"\n",
              "              title=\"Convert this dataframe to an interactive table.\"\n",
              "              style=\"display:none;\">\n",
              "        \n",
              "  <svg xmlns=\"http://www.w3.org/2000/svg\" height=\"24px\"viewBox=\"0 0 24 24\"\n",
              "       width=\"24px\">\n",
              "    <path d=\"M0 0h24v24H0V0z\" fill=\"none\"/>\n",
              "    <path d=\"M18.56 5.44l.94 2.06.94-2.06 2.06-.94-2.06-.94-.94-2.06-.94 2.06-2.06.94zm-11 1L8.5 8.5l.94-2.06 2.06-.94-2.06-.94L8.5 2.5l-.94 2.06-2.06.94zm10 10l.94 2.06.94-2.06 2.06-.94-2.06-.94-.94-2.06-.94 2.06-2.06.94z\"/><path d=\"M17.41 7.96l-1.37-1.37c-.4-.4-.92-.59-1.43-.59-.52 0-1.04.2-1.43.59L10.3 9.45l-7.72 7.72c-.78.78-.78 2.05 0 2.83L4 21.41c.39.39.9.59 1.41.59.51 0 1.02-.2 1.41-.59l7.78-7.78 2.81-2.81c.8-.78.8-2.07 0-2.86zM5.41 20L4 18.59l7.72-7.72 1.47 1.35L5.41 20z\"/>\n",
              "  </svg>\n",
              "      </button>\n",
              "      \n",
              "  <style>\n",
              "    .colab-df-container {\n",
              "      display:flex;\n",
              "      flex-wrap:wrap;\n",
              "      gap: 12px;\n",
              "    }\n",
              "\n",
              "    .colab-df-convert {\n",
              "      background-color: #E8F0FE;\n",
              "      border: none;\n",
              "      border-radius: 50%;\n",
              "      cursor: pointer;\n",
              "      display: none;\n",
              "      fill: #1967D2;\n",
              "      height: 32px;\n",
              "      padding: 0 0 0 0;\n",
              "      width: 32px;\n",
              "    }\n",
              "\n",
              "    .colab-df-convert:hover {\n",
              "      background-color: #E2EBFA;\n",
              "      box-shadow: 0px 1px 2px rgba(60, 64, 67, 0.3), 0px 1px 3px 1px rgba(60, 64, 67, 0.15);\n",
              "      fill: #174EA6;\n",
              "    }\n",
              "\n",
              "    [theme=dark] .colab-df-convert {\n",
              "      background-color: #3B4455;\n",
              "      fill: #D2E3FC;\n",
              "    }\n",
              "\n",
              "    [theme=dark] .colab-df-convert:hover {\n",
              "      background-color: #434B5C;\n",
              "      box-shadow: 0px 1px 3px 1px rgba(0, 0, 0, 0.15);\n",
              "      filter: drop-shadow(0px 1px 2px rgba(0, 0, 0, 0.3));\n",
              "      fill: #FFFFFF;\n",
              "    }\n",
              "  </style>\n",
              "\n",
              "      <script>\n",
              "        const buttonEl =\n",
              "          document.querySelector('#df-c2a3a9cc-8f62-4dfb-829f-b57b993d11a8 button.colab-df-convert');\n",
              "        buttonEl.style.display =\n",
              "          google.colab.kernel.accessAllowed ? 'block' : 'none';\n",
              "\n",
              "        async function convertToInteractive(key) {\n",
              "          const element = document.querySelector('#df-c2a3a9cc-8f62-4dfb-829f-b57b993d11a8');\n",
              "          const dataTable =\n",
              "            await google.colab.kernel.invokeFunction('convertToInteractive',\n",
              "                                                     [key], {});\n",
              "          if (!dataTable) return;\n",
              "\n",
              "          const docLinkHtml = 'Like what you see? Visit the ' +\n",
              "            '<a target=\"_blank\" href=https://colab.research.google.com/notebooks/data_table.ipynb>data table notebook</a>'\n",
              "            + ' to learn more about interactive tables.';\n",
              "          element.innerHTML = '';\n",
              "          dataTable['output_type'] = 'display_data';\n",
              "          await google.colab.output.renderOutput(dataTable, element);\n",
              "          const docLink = document.createElement('div');\n",
              "          docLink.innerHTML = docLinkHtml;\n",
              "          element.appendChild(docLink);\n",
              "        }\n",
              "      </script>\n",
              "    </div>\n",
              "  </div>\n",
              "  "
            ]
          },
          "metadata": {},
          "execution_count": 25
        }
      ],
      "source": [
        "# Memisahkan data input dan data target\n",
        "X = df.drop([\"Weekly_Sales\"], axis=1) \n",
        "y = df[\"Weekly_Sales\"]\n",
        "X"
      ]
    },
    {
      "cell_type": "markdown",
      "metadata": {
        "id": "STmTlMa1Lrgh"
      },
      "source": [
        "setelah di split, data X menjadi memiliki 6435 baris dan 7 kolom"
      ]
    },
    {
      "cell_type": "markdown",
      "metadata": {
        "id": "7P8X4RPyL41Y"
      },
      "source": [
        "###Feature Selection"
      ]
    },
    {
      "cell_type": "markdown",
      "metadata": {
        "id": "uWNouXYUL5eE"
      },
      "source": [
        "menghitung koefisien korelasi kendall dan p-value untuk setiap fitur pada dataset untuk menentukan fitur-fitur yang memiliki korelasi yang signifikan dengan variabel target "
      ]
    },
    {
      "cell_type": "code",
      "execution_count": 26,
      "metadata": {
        "id": "N_lb-OnALnkE"
      },
      "outputs": [],
      "source": [
        "#menghitung koefisien korelasi kendall dan p-value untuk setiap fitur\n",
        "corr_coef = []\n",
        "p_value = []\n",
        "for feature in X.columns:\n",
        "    coef, p = kendalltau(X[feature], y)\n",
        "    corr_coef.append(coef)\n",
        "    p_value.append(p)"
      ]
    },
    {
      "cell_type": "code",
      "execution_count": 27,
      "metadata": {
        "id": "9vBSF2NEL85b"
      },
      "outputs": [],
      "source": [
        "#menggabungkan hasil\n",
        "kendall_results = pd.DataFrame({'feature': X.columns, 'corr_coef': corr_coef, 'p_value': p_value})"
      ]
    },
    {
      "cell_type": "code",
      "execution_count": 28,
      "metadata": {
        "id": "Bv0FhBYkL-bK"
      },
      "outputs": [],
      "source": [
        "#mngurutan berdasarkan nilai koefisien korelasi\n",
        "kendall_results = kendall_results.sort_values(by='corr_coef', ascending=False)"
      ]
    },
    {
      "cell_type": "code",
      "execution_count": 29,
      "metadata": {
        "colab": {
          "base_uri": "https://localhost:8080/",
          "height": 269
        },
        "id": "l8Po3JJrL_wY",
        "outputId": "8bd8f48c-f206-4828-a92f-82fd9f62c6e0"
      },
      "outputs": [
        {
          "output_type": "execute_result",
          "data": {
            "text/plain": [
              "        feature  corr_coef        p_value\n",
              "2  Holiday_Flag   0.022679   2.589115e-02\n",
              "4    Fuel_Price   0.017218   3.850112e-02\n",
              "1          Date   0.006025   4.700868e-01\n",
              "5           CPI  -0.041716   5.265161e-07\n",
              "6  Unemployment  -0.046688   2.072013e-08\n",
              "3   Temperature  -0.046858   1.738834e-08\n",
              "0         Store  -0.209491  3.765088e-137"
            ],
            "text/html": [
              "\n",
              "  <div id=\"df-2c1f84ee-da39-406f-bf28-dff0d2bb5b63\">\n",
              "    <div class=\"colab-df-container\">\n",
              "      <div>\n",
              "<style scoped>\n",
              "    .dataframe tbody tr th:only-of-type {\n",
              "        vertical-align: middle;\n",
              "    }\n",
              "\n",
              "    .dataframe tbody tr th {\n",
              "        vertical-align: top;\n",
              "    }\n",
              "\n",
              "    .dataframe thead th {\n",
              "        text-align: right;\n",
              "    }\n",
              "</style>\n",
              "<table border=\"1\" class=\"dataframe\">\n",
              "  <thead>\n",
              "    <tr style=\"text-align: right;\">\n",
              "      <th></th>\n",
              "      <th>feature</th>\n",
              "      <th>corr_coef</th>\n",
              "      <th>p_value</th>\n",
              "    </tr>\n",
              "  </thead>\n",
              "  <tbody>\n",
              "    <tr>\n",
              "      <th>2</th>\n",
              "      <td>Holiday_Flag</td>\n",
              "      <td>0.022679</td>\n",
              "      <td>2.589115e-02</td>\n",
              "    </tr>\n",
              "    <tr>\n",
              "      <th>4</th>\n",
              "      <td>Fuel_Price</td>\n",
              "      <td>0.017218</td>\n",
              "      <td>3.850112e-02</td>\n",
              "    </tr>\n",
              "    <tr>\n",
              "      <th>1</th>\n",
              "      <td>Date</td>\n",
              "      <td>0.006025</td>\n",
              "      <td>4.700868e-01</td>\n",
              "    </tr>\n",
              "    <tr>\n",
              "      <th>5</th>\n",
              "      <td>CPI</td>\n",
              "      <td>-0.041716</td>\n",
              "      <td>5.265161e-07</td>\n",
              "    </tr>\n",
              "    <tr>\n",
              "      <th>6</th>\n",
              "      <td>Unemployment</td>\n",
              "      <td>-0.046688</td>\n",
              "      <td>2.072013e-08</td>\n",
              "    </tr>\n",
              "    <tr>\n",
              "      <th>3</th>\n",
              "      <td>Temperature</td>\n",
              "      <td>-0.046858</td>\n",
              "      <td>1.738834e-08</td>\n",
              "    </tr>\n",
              "    <tr>\n",
              "      <th>0</th>\n",
              "      <td>Store</td>\n",
              "      <td>-0.209491</td>\n",
              "      <td>3.765088e-137</td>\n",
              "    </tr>\n",
              "  </tbody>\n",
              "</table>\n",
              "</div>\n",
              "      <button class=\"colab-df-convert\" onclick=\"convertToInteractive('df-2c1f84ee-da39-406f-bf28-dff0d2bb5b63')\"\n",
              "              title=\"Convert this dataframe to an interactive table.\"\n",
              "              style=\"display:none;\">\n",
              "        \n",
              "  <svg xmlns=\"http://www.w3.org/2000/svg\" height=\"24px\"viewBox=\"0 0 24 24\"\n",
              "       width=\"24px\">\n",
              "    <path d=\"M0 0h24v24H0V0z\" fill=\"none\"/>\n",
              "    <path d=\"M18.56 5.44l.94 2.06.94-2.06 2.06-.94-2.06-.94-.94-2.06-.94 2.06-2.06.94zm-11 1L8.5 8.5l.94-2.06 2.06-.94-2.06-.94L8.5 2.5l-.94 2.06-2.06.94zm10 10l.94 2.06.94-2.06 2.06-.94-2.06-.94-.94-2.06-.94 2.06-2.06.94z\"/><path d=\"M17.41 7.96l-1.37-1.37c-.4-.4-.92-.59-1.43-.59-.52 0-1.04.2-1.43.59L10.3 9.45l-7.72 7.72c-.78.78-.78 2.05 0 2.83L4 21.41c.39.39.9.59 1.41.59.51 0 1.02-.2 1.41-.59l7.78-7.78 2.81-2.81c.8-.78.8-2.07 0-2.86zM5.41 20L4 18.59l7.72-7.72 1.47 1.35L5.41 20z\"/>\n",
              "  </svg>\n",
              "      </button>\n",
              "      \n",
              "  <style>\n",
              "    .colab-df-container {\n",
              "      display:flex;\n",
              "      flex-wrap:wrap;\n",
              "      gap: 12px;\n",
              "    }\n",
              "\n",
              "    .colab-df-convert {\n",
              "      background-color: #E8F0FE;\n",
              "      border: none;\n",
              "      border-radius: 50%;\n",
              "      cursor: pointer;\n",
              "      display: none;\n",
              "      fill: #1967D2;\n",
              "      height: 32px;\n",
              "      padding: 0 0 0 0;\n",
              "      width: 32px;\n",
              "    }\n",
              "\n",
              "    .colab-df-convert:hover {\n",
              "      background-color: #E2EBFA;\n",
              "      box-shadow: 0px 1px 2px rgba(60, 64, 67, 0.3), 0px 1px 3px 1px rgba(60, 64, 67, 0.15);\n",
              "      fill: #174EA6;\n",
              "    }\n",
              "\n",
              "    [theme=dark] .colab-df-convert {\n",
              "      background-color: #3B4455;\n",
              "      fill: #D2E3FC;\n",
              "    }\n",
              "\n",
              "    [theme=dark] .colab-df-convert:hover {\n",
              "      background-color: #434B5C;\n",
              "      box-shadow: 0px 1px 3px 1px rgba(0, 0, 0, 0.15);\n",
              "      filter: drop-shadow(0px 1px 2px rgba(0, 0, 0, 0.3));\n",
              "      fill: #FFFFFF;\n",
              "    }\n",
              "  </style>\n",
              "\n",
              "      <script>\n",
              "        const buttonEl =\n",
              "          document.querySelector('#df-2c1f84ee-da39-406f-bf28-dff0d2bb5b63 button.colab-df-convert');\n",
              "        buttonEl.style.display =\n",
              "          google.colab.kernel.accessAllowed ? 'block' : 'none';\n",
              "\n",
              "        async function convertToInteractive(key) {\n",
              "          const element = document.querySelector('#df-2c1f84ee-da39-406f-bf28-dff0d2bb5b63');\n",
              "          const dataTable =\n",
              "            await google.colab.kernel.invokeFunction('convertToInteractive',\n",
              "                                                     [key], {});\n",
              "          if (!dataTable) return;\n",
              "\n",
              "          const docLinkHtml = 'Like what you see? Visit the ' +\n",
              "            '<a target=\"_blank\" href=https://colab.research.google.com/notebooks/data_table.ipynb>data table notebook</a>'\n",
              "            + ' to learn more about interactive tables.';\n",
              "          element.innerHTML = '';\n",
              "          dataTable['output_type'] = 'display_data';\n",
              "          await google.colab.output.renderOutput(dataTable, element);\n",
              "          const docLink = document.createElement('div');\n",
              "          docLink.innerHTML = docLinkHtml;\n",
              "          element.appendChild(docLink);\n",
              "        }\n",
              "      </script>\n",
              "    </div>\n",
              "  </div>\n",
              "  "
            ]
          },
          "metadata": {},
          "execution_count": 29
        }
      ],
      "source": [
        "#melihat hasil dari seleksi fitur\n",
        "kendall_results"
      ]
    },
    {
      "cell_type": "markdown",
      "metadata": {
        "id": "Oz2wJ9d7OY6g"
      },
      "source": [
        "setelah di fitur seleksi, fitur dengan nilai korelasi tertinggi adalah fitur Date dengan nilai koefisien korelasi sebesar 0.516677 dan p-value sebesar 0. tapi saya memutuskan untuk menggunakan semua fitur, karena sesuai dengan objectivenya"
      ]
    },
    {
      "cell_type": "code",
      "execution_count": 30,
      "metadata": {
        "colab": {
          "base_uri": "https://localhost:8080/",
          "height": 460
        },
        "id": "LnXM9JuhO7an",
        "outputId": "ae44a56c-fefe-4575-faed-8eafe99765d1"
      },
      "outputs": [
        {
          "output_type": "stream",
          "name": "stdout",
          "text": [
            "Train Size :  (4504, 7)\n",
            "Test Size  :  (1931, 7)\n"
          ]
        },
        {
          "output_type": "execute_result",
          "data": {
            "text/plain": [
              "      Store       Date  Holiday_Flag  Temperature  Fuel_Price         CPI  \\\n",
              "5683     40 2012-02-17             0        25.56       3.703  137.258310   \n",
              "6343     45 2011-01-28             0        24.05       3.237  183.180095   \n",
              "1645     12 2011-06-24             0        88.95       3.898  129.066300   \n",
              "4114     29 2012-03-16             0        46.06       3.867  137.584387   \n",
              "3598     26 2010-07-16             0        67.66       2.796  132.566774   \n",
              "...     ...        ...           ...          ...         ...         ...   \n",
              "3271     23 2012-06-29             0        64.23       3.577  138.196267   \n",
              "2715     19 2012-10-19             0        53.44       4.153  138.833613   \n",
              "2204     16 2011-03-25             0        32.61       3.414  192.196484   \n",
              "2693     19 2012-05-18             0        58.81       4.029  138.106581   \n",
              "3829     27 2012-03-23             0        57.30       4.054  141.626933   \n",
              "\n",
              "      Unemployment  \n",
              "5683         4.261  \n",
              "6343         8.549  \n",
              "1645        13.736  \n",
              "4114         8.988  \n",
              "3598         8.445  \n",
              "...            ...  \n",
              "3271         4.125  \n",
              "2715         7.992  \n",
              "2204         6.614  \n",
              "2693         8.150  \n",
              "3829         8.009  \n",
              "\n",
              "[4504 rows x 7 columns]"
            ],
            "text/html": [
              "\n",
              "  <div id=\"df-3c7f949f-9a38-4b31-b664-5c622d66a2e9\">\n",
              "    <div class=\"colab-df-container\">\n",
              "      <div>\n",
              "<style scoped>\n",
              "    .dataframe tbody tr th:only-of-type {\n",
              "        vertical-align: middle;\n",
              "    }\n",
              "\n",
              "    .dataframe tbody tr th {\n",
              "        vertical-align: top;\n",
              "    }\n",
              "\n",
              "    .dataframe thead th {\n",
              "        text-align: right;\n",
              "    }\n",
              "</style>\n",
              "<table border=\"1\" class=\"dataframe\">\n",
              "  <thead>\n",
              "    <tr style=\"text-align: right;\">\n",
              "      <th></th>\n",
              "      <th>Store</th>\n",
              "      <th>Date</th>\n",
              "      <th>Holiday_Flag</th>\n",
              "      <th>Temperature</th>\n",
              "      <th>Fuel_Price</th>\n",
              "      <th>CPI</th>\n",
              "      <th>Unemployment</th>\n",
              "    </tr>\n",
              "  </thead>\n",
              "  <tbody>\n",
              "    <tr>\n",
              "      <th>5683</th>\n",
              "      <td>40</td>\n",
              "      <td>2012-02-17</td>\n",
              "      <td>0</td>\n",
              "      <td>25.56</td>\n",
              "      <td>3.703</td>\n",
              "      <td>137.258310</td>\n",
              "      <td>4.261</td>\n",
              "    </tr>\n",
              "    <tr>\n",
              "      <th>6343</th>\n",
              "      <td>45</td>\n",
              "      <td>2011-01-28</td>\n",
              "      <td>0</td>\n",
              "      <td>24.05</td>\n",
              "      <td>3.237</td>\n",
              "      <td>183.180095</td>\n",
              "      <td>8.549</td>\n",
              "    </tr>\n",
              "    <tr>\n",
              "      <th>1645</th>\n",
              "      <td>12</td>\n",
              "      <td>2011-06-24</td>\n",
              "      <td>0</td>\n",
              "      <td>88.95</td>\n",
              "      <td>3.898</td>\n",
              "      <td>129.066300</td>\n",
              "      <td>13.736</td>\n",
              "    </tr>\n",
              "    <tr>\n",
              "      <th>4114</th>\n",
              "      <td>29</td>\n",
              "      <td>2012-03-16</td>\n",
              "      <td>0</td>\n",
              "      <td>46.06</td>\n",
              "      <td>3.867</td>\n",
              "      <td>137.584387</td>\n",
              "      <td>8.988</td>\n",
              "    </tr>\n",
              "    <tr>\n",
              "      <th>3598</th>\n",
              "      <td>26</td>\n",
              "      <td>2010-07-16</td>\n",
              "      <td>0</td>\n",
              "      <td>67.66</td>\n",
              "      <td>2.796</td>\n",
              "      <td>132.566774</td>\n",
              "      <td>8.445</td>\n",
              "    </tr>\n",
              "    <tr>\n",
              "      <th>...</th>\n",
              "      <td>...</td>\n",
              "      <td>...</td>\n",
              "      <td>...</td>\n",
              "      <td>...</td>\n",
              "      <td>...</td>\n",
              "      <td>...</td>\n",
              "      <td>...</td>\n",
              "    </tr>\n",
              "    <tr>\n",
              "      <th>3271</th>\n",
              "      <td>23</td>\n",
              "      <td>2012-06-29</td>\n",
              "      <td>0</td>\n",
              "      <td>64.23</td>\n",
              "      <td>3.577</td>\n",
              "      <td>138.196267</td>\n",
              "      <td>4.125</td>\n",
              "    </tr>\n",
              "    <tr>\n",
              "      <th>2715</th>\n",
              "      <td>19</td>\n",
              "      <td>2012-10-19</td>\n",
              "      <td>0</td>\n",
              "      <td>53.44</td>\n",
              "      <td>4.153</td>\n",
              "      <td>138.833613</td>\n",
              "      <td>7.992</td>\n",
              "    </tr>\n",
              "    <tr>\n",
              "      <th>2204</th>\n",
              "      <td>16</td>\n",
              "      <td>2011-03-25</td>\n",
              "      <td>0</td>\n",
              "      <td>32.61</td>\n",
              "      <td>3.414</td>\n",
              "      <td>192.196484</td>\n",
              "      <td>6.614</td>\n",
              "    </tr>\n",
              "    <tr>\n",
              "      <th>2693</th>\n",
              "      <td>19</td>\n",
              "      <td>2012-05-18</td>\n",
              "      <td>0</td>\n",
              "      <td>58.81</td>\n",
              "      <td>4.029</td>\n",
              "      <td>138.106581</td>\n",
              "      <td>8.150</td>\n",
              "    </tr>\n",
              "    <tr>\n",
              "      <th>3829</th>\n",
              "      <td>27</td>\n",
              "      <td>2012-03-23</td>\n",
              "      <td>0</td>\n",
              "      <td>57.30</td>\n",
              "      <td>4.054</td>\n",
              "      <td>141.626933</td>\n",
              "      <td>8.009</td>\n",
              "    </tr>\n",
              "  </tbody>\n",
              "</table>\n",
              "<p>4504 rows × 7 columns</p>\n",
              "</div>\n",
              "      <button class=\"colab-df-convert\" onclick=\"convertToInteractive('df-3c7f949f-9a38-4b31-b664-5c622d66a2e9')\"\n",
              "              title=\"Convert this dataframe to an interactive table.\"\n",
              "              style=\"display:none;\">\n",
              "        \n",
              "  <svg xmlns=\"http://www.w3.org/2000/svg\" height=\"24px\"viewBox=\"0 0 24 24\"\n",
              "       width=\"24px\">\n",
              "    <path d=\"M0 0h24v24H0V0z\" fill=\"none\"/>\n",
              "    <path d=\"M18.56 5.44l.94 2.06.94-2.06 2.06-.94-2.06-.94-.94-2.06-.94 2.06-2.06.94zm-11 1L8.5 8.5l.94-2.06 2.06-.94-2.06-.94L8.5 2.5l-.94 2.06-2.06.94zm10 10l.94 2.06.94-2.06 2.06-.94-2.06-.94-.94-2.06-.94 2.06-2.06.94z\"/><path d=\"M17.41 7.96l-1.37-1.37c-.4-.4-.92-.59-1.43-.59-.52 0-1.04.2-1.43.59L10.3 9.45l-7.72 7.72c-.78.78-.78 2.05 0 2.83L4 21.41c.39.39.9.59 1.41.59.51 0 1.02-.2 1.41-.59l7.78-7.78 2.81-2.81c.8-.78.8-2.07 0-2.86zM5.41 20L4 18.59l7.72-7.72 1.47 1.35L5.41 20z\"/>\n",
              "  </svg>\n",
              "      </button>\n",
              "      \n",
              "  <style>\n",
              "    .colab-df-container {\n",
              "      display:flex;\n",
              "      flex-wrap:wrap;\n",
              "      gap: 12px;\n",
              "    }\n",
              "\n",
              "    .colab-df-convert {\n",
              "      background-color: #E8F0FE;\n",
              "      border: none;\n",
              "      border-radius: 50%;\n",
              "      cursor: pointer;\n",
              "      display: none;\n",
              "      fill: #1967D2;\n",
              "      height: 32px;\n",
              "      padding: 0 0 0 0;\n",
              "      width: 32px;\n",
              "    }\n",
              "\n",
              "    .colab-df-convert:hover {\n",
              "      background-color: #E2EBFA;\n",
              "      box-shadow: 0px 1px 2px rgba(60, 64, 67, 0.3), 0px 1px 3px 1px rgba(60, 64, 67, 0.15);\n",
              "      fill: #174EA6;\n",
              "    }\n",
              "\n",
              "    [theme=dark] .colab-df-convert {\n",
              "      background-color: #3B4455;\n",
              "      fill: #D2E3FC;\n",
              "    }\n",
              "\n",
              "    [theme=dark] .colab-df-convert:hover {\n",
              "      background-color: #434B5C;\n",
              "      box-shadow: 0px 1px 3px 1px rgba(0, 0, 0, 0.15);\n",
              "      filter: drop-shadow(0px 1px 2px rgba(0, 0, 0, 0.3));\n",
              "      fill: #FFFFFF;\n",
              "    }\n",
              "  </style>\n",
              "\n",
              "      <script>\n",
              "        const buttonEl =\n",
              "          document.querySelector('#df-3c7f949f-9a38-4b31-b664-5c622d66a2e9 button.colab-df-convert');\n",
              "        buttonEl.style.display =\n",
              "          google.colab.kernel.accessAllowed ? 'block' : 'none';\n",
              "\n",
              "        async function convertToInteractive(key) {\n",
              "          const element = document.querySelector('#df-3c7f949f-9a38-4b31-b664-5c622d66a2e9');\n",
              "          const dataTable =\n",
              "            await google.colab.kernel.invokeFunction('convertToInteractive',\n",
              "                                                     [key], {});\n",
              "          if (!dataTable) return;\n",
              "\n",
              "          const docLinkHtml = 'Like what you see? Visit the ' +\n",
              "            '<a target=\"_blank\" href=https://colab.research.google.com/notebooks/data_table.ipynb>data table notebook</a>'\n",
              "            + ' to learn more about interactive tables.';\n",
              "          element.innerHTML = '';\n",
              "          dataTable['output_type'] = 'display_data';\n",
              "          await google.colab.output.renderOutput(dataTable, element);\n",
              "          const docLink = document.createElement('div');\n",
              "          docLink.innerHTML = docLinkHtml;\n",
              "          element.appendChild(docLink);\n",
              "        }\n",
              "      </script>\n",
              "    </div>\n",
              "  </div>\n",
              "  "
            ]
          },
          "metadata": {},
          "execution_count": 30
        }
      ],
      "source": [
        "# Membagi data menjadi x train, x test dan y train, y test\n",
        "X_train, X_test, y_train, y_test = train_test_split(X, y, test_size=0.3, random_state=15)\n",
        "\n",
        "print('Train Size : ', X_train.shape)\n",
        "print('Test Size  : ', X_test.shape)\n",
        "X_train"
      ]
    },
    {
      "cell_type": "markdown",
      "metadata": {
        "id": "-0iVdFeFOyRw"
      },
      "source": [
        "##Handling Outlier"
      ]
    },
    {
      "cell_type": "code",
      "execution_count": 31,
      "metadata": {
        "id": "KZ_Ze6ifPWlo"
      },
      "outputs": [],
      "source": [
        "def diagnostic_plots(X_train, variable):\n",
        "    # Define figure size\n",
        "    plt.figure(figsize=(16, 4))\n",
        "\n",
        "    # Histogram\n",
        "    plt.subplot(1, 2, 1)\n",
        "    sns.histplot(X_train[variable], bins=30)\n",
        "    plt.title('Histogram')\n",
        "\n",
        "    # Boxplot\n",
        "    plt.subplot(1, 2, 2)\n",
        "    sns.boxplot(y=X_train[variable])\n",
        "    plt.title('Boxplot')\n",
        "\n",
        "    plt.show()"
      ]
    },
    {
      "cell_type": "code",
      "execution_count": 32,
      "metadata": {
        "colab": {
          "base_uri": "https://localhost:8080/",
          "height": 332
        },
        "id": "OXNkYOWxQgox",
        "outputId": "eb1405b8-fe99-4860-da00-6dc6bdd9ccb2"
      },
      "outputs": [
        {
          "output_type": "display_data",
          "data": {
            "text/plain": [
              "<Figure size 1152x288 with 2 Axes>"
            ],
            "image/png": "[encoded data removed]"
          },
          "metadata": {
            "needs_background": "light"
          }
        },
        {
          "output_type": "stream",
          "name": "stdout",
          "text": [
            "\n",
            "Skewness Value :  0.015538189964057\n"
          ]
        }
      ],
      "source": [
        "#melihat distribusi data dan outlier kolom Store\n",
        "diagnostic_plots(X_train, 'Store')\n",
        "print('\\nSkewness Value : ', X_train['Store'].skew())"
      ]
    },
    {
      "cell_type": "markdown",
      "metadata": {
        "id": "b9f0bymLs9jo"
      },
      "source": [
        "dari visualisasinya distribusi dari kolom store bisa dikategorikan normal dan tidak memiliki outlier"
      ]
    },
    {
      "cell_type": "code",
      "execution_count": 33,
      "metadata": {
        "colab": {
          "base_uri": "https://localhost:8080/",
          "height": 333
        },
        "id": "HzaT8CzWQtYe",
        "outputId": "0faa6d8f-f8c4-4e00-d7b9-4e4184f1b8ab"
      },
      "outputs": [
        {
          "output_type": "display_data",
          "data": {
            "text/plain": [
              "<Figure size 1152x288 with 2 Axes>"
            ],
            "image/png": "[encoded data removed]"
          },
          "metadata": {
            "needs_background": "light"
          }
        },
        {
          "output_type": "stream",
          "name": "stdout",
          "text": [
            "\n",
            "Skewness Value :  -0.09910505602487397\n"
          ]
        }
      ],
      "source": [
        "#melihat distribusi data dan outlier kolom Weekly_Sales\n",
        "diagnostic_plots(X_train, 'Fuel_Price')\n",
        "print('\\nSkewness Value : ', X_train['Fuel_Price'].skew())"
      ]
    },
    {
      "cell_type": "markdown",
      "metadata": {
        "id": "Dx1wmlPdtKt4"
      },
      "source": [
        "dari visualisasinya bisa dikategorikan normal dan tidak memiliki outlier"
      ]
    },
    {
      "cell_type": "code",
      "execution_count": 34,
      "metadata": {
        "colab": {
          "base_uri": "https://localhost:8080/",
          "height": 333
        },
        "id": "ztFLWyBiQxMV",
        "outputId": "0edb617e-98d9-4f7c-b139-567b210533f5"
      },
      "outputs": [
        {
          "output_type": "display_data",
          "data": {
            "text/plain": [
              "<Figure size 1152x288 with 2 Axes>"
            ],
            "image/png": "[encoded data removed]"
          },
          "metadata": {
            "needs_background": "light"
          }
        },
        {
          "output_type": "stream",
          "name": "stdout",
          "text": [
            "\n",
            "Skewness Value :  3.393817348299528\n"
          ]
        }
      ],
      "source": [
        "#melihat distribusi data dan outlier kolom Holiday_Flag\n",
        "diagnostic_plots(X_train, 'Holiday_Flag')\n",
        "print('\\nSkewness Value : ', X_train['Holiday_Flag'].skew())"
      ]
    },
    {
      "cell_type": "markdown",
      "metadata": {
        "id": "7AQY6mM-tVik"
      },
      "source": [
        "dari visualisasinya bisa di kategorikan skew, karena value kolomnya hanya bersisi 0 dan 1 dan tidak seimbang"
      ]
    },
    {
      "cell_type": "code",
      "execution_count": 35,
      "metadata": {
        "colab": {
          "base_uri": "https://localhost:8080/",
          "height": 332
        },
        "id": "NQUyBzfeQxXC",
        "outputId": "8e589a4d-28bc-4b6b-ce03-e9cc383d4b6a"
      },
      "outputs": [
        {
          "output_type": "display_data",
          "data": {
            "text/plain": [
              "<Figure size 1152x288 with 2 Axes>"
            ],
            "image/png": "[encoded data removed]"
          },
          "metadata": {
            "needs_background": "light"
          }
        },
        {
          "output_type": "stream",
          "name": "stdout",
          "text": [
            "\n",
            "Skewness Value :  -0.3338679913786132\n"
          ]
        }
      ],
      "source": [
        "#melihat distribusi data dan outlier kolom Temperature\n",
        "diagnostic_plots(X_train, 'Temperature')\n",
        "print('\\nSkewness Value : ', X_train['Temperature'].skew())"
      ]
    },
    {
      "cell_type": "markdown",
      "metadata": {
        "id": "BMVVxuPnuN6A"
      },
      "source": [
        "dari visualisasi tersebut, kolom temperature bisa dikategorikan berdistribusi normal, dan memiliki sedikit outlier"
      ]
    },
    {
      "cell_type": "code",
      "execution_count": 36,
      "metadata": {
        "colab": {
          "base_uri": "https://localhost:8080/",
          "height": 332
        },
        "id": "BahK1oPJQx8H",
        "outputId": "762da358-00fc-49af-a071-fd23e7fc5355"
      },
      "outputs": [
        {
          "output_type": "display_data",
          "data": {
            "text/plain": [
              "<Figure size 1152x288 with 2 Axes>"
            ],
            "image/png": "[encoded data removed]"
          },
          "metadata": {
            "needs_background": "light"
          }
        },
        {
          "output_type": "stream",
          "name": "stdout",
          "text": [
            "\n",
            "Skewness Value :  0.07831079266543074\n"
          ]
        }
      ],
      "source": [
        "#melihat distribusi data dan outlier kolom CPI\n",
        "diagnostic_plots(X_train, 'CPI')\n",
        "print('\\nSkewness Value : ', X_train['CPI'].skew())"
      ]
    },
    {
      "cell_type": "markdown",
      "metadata": {
        "id": "YSRYrGtzuXqi"
      },
      "source": [
        "dari visualisasi tersebut, dapat dikategorikan data memiliki distribusi skew"
      ]
    },
    {
      "cell_type": "code",
      "execution_count": 37,
      "metadata": {
        "colab": {
          "base_uri": "https://localhost:8080/",
          "height": 332
        },
        "id": "_L8GDUhtQyK4",
        "outputId": "f8cdac3d-dc70-4bb7-e91b-e755de151b27"
      },
      "outputs": [
        {
          "output_type": "display_data",
          "data": {
            "text/plain": [
              "<Figure size 1152x288 with 2 Axes>"
            ],
            "image/png": "[encoded data removed]"
          },
          "metadata": {
            "needs_background": "light"
          }
        },
        {
          "output_type": "stream",
          "name": "stdout",
          "text": [
            "\n",
            "Skewness Value :  1.2147580960788447\n"
          ]
        }
      ],
      "source": [
        "#melihat distribusi data dan outlier kolom Unemployment\n",
        "diagnostic_plots(X_train, 'Unemployment')\n",
        "print('\\nSkewness Value : ', X_train['Unemployment'].skew())"
      ]
    },
    {
      "cell_type": "markdown",
      "metadata": {
        "id": "g54Qv11iuu0-"
      },
      "source": [
        "dari visualisasi tersebut, dapat dikategorikan kalau datanya terdistribusi skew dan memiliki outlier"
      ]
    },
    {
      "cell_type": "markdown",
      "metadata": {
        "id": "M-CGXg9_VTWL"
      },
      "source": [
        "karena kolom holiday flag hanya mengklasifikasikan apakah tokonya libur atau tidak, maka, tidak perlu di handling outlier"
      ]
    },
    {
      "cell_type": "markdown",
      "metadata": {
        "id": "_ZU3uDgUR7-d"
      },
      "source": [
        "###Outlier detection for Normally distributed variables"
      ]
    },
    {
      "cell_type": "code",
      "execution_count": 38,
      "metadata": {
        "id": "qjsn8fUZRsm5"
      },
      "outputs": [],
      "source": [
        "#mendeteksi outlier\n",
        "def find_normal_boundaries(X_train, variable):\n",
        "    upper_boundary = X_train[variable].mean() + 3 * X_train[variable].std()\n",
        "    lower_boundary = X_train[variable].mean() - 3 * X_train[variable].std()\n",
        "\n",
        "    return upper_boundary, lower_boundary"
      ]
    },
    {
      "cell_type": "code",
      "execution_count": 39,
      "metadata": {
        "colab": {
          "base_uri": "https://localhost:8080/"
        },
        "id": "gKHVnaAASQKo",
        "outputId": "f6c48cc0-4b38-4224-96e0-358b91afb91d"
      },
      "outputs": [
        {
          "output_type": "execute_result",
          "data": {
            "text/plain": [
              "(116.32414418718571, 5.691028992210384)"
            ]
          },
          "metadata": {},
          "execution_count": 39
        }
      ],
      "source": [
        "#mendeteksi outlier dari kolom Temperature\n",
        "upper_boundary, lower_boundary = find_normal_boundaries(X_train, 'Temperature')\n",
        "upper_boundary, lower_boundary"
      ]
    },
    {
      "cell_type": "code",
      "execution_count": 40,
      "metadata": {
        "colab": {
          "base_uri": "https://localhost:8080/"
        },
        "id": "k0DMaGcoScEe",
        "outputId": "6f6dc45e-bdee-4c9a-8cbe-4263589b3969"
      },
      "outputs": [
        {
          "output_type": "stream",
          "name": "stdout",
          "text": [
            "percentage:  0.022202486678507993 %\n"
          ]
        }
      ],
      "source": [
        "outlier = X_train[(X_train['Temperature'] <= lower_boundary) | (X_train['Temperature'] >= upper_boundary)]\n",
        "\n",
        "print('percentage: ', len(outlier)/X_train.shape[0] * 100, '%')"
      ]
    },
    {
      "cell_type": "markdown",
      "metadata": {
        "id": "r7d5iVmhTCRD"
      },
      "source": [
        "###Handling Outlier using Gaussian method for Normal Distribution"
      ]
    },
    {
      "cell_type": "code",
      "execution_count": 41,
      "metadata": {
        "id": "_2XfAmqyTC3F"
      },
      "outputs": [],
      "source": [
        "#menghandle outlier untuk data yg distribusi normal\n",
        "def count_outliers_gaussian(X_train, col_name):\n",
        "    col_mean, col_std = X_train[col_name].mean(), X_train[col_name].std()\n",
        "  \n",
        "    cut_off = col_std * 4\n",
        "    lower, upper = col_mean - cut_off, col_mean + cut_off\n",
        "    num_outliers = len(X_train[(X_train[col_name] < lower) | (X_train[col_name] > upper)])\n",
        "    percentage_outliers = (num_outliers / len(X_train)) * 100\n",
        "    \n",
        "    return percentage_outliers"
      ]
    },
    {
      "cell_type": "code",
      "execution_count": 42,
      "metadata": {
        "colab": {
          "base_uri": "https://localhost:8080/"
        },
        "id": "qzgNeh1uTE4-",
        "outputId": "7221ecb3-2c21-4ccf-89fd-af33e28bec84"
      },
      "outputs": [
        {
          "output_type": "stream",
          "name": "stdout",
          "text": [
            "Presentase outlier pada kolom Temperature adalah 0.00%\n"
          ]
        }
      ],
      "source": [
        "#melihat presentase outlier yg sudah di handle\n",
        "outlier_percentage = count_outliers_gaussian(X_train, 'Temperature')\n",
        "print(f'Presentase outlier pada kolom Temperature adalah {outlier_percentage:.2f}%')"
      ]
    },
    {
      "cell_type": "markdown",
      "metadata": {
        "id": "i0k6ubZITsVz"
      },
      "source": [
        "setelah menggunakan metode gaussian, outlier sudah ke handle"
      ]
    },
    {
      "cell_type": "markdown",
      "metadata": {
        "id": "udGPKPYYS6GD"
      },
      "source": [
        "###Outlier detection for skewed variables"
      ]
    },
    {
      "cell_type": "code",
      "execution_count": 43,
      "metadata": {
        "id": "9teiGsLwSiMd"
      },
      "outputs": [],
      "source": [
        "#mendeteksi outlier untuk distribusi skew\n",
        "def find_skewed_boundaries(X_train, variable, distance):\n",
        "    IQR = X_train[variable].quantile(0.75) - X_train[variable].quantile(0.25)\n",
        "\n",
        "    lower_boundary = X_train[variable].quantile(0.25) - (IQR * distance)\n",
        "    upper_boundary = X_train[variable].quantile(0.75) + (IQR * distance)\n",
        "\n",
        "    return upper_boundary, lower_boundary"
      ]
    },
    {
      "cell_type": "code",
      "execution_count": 44,
      "metadata": {
        "colab": {
          "base_uri": "https://localhost:8080/"
        },
        "id": "9g0WC3dAUV6o",
        "outputId": "cdc1a421-47cc-4ce1-b795-c31ea8f485e3"
      },
      "outputs": [
        {
          "output_type": "execute_result",
          "data": {
            "text/plain": [
              "(157.16000000000003, -34.080000000000005)"
            ]
          },
          "metadata": {},
          "execution_count": 44
        }
      ],
      "source": [
        "#mendeteksi outlier dari kolom Temperature\n",
        "upper_boundary, lower_boundary = find_skewed_boundaries(X_train, 'Temperature', 3)\n",
        "upper_boundary, lower_boundary"
      ]
    },
    {
      "cell_type": "code",
      "execution_count": 45,
      "metadata": {
        "colab": {
          "base_uri": "https://localhost:8080/"
        },
        "id": "z1sfpn8WUWEG",
        "outputId": "361a5fa3-2fe1-49aa-f80d-578e8ad25aa6"
      },
      "outputs": [
        {
          "output_type": "stream",
          "name": "stdout",
          "text": [
            "percentage:  0.0 %\n"
          ]
        }
      ],
      "source": [
        "outlier = X_train[(X_train['Temperature'] <= lower_boundary) | (X_train['Temperature'] >= upper_boundary)]\n",
        "\n",
        "print('percentage: ', len(outlier)/df.shape[0] * 100, '%')"
      ]
    },
    {
      "cell_type": "code",
      "execution_count": 46,
      "metadata": {
        "colab": {
          "base_uri": "https://localhost:8080/"
        },
        "id": "DmyFHplvUX1m",
        "outputId": "086a7daf-39ab-4198-cc80-26c1ef587e91"
      },
      "outputs": [
        {
          "output_type": "execute_result",
          "data": {
            "text/plain": [
              "(456.9497667249999, -113.14327462499989)"
            ]
          },
          "metadata": {},
          "execution_count": 46
        }
      ],
      "source": [
        "#mendeteksi outlier dari kolom CPI\n",
        "upper_boundary, lower_boundary = find_skewed_boundaries(X_train, 'CPI', 3)\n",
        "upper_boundary, lower_boundary"
      ]
    },
    {
      "cell_type": "code",
      "execution_count": 47,
      "metadata": {
        "colab": {
          "base_uri": "https://localhost:8080/"
        },
        "id": "0dhosbKwVFCQ",
        "outputId": "4b5aa740-6403-4a1c-fc66-69f16c03d678"
      },
      "outputs": [
        {
          "output_type": "stream",
          "name": "stdout",
          "text": [
            "percentage:  0.0 %\n"
          ]
        }
      ],
      "source": [
        "outlier = X_train[(X_train['CPI'] <= lower_boundary) | (X_train['CPI'] >= upper_boundary)]\n",
        "\n",
        "print('percentage: ', len(outlier)/df.shape[0] * 100, '%')"
      ]
    },
    {
      "cell_type": "code",
      "execution_count": 48,
      "metadata": {
        "colab": {
          "base_uri": "https://localhost:8080/"
        },
        "id": "tNnnpXhmUX_P",
        "outputId": "e0ec13c2-a10b-449a-afb6-247a9fa13595"
      },
      "outputs": [
        {
          "output_type": "execute_result",
          "data": {
            "text/plain": [
              "(13.827, 1.689)"
            ]
          },
          "metadata": {},
          "execution_count": 48
        }
      ],
      "source": [
        "#mendeteksi outlier dari kolom Unemployment\n",
        "upper_boundary, lower_boundary = find_skewed_boundaries(X_train, 'Unemployment', 3)\n",
        "upper_boundary, lower_boundary"
      ]
    },
    {
      "cell_type": "code",
      "execution_count": 49,
      "metadata": {
        "colab": {
          "base_uri": "https://localhost:8080/"
        },
        "id": "kd7QxzWzVGZK",
        "outputId": "cbe55164-4fa1-435a-9c07-afaf0e29264b"
      },
      "outputs": [
        {
          "output_type": "stream",
          "name": "stdout",
          "text": [
            "percentage:  2.0202020202020203 %\n"
          ]
        }
      ],
      "source": [
        "outlier = X_train[(X_train['Unemployment'] <= lower_boundary) | (X_train['Unemployment'] >= upper_boundary)]\n",
        "\n",
        "print('percentage: ', len(outlier)/df.shape[0] * 100, '%')"
      ]
    },
    {
      "cell_type": "markdown",
      "metadata": {
        "id": "c1KDui-nVpeZ"
      },
      "source": [
        "###Handling Outlier for skewed variables using winsorizing"
      ]
    },
    {
      "cell_type": "markdown",
      "metadata": {
        "id": "8u5SSyHDWIrc"
      },
      "source": [
        "Alasan menggunakan Winsorizing adalah untuk mempertahankan informasi yang terkandung dalam dataset dan mengurangi pengaruh outliers terhadap analisis atau model"
      ]
    },
    {
      "cell_type": "code",
      "execution_count": 50,
      "metadata": {
        "colab": {
          "base_uri": "https://localhost:8080/",
          "height": 206
        },
        "id": "85lZ-8NNWFQV",
        "outputId": "b06051b9-c79c-41d6-f9f4-0d0280724d11"
      },
      "outputs": [
        {
          "output_type": "execute_result",
          "data": {
            "text/plain": [
              "      Unemployment\n",
              "5683         4.261\n",
              "6343         8.549\n",
              "1645        13.736\n",
              "4114         8.988\n",
              "3598         8.445"
            ],
            "text/html": [
              "\n",
              "  <div id=\"df-45b5ce7a-9017-4fe9-b6c7-dd829f1f2b41\">\n",
              "    <div class=\"colab-df-container\">\n",
              "      <div>\n",
              "<style scoped>\n",
              "    .dataframe tbody tr th:only-of-type {\n",
              "        vertical-align: middle;\n",
              "    }\n",
              "\n",
              "    .dataframe tbody tr th {\n",
              "        vertical-align: top;\n",
              "    }\n",
              "\n",
              "    .dataframe thead th {\n",
              "        text-align: right;\n",
              "    }\n",
              "</style>\n",
              "<table border=\"1\" class=\"dataframe\">\n",
              "  <thead>\n",
              "    <tr style=\"text-align: right;\">\n",
              "      <th></th>\n",
              "      <th>Unemployment</th>\n",
              "    </tr>\n",
              "  </thead>\n",
              "  <tbody>\n",
              "    <tr>\n",
              "      <th>5683</th>\n",
              "      <td>4.261</td>\n",
              "    </tr>\n",
              "    <tr>\n",
              "      <th>6343</th>\n",
              "      <td>8.549</td>\n",
              "    </tr>\n",
              "    <tr>\n",
              "      <th>1645</th>\n",
              "      <td>13.736</td>\n",
              "    </tr>\n",
              "    <tr>\n",
              "      <th>4114</th>\n",
              "      <td>8.988</td>\n",
              "    </tr>\n",
              "    <tr>\n",
              "      <th>3598</th>\n",
              "      <td>8.445</td>\n",
              "    </tr>\n",
              "  </tbody>\n",
              "</table>\n",
              "</div>\n",
              "      <button class=\"colab-df-convert\" onclick=\"convertToInteractive('df-45b5ce7a-9017-4fe9-b6c7-dd829f1f2b41')\"\n",
              "              title=\"Convert this dataframe to an interactive table.\"\n",
              "              style=\"display:none;\">\n",
              "        \n",
              "  <svg xmlns=\"http://www.w3.org/2000/svg\" height=\"24px\"viewBox=\"0 0 24 24\"\n",
              "       width=\"24px\">\n",
              "    <path d=\"M0 0h24v24H0V0z\" fill=\"none\"/>\n",
              "    <path d=\"M18.56 5.44l.94 2.06.94-2.06 2.06-.94-2.06-.94-.94-2.06-.94 2.06-2.06.94zm-11 1L8.5 8.5l.94-2.06 2.06-.94-2.06-.94L8.5 2.5l-.94 2.06-2.06.94zm10 10l.94 2.06.94-2.06 2.06-.94-2.06-.94-.94-2.06-.94 2.06-2.06.94z\"/><path d=\"M17.41 7.96l-1.37-1.37c-.4-.4-.92-.59-1.43-.59-.52 0-1.04.2-1.43.59L10.3 9.45l-7.72 7.72c-.78.78-.78 2.05 0 2.83L4 21.41c.39.39.9.59 1.41.59.51 0 1.02-.2 1.41-.59l7.78-7.78 2.81-2.81c.8-.78.8-2.07 0-2.86zM5.41 20L4 18.59l7.72-7.72 1.47 1.35L5.41 20z\"/>\n",
              "  </svg>\n",
              "      </button>\n",
              "      \n",
              "  <style>\n",
              "    .colab-df-container {\n",
              "      display:flex;\n",
              "      flex-wrap:wrap;\n",
              "      gap: 12px;\n",
              "    }\n",
              "\n",
              "    .colab-df-convert {\n",
              "      background-color: #E8F0FE;\n",
              "      border: none;\n",
              "      border-radius: 50%;\n",
              "      cursor: pointer;\n",
              "      display: none;\n",
              "      fill: #1967D2;\n",
              "      height: 32px;\n",
              "      padding: 0 0 0 0;\n",
              "      width: 32px;\n",
              "    }\n",
              "\n",
              "    .colab-df-convert:hover {\n",
              "      background-color: #E2EBFA;\n",
              "      box-shadow: 0px 1px 2px rgba(60, 64, 67, 0.3), 0px 1px 3px 1px rgba(60, 64, 67, 0.15);\n",
              "      fill: #174EA6;\n",
              "    }\n",
              "\n",
              "    [theme=dark] .colab-df-convert {\n",
              "      background-color: #3B4455;\n",
              "      fill: #D2E3FC;\n",
              "    }\n",
              "\n",
              "    [theme=dark] .colab-df-convert:hover {\n",
              "      background-color: #434B5C;\n",
              "      box-shadow: 0px 1px 3px 1px rgba(0, 0, 0, 0.15);\n",
              "      filter: drop-shadow(0px 1px 2px rgba(0, 0, 0, 0.3));\n",
              "      fill: #FFFFFF;\n",
              "    }\n",
              "  </style>\n",
              "\n",
              "      <script>\n",
              "        const buttonEl =\n",
              "          document.querySelector('#df-45b5ce7a-9017-4fe9-b6c7-dd829f1f2b41 button.colab-df-convert');\n",
              "        buttonEl.style.display =\n",
              "          google.colab.kernel.accessAllowed ? 'block' : 'none';\n",
              "\n",
              "        async function convertToInteractive(key) {\n",
              "          const element = document.querySelector('#df-45b5ce7a-9017-4fe9-b6c7-dd829f1f2b41');\n",
              "          const dataTable =\n",
              "            await google.colab.kernel.invokeFunction('convertToInteractive',\n",
              "                                                     [key], {});\n",
              "          if (!dataTable) return;\n",
              "\n",
              "          const docLinkHtml = 'Like what you see? Visit the ' +\n",
              "            '<a target=\"_blank\" href=https://colab.research.google.com/notebooks/data_table.ipynb>data table notebook</a>'\n",
              "            + ' to learn more about interactive tables.';\n",
              "          element.innerHTML = '';\n",
              "          dataTable['output_type'] = 'display_data';\n",
              "          await google.colab.output.renderOutput(dataTable, element);\n",
              "          const docLink = document.createElement('div');\n",
              "          docLink.innerHTML = docLinkHtml;\n",
              "          element.appendChild(docLink);\n",
              "        }\n",
              "      </script>\n",
              "    </div>\n",
              "  </div>\n",
              "  "
            ]
          },
          "metadata": {},
          "execution_count": 50
        }
      ],
      "source": [
        "#groupping data\n",
        "outlier_train = X_train[['Unemployment']]\n",
        "outlier_train.head()"
      ]
    },
    {
      "cell_type": "code",
      "execution_count": 51,
      "metadata": {
        "id": "Xm764jRmXAEo"
      },
      "outputs": [],
      "source": [
        "#menggunakan winsorizer\n",
        "for col in outlier_train:\n",
        "    winsorisertrain = Winsorizer(capping_method='iqr', tail='both', fold=1.5, variables=['Unemployment'])\n",
        "\n",
        "winsorisertrain.fit(outlier_train)\n",
        "outlierdf_train = winsorisertrain.transform(outlier_train)"
      ]
    },
    {
      "cell_type": "code",
      "execution_count": 52,
      "metadata": {
        "colab": {
          "base_uri": "https://localhost:8080/"
        },
        "id": "OwlNP-pWXDZf",
        "outputId": "344114f0-2ea1-4f29-cc58-ca44c72ca1b5"
      },
      "outputs": [
        {
          "output_type": "stream",
          "name": "stdout",
          "text": [
            "Left Tail Caps  :  {'Unemployment': 4.29}\n",
            "Right Tail Caps :  {'Unemployment': 11.225999999999999}\n"
          ]
        }
      ],
      "source": [
        "# Inspect the minimum caps for each variable\n",
        "print('Left Tail Caps  : ', winsorisertrain.left_tail_caps_)\n",
        "\n",
        "# Iinspect the maximum caps for each variable\n",
        "print('Right Tail Caps : ', winsorisertrain.right_tail_caps_)"
      ]
    },
    {
      "cell_type": "code",
      "execution_count": 53,
      "metadata": {
        "colab": {
          "base_uri": "https://localhost:8080/",
          "height": 628
        },
        "id": "EpRSRFTnXD6g",
        "outputId": "7e4b81fb-a1b3-425a-8652-eb0d11e5db8d"
      },
      "outputs": [
        {
          "output_type": "stream",
          "name": "stdout",
          "text": [
            "Unemployment - Before Capping\n"
          ]
        },
        {
          "output_type": "display_data",
          "data": {
            "text/plain": [
              "<Figure size 1152x288 with 2 Axes>"
            ],
            "image/png": "[encoded data removed]"
          },
          "metadata": {
            "needs_background": "light"
          }
        },
        {
          "output_type": "stream",
          "name": "stdout",
          "text": [
            "\n",
            " Unemployment - After Capping\n"
          ]
        },
        {
          "output_type": "display_data",
          "data": {
            "text/plain": [
              "<Figure size 1152x288 with 2 Axes>"
            ],
            "image/png": "[encoded data removed]"
          },
          "metadata": {
            "needs_background": "light"
          }
        }
      ],
      "source": [
        "#find outliers in Unemployment\n",
        "print('Unemployment - Before Capping')\n",
        "diagnostic_plots(outlier_train, 'Unemployment')\n",
        "print('\\n Unemployment - After Capping')\n",
        "diagnostic_plots(outlierdf_train, 'Unemployment')"
      ]
    },
    {
      "cell_type": "code",
      "execution_count": 54,
      "metadata": {
        "id": "s5AQhgBlXFay"
      },
      "outputs": [],
      "source": [
        "X_train = winsorisertrain.fit_transform(X_train)"
      ]
    },
    {
      "cell_type": "markdown",
      "metadata": {
        "id": "HrVSBKRiXud_"
      },
      "source": [
        "##Handling Missing Value"
      ]
    },
    {
      "cell_type": "code",
      "execution_count": 55,
      "metadata": {
        "colab": {
          "base_uri": "https://localhost:8080/"
        },
        "id": "tQFCFFBjXzkF",
        "outputId": "d4cc627a-0dbb-4762-cb7c-4c8bee690bf4"
      },
      "outputs": [
        {
          "output_type": "execute_result",
          "data": {
            "text/plain": [
              "Store           0\n",
              "Date            0\n",
              "Holiday_Flag    0\n",
              "Temperature     0\n",
              "Fuel_Price      0\n",
              "CPI             0\n",
              "Unemployment    0\n",
              "dtype: int64"
            ]
          },
          "metadata": {},
          "execution_count": 55
        }
      ],
      "source": [
        "#melihat missing value di data X_train \n",
        "X_train.isnull().sum()"
      ]
    },
    {
      "cell_type": "code",
      "execution_count": 56,
      "metadata": {
        "colab": {
          "base_uri": "https://localhost:8080/"
        },
        "id": "-azvSeI_X1BK",
        "outputId": "2e40dbf0-2f7a-4a06-d50d-8b65c4e4ab14"
      },
      "outputs": [
        {
          "output_type": "execute_result",
          "data": {
            "text/plain": [
              "Store           0\n",
              "Date            0\n",
              "Holiday_Flag    0\n",
              "Temperature     0\n",
              "Fuel_Price      0\n",
              "CPI             0\n",
              "Unemployment    0\n",
              "dtype: int64"
            ]
          },
          "metadata": {},
          "execution_count": 56
        }
      ],
      "source": [
        "#melihat missing value di data X_test\n",
        "X_test.isnull().sum()"
      ]
    },
    {
      "cell_type": "code",
      "execution_count": 57,
      "metadata": {
        "colab": {
          "base_uri": "https://localhost:8080/"
        },
        "id": "47AQlDbBX2yW",
        "outputId": "dba5707c-3456-4a9d-c2b4-5c9ec21bb2e2"
      },
      "outputs": [
        {
          "output_type": "execute_result",
          "data": {
            "text/plain": [
              "0"
            ]
          },
          "metadata": {},
          "execution_count": 57
        }
      ],
      "source": [
        "#melihat missing value di data y_train\n",
        "y_train.isnull().sum()"
      ]
    },
    {
      "cell_type": "code",
      "execution_count": 58,
      "metadata": {
        "colab": {
          "base_uri": "https://localhost:8080/"
        },
        "id": "9-HEmkuAX5ZE",
        "outputId": "b12e3a78-9f96-4774-f703-1d8c67bb00e1"
      },
      "outputs": [
        {
          "output_type": "execute_result",
          "data": {
            "text/plain": [
              "0"
            ]
          },
          "metadata": {},
          "execution_count": 58
        }
      ],
      "source": [
        "#melihat missing value di data y_test\n",
        "y_test.isnull().sum()"
      ]
    },
    {
      "cell_type": "markdown",
      "metadata": {
        "id": "afZ1zp5JX-Ar"
      },
      "source": [
        "setelah di cek, didatanya tidak terdapat missing value"
      ]
    },
    {
      "cell_type": "markdown",
      "metadata": {
        "id": "qb_3_3oAYDF6"
      },
      "source": [
        "##Feature Scaling"
      ]
    },
    {
      "cell_type": "markdown",
      "metadata": {
        "id": "r0rzm0PPYHMh"
      },
      "source": [
        "menggunakan minmax scaler karena terdapat data yg tidak bisa di handling outliernya, maka, agar tetap seimbang, menggunakan minmax scaler agar memiliki rentang yg sama"
      ]
    },
    {
      "cell_type": "code",
      "execution_count": 59,
      "metadata": {
        "id": "HgBUJUBrX62l"
      },
      "outputs": [],
      "source": [
        "#scaling data\n",
        "scaler = StandardScaler()\n",
        "X_train_scaled = scaler.fit_transform(X_train[['Temperature', 'Store', 'Fuel_Price', \n",
        "                                               'Holiday_Flag', 'CPI', 'Unemployment']])\n",
        "\n",
        "X_test_scaled = scaler.transform(X_test[['Temperature', 'Store', 'Fuel_Price', \n",
        "                                               'Holiday_Flag', 'CPI', 'Unemployment']])"
      ]
    },
    {
      "cell_type": "markdown",
      "source": [
        "##Make Pipeline"
      ],
      "metadata": {
        "id": "9lp_0pcxlB59"
      }
    },
    {
      "cell_type": "code",
      "execution_count": 60,
      "metadata": {
        "id": "QFL8qk0TmzIU"
      },
      "outputs": [],
      "source": [
        "# membuat pipeline Linear Regression\n",
        "pipeline_linreg = Pipeline([\n",
        "    ('scaler', StandardScaler()),\n",
        "    ('Linear Regression', LinearRegression())\n",
        "])"
      ]
    },
    {
      "cell_type": "code",
      "execution_count": 61,
      "metadata": {
        "id": "7cUo_MxcoA4V"
      },
      "outputs": [],
      "source": [
        "# membuat pipeline Random Forest\n",
        "pipeline_rf = Pipeline([\n",
        "    ('scaler', StandardScaler()),\n",
        "    ('Random Forest', RandomForestRegressor())\n",
        "])"
      ]
    },
    {
      "cell_type": "code",
      "execution_count": 62,
      "metadata": {
        "id": "UUU_7trQoyjs"
      },
      "outputs": [],
      "source": [
        "# membuat pipeline Gradient Boosting\n",
        "pipeline_gb = Pipeline([\n",
        "  ('scaler', StandardScaler()),\n",
        "  ('Gradient Boosting', GradientBoostingRegressor())\n",
        "])"
      ]
    },
    {
      "cell_type": "code",
      "execution_count": 63,
      "metadata": {
        "id": "uBYdsf9upOL7"
      },
      "outputs": [],
      "source": [
        "# membuat pipeline SVM\n",
        "pipeline_svm = Pipeline([\n",
        "    ('scaler', StandardScaler()),\n",
        "    ('SVM', SVR(kernel='linear'))\n",
        "])"
      ]
    },
    {
      "cell_type": "markdown",
      "metadata": {
        "id": "2XDiWe04nhDS"
      },
      "source": [
        "#VI. Model Definition"
      ]
    },
    {
      "cell_type": "markdown",
      "metadata": {
        "id": "KbHDMpw8npqF"
      },
      "source": []
    },
    {
      "cell_type": "markdown",
      "metadata": {
        "id": "yMIz4kR7np2t"
      },
      "source": [
        "#VII. Model Training"
      ]
    },
    {
      "cell_type": "markdown",
      "metadata": {
        "id": "sEGPI77hpq4C"
      },
      "source": [
        "##Linear Regression"
      ]
    },
    {
      "cell_type": "code",
      "execution_count": 64,
      "metadata": {
        "colab": {
          "base_uri": "https://localhost:8080/",
          "height": 127
        },
        "id": "Qc2-6-zRm2N7",
        "outputId": "930d0884-472e-4b10-ab02-b46838ae5ec4"
      },
      "outputs": [
        {
          "output_type": "execute_result",
          "data": {
            "text/plain": [
              "Pipeline(steps=[('scaler', StandardScaler()),\n",
              "                ('Linear Regression', LinearRegression())])"
            ],
            "text/html": [
              "<style>#sk-container-id-1 {color: black;background-color: white;}#sk-container-id-1 pre{padding: 0;}#sk-container-id-1 div.sk-toggleable {background-color: white;}#sk-container-id-1 label.sk-toggleable__label {cursor: pointer;display: block;width: 100%;margin-bottom: 0;padding: 0.3em;box-sizing: border-box;text-align: center;}#sk-container-id-1 label.sk-toggleable__label-arrow:before {content: \"▸\";float: left;margin-right: 0.25em;color: #696969;}#sk-container-id-1 label.sk-toggleable__label-arrow:hover:before {color: black;}#sk-container-id-1 div.sk-estimator:hover label.sk-toggleable__label-arrow:before {color: black;}#sk-container-id-1 div.sk-toggleable__content {max-height: 0;max-width: 0;overflow: hidden;text-align: left;background-color: #f0f8ff;}#sk-container-id-1 div.sk-toggleable__content pre {margin: 0.2em;color: black;border-radius: 0.25em;background-color: #f0f8ff;}#sk-container-id-1 input.sk-toggleable__control:checked~div.sk-toggleable__content {max-height: 200px;max-width: 100%;overflow: auto;}#sk-container-id-1 input.sk-toggleable__control:checked~label.sk-toggleable__label-arrow:before {content: \"▾\";}#sk-container-id-1 div.sk-estimator input.sk-toggleable__control:checked~label.sk-toggleable__label {background-color: #d4ebff;}#sk-container-id-1 div.sk-label input.sk-toggleable__control:checked~label.sk-toggleable__label {background-color: #d4ebff;}#sk-container-id-1 input.sk-hidden--visually {border: 0;clip: rect(1px 1px 1px 1px);clip: rect(1px, 1px, 1px, 1px);height: 1px;margin: -1px;overflow: hidden;padding: 0;position: absolute;width: 1px;}#sk-container-id-1 div.sk-estimator {font-family: monospace;background-color: #f0f8ff;border: 1px dotted black;border-radius: 0.25em;box-sizing: border-box;margin-bottom: 0.5em;}#sk-container-id-1 div.sk-estimator:hover {background-color: #d4ebff;}#sk-container-id-1 div.sk-parallel-item::after {content: \"\";width: 100%;border-bottom: 1px solid gray;flex-grow: 1;}#sk-container-id-1 div.sk-label:hover label.sk-toggleable__label {background-color: #d4ebff;}#sk-container-id-1 div.sk-serial::before {content: \"\";position: absolute;border-left: 1px solid gray;box-sizing: border-box;top: 0;bottom: 0;left: 50%;z-index: 0;}#sk-container-id-1 div.sk-serial {display: flex;flex-direction: column;align-items: center;background-color: white;padding-right: 0.2em;padding-left: 0.2em;position: relative;}#sk-container-id-1 div.sk-item {position: relative;z-index: 1;}#sk-container-id-1 div.sk-parallel {display: flex;align-items: stretch;justify-content: center;background-color: white;position: relative;}#sk-container-id-1 div.sk-item::before, #sk-container-id-1 div.sk-parallel-item::before {content: \"\";position: absolute;border-left: 1px solid gray;box-sizing: border-box;top: 0;bottom: 0;left: 50%;z-index: -1;}#sk-container-id-1 div.sk-parallel-item {display: flex;flex-direction: column;z-index: 1;position: relative;background-color: white;}#sk-container-id-1 div.sk-parallel-item:first-child::after {align-self: flex-end;width: 50%;}#sk-container-id-1 div.sk-parallel-item:last-child::after {align-self: flex-start;width: 50%;}#sk-container-id-1 div.sk-parallel-item:only-child::after {width: 0;}#sk-container-id-1 div.sk-dashed-wrapped {border: 1px dashed gray;margin: 0 0.4em 0.5em 0.4em;box-sizing: border-box;padding-bottom: 0.4em;background-color: white;}#sk-container-id-1 div.sk-label label {font-family: monospace;font-weight: bold;display: inline-block;line-height: 1.2em;}#sk-container-id-1 div.sk-label-container {text-align: center;}#sk-container-id-1 div.sk-container {/* jupyter's `normalize.less` sets `[hidden] { display: none; }` but bootstrap.min.css set `[hidden] { display: none !important; }` so we also need the `!important` here to be able to override the default hidden behavior on the sphinx rendered scikit-learn.org. See: https://github.com/scikit-learn/scikit-learn/issues/21755 */display: inline-block !important;position: relative;}#sk-container-id-1 div.sk-text-repr-fallback {display: none;}</style><div id=\"sk-container-id-1\" class=\"sk-top-container\"><div class=\"sk-text-repr-fallback\"><pre>Pipeline(steps=[(&#x27;scaler&#x27;, StandardScaler()),\n",
              "                (&#x27;Linear Regression&#x27;, LinearRegression())])</pre><b>In a Jupyter environment, please rerun this cell to show the HTML representation or trust the notebook. <br />On GitHub, the HTML representation is unable to render, please try loading this page with nbviewer.org.</b></div><div class=\"sk-container\" hidden><div class=\"sk-item sk-dashed-wrapped\"><div class=\"sk-label-container\"><div class=\"sk-label sk-toggleable\"><input class=\"sk-toggleable__control sk-hidden--visually\" id=\"sk-estimator-id-1\" type=\"checkbox\" ><label for=\"sk-estimator-id-1\" class=\"sk-toggleable__label sk-toggleable__label-arrow\">Pipeline</label><div class=\"sk-toggleable__content\"><pre>Pipeline(steps=[(&#x27;scaler&#x27;, StandardScaler()),\n",
              "                (&#x27;Linear Regression&#x27;, LinearRegression())])</pre></div></div></div><div class=\"sk-serial\"><div class=\"sk-item\"><div class=\"sk-estimator sk-toggleable\"><input class=\"sk-toggleable__control sk-hidden--visually\" id=\"sk-estimator-id-2\" type=\"checkbox\" ><label for=\"sk-estimator-id-2\" class=\"sk-toggleable__label sk-toggleable__label-arrow\">StandardScaler</label><div class=\"sk-toggleable__content\"><pre>StandardScaler()</pre></div></div></div><div class=\"sk-item\"><div class=\"sk-estimator sk-toggleable\"><input class=\"sk-toggleable__control sk-hidden--visually\" id=\"sk-estimator-id-3\" type=\"checkbox\" ><label for=\"sk-estimator-id-3\" class=\"sk-toggleable__label sk-toggleable__label-arrow\">LinearRegression</label><div class=\"sk-toggleable__content\"><pre>LinearRegression()</pre></div></div></div></div></div></div></div>"
            ]
          },
          "metadata": {},
          "execution_count": 64
        }
      ],
      "source": [
        "# Training model\n",
        "pipeline_linreg.fit(X_train_scaled, y_train)"
      ]
    },
    {
      "cell_type": "code",
      "execution_count": 65,
      "metadata": {
        "id": "oqlQbsr1qoJN"
      },
      "outputs": [],
      "source": [
        "# Memprediksi label pada data test\n",
        "y_pred_linreg = pipeline_linreg.predict(X_test_scaled)"
      ]
    },
    {
      "cell_type": "markdown",
      "metadata": {
        "id": "tmj5JJUurM1O"
      },
      "source": [
        "##Random Forest"
      ]
    },
    {
      "cell_type": "code",
      "execution_count": 66,
      "metadata": {
        "colab": {
          "base_uri": "https://localhost:8080/",
          "height": 127
        },
        "id": "ZuSbrdzrp5cb",
        "outputId": "dc8c255a-3c75-42f4-f04d-77523f541688"
      },
      "outputs": [
        {
          "output_type": "execute_result",
          "data": {
            "text/plain": [
              "Pipeline(steps=[('scaler', StandardScaler()),\n",
              "                ('Random Forest', RandomForestRegressor())])"
            ],
            "text/html": [
              "<style>#sk-container-id-2 {color: black;background-color: white;}#sk-container-id-2 pre{padding: 0;}#sk-container-id-2 div.sk-toggleable {background-color: white;}#sk-container-id-2 label.sk-toggleable__label {cursor: pointer;display: block;width: 100%;margin-bottom: 0;padding: 0.3em;box-sizing: border-box;text-align: center;}#sk-container-id-2 label.sk-toggleable__label-arrow:before {content: \"▸\";float: left;margin-right: 0.25em;color: #696969;}#sk-container-id-2 label.sk-toggleable__label-arrow:hover:before {color: black;}#sk-container-id-2 div.sk-estimator:hover label.sk-toggleable__label-arrow:before {color: black;}#sk-container-id-2 div.sk-toggleable__content {max-height: 0;max-width: 0;overflow: hidden;text-align: left;background-color: #f0f8ff;}#sk-container-id-2 div.sk-toggleable__content pre {margin: 0.2em;color: black;border-radius: 0.25em;background-color: #f0f8ff;}#sk-container-id-2 input.sk-toggleable__control:checked~div.sk-toggleable__content {max-height: 200px;max-width: 100%;overflow: auto;}#sk-container-id-2 input.sk-toggleable__control:checked~label.sk-toggleable__label-arrow:before {content: \"▾\";}#sk-container-id-2 div.sk-estimator input.sk-toggleable__control:checked~label.sk-toggleable__label {background-color: #d4ebff;}#sk-container-id-2 div.sk-label input.sk-toggleable__control:checked~label.sk-toggleable__label {background-color: #d4ebff;}#sk-container-id-2 input.sk-hidden--visually {border: 0;clip: rect(1px 1px 1px 1px);clip: rect(1px, 1px, 1px, 1px);height: 1px;margin: -1px;overflow: hidden;padding: 0;position: absolute;width: 1px;}#sk-container-id-2 div.sk-estimator {font-family: monospace;background-color: #f0f8ff;border: 1px dotted black;border-radius: 0.25em;box-sizing: border-box;margin-bottom: 0.5em;}#sk-container-id-2 div.sk-estimator:hover {background-color: #d4ebff;}#sk-container-id-2 div.sk-parallel-item::after {content: \"\";width: 100%;border-bottom: 1px solid gray;flex-grow: 1;}#sk-container-id-2 div.sk-label:hover label.sk-toggleable__label {background-color: #d4ebff;}#sk-container-id-2 div.sk-serial::before {content: \"\";position: absolute;border-left: 1px solid gray;box-sizing: border-box;top: 0;bottom: 0;left: 50%;z-index: 0;}#sk-container-id-2 div.sk-serial {display: flex;flex-direction: column;align-items: center;background-color: white;padding-right: 0.2em;padding-left: 0.2em;position: relative;}#sk-container-id-2 div.sk-item {position: relative;z-index: 1;}#sk-container-id-2 div.sk-parallel {display: flex;align-items: stretch;justify-content: center;background-color: white;position: relative;}#sk-container-id-2 div.sk-item::before, #sk-container-id-2 div.sk-parallel-item::before {content: \"\";position: absolute;border-left: 1px solid gray;box-sizing: border-box;top: 0;bottom: 0;left: 50%;z-index: -1;}#sk-container-id-2 div.sk-parallel-item {display: flex;flex-direction: column;z-index: 1;position: relative;background-color: white;}#sk-container-id-2 div.sk-parallel-item:first-child::after {align-self: flex-end;width: 50%;}#sk-container-id-2 div.sk-parallel-item:last-child::after {align-self: flex-start;width: 50%;}#sk-container-id-2 div.sk-parallel-item:only-child::after {width: 0;}#sk-container-id-2 div.sk-dashed-wrapped {border: 1px dashed gray;margin: 0 0.4em 0.5em 0.4em;box-sizing: border-box;padding-bottom: 0.4em;background-color: white;}#sk-container-id-2 div.sk-label label {font-family: monospace;font-weight: bold;display: inline-block;line-height: 1.2em;}#sk-container-id-2 div.sk-label-container {text-align: center;}#sk-container-id-2 div.sk-container {/* jupyter's `normalize.less` sets `[hidden] { display: none; }` but bootstrap.min.css set `[hidden] { display: none !important; }` so we also need the `!important` here to be able to override the default hidden behavior on the sphinx rendered scikit-learn.org. See: https://github.com/scikit-learn/scikit-learn/issues/21755 */display: inline-block !important;position: relative;}#sk-container-id-2 div.sk-text-repr-fallback {display: none;}</style><div id=\"sk-container-id-2\" class=\"sk-top-container\"><div class=\"sk-text-repr-fallback\"><pre>Pipeline(steps=[(&#x27;scaler&#x27;, StandardScaler()),\n",
              "                (&#x27;Random Forest&#x27;, RandomForestRegressor())])</pre><b>In a Jupyter environment, please rerun this cell to show the HTML representation or trust the notebook. <br />On GitHub, the HTML representation is unable to render, please try loading this page with nbviewer.org.</b></div><div class=\"sk-container\" hidden><div class=\"sk-item sk-dashed-wrapped\"><div class=\"sk-label-container\"><div class=\"sk-label sk-toggleable\"><input class=\"sk-toggleable__control sk-hidden--visually\" id=\"sk-estimator-id-4\" type=\"checkbox\" ><label for=\"sk-estimator-id-4\" class=\"sk-toggleable__label sk-toggleable__label-arrow\">Pipeline</label><div class=\"sk-toggleable__content\"><pre>Pipeline(steps=[(&#x27;scaler&#x27;, StandardScaler()),\n",
              "                (&#x27;Random Forest&#x27;, RandomForestRegressor())])</pre></div></div></div><div class=\"sk-serial\"><div class=\"sk-item\"><div class=\"sk-estimator sk-toggleable\"><input class=\"sk-toggleable__control sk-hidden--visually\" id=\"sk-estimator-id-5\" type=\"checkbox\" ><label for=\"sk-estimator-id-5\" class=\"sk-toggleable__label sk-toggleable__label-arrow\">StandardScaler</label><div class=\"sk-toggleable__content\"><pre>StandardScaler()</pre></div></div></div><div class=\"sk-item\"><div class=\"sk-estimator sk-toggleable\"><input class=\"sk-toggleable__control sk-hidden--visually\" id=\"sk-estimator-id-6\" type=\"checkbox\" ><label for=\"sk-estimator-id-6\" class=\"sk-toggleable__label sk-toggleable__label-arrow\">RandomForestRegressor</label><div class=\"sk-toggleable__content\"><pre>RandomForestRegressor()</pre></div></div></div></div></div></div></div>"
            ]
          },
          "metadata": {},
          "execution_count": 66
        }
      ],
      "source": [
        "# Training model\n",
        "pipeline_rf.fit(X_train_scaled, y_train)"
      ]
    },
    {
      "cell_type": "code",
      "execution_count": 67,
      "metadata": {
        "id": "wz0LRaVUrYrW"
      },
      "outputs": [],
      "source": [
        "# Memprediksi label pada data test\n",
        "y_pred_rf = pipeline_rf.predict(X_test_scaled)"
      ]
    },
    {
      "cell_type": "markdown",
      "metadata": {
        "id": "ih5h-m63rcbw"
      },
      "source": [
        "##Gradient Boosting"
      ]
    },
    {
      "cell_type": "code",
      "execution_count": 68,
      "metadata": {
        "colab": {
          "base_uri": "https://localhost:8080/",
          "height": 127
        },
        "id": "lc9eZ6chp4nw",
        "outputId": "d76d1530-feba-4b59-deef-481cea591041"
      },
      "outputs": [
        {
          "output_type": "execute_result",
          "data": {
            "text/plain": [
              "Pipeline(steps=[('scaler', StandardScaler()),\n",
              "                ('Gradient Boosting', GradientBoostingRegressor())])"
            ],
            "text/html": [
              "<style>#sk-container-id-3 {color: black;background-color: white;}#sk-container-id-3 pre{padding: 0;}#sk-container-id-3 div.sk-toggleable {background-color: white;}#sk-container-id-3 label.sk-toggleable__label {cursor: pointer;display: block;width: 100%;margin-bottom: 0;padding: 0.3em;box-sizing: border-box;text-align: center;}#sk-container-id-3 label.sk-toggleable__label-arrow:before {content: \"▸\";float: left;margin-right: 0.25em;color: #696969;}#sk-container-id-3 label.sk-toggleable__label-arrow:hover:before {color: black;}#sk-container-id-3 div.sk-estimator:hover label.sk-toggleable__label-arrow:before {color: black;}#sk-container-id-3 div.sk-toggleable__content {max-height: 0;max-width: 0;overflow: hidden;text-align: left;background-color: #f0f8ff;}#sk-container-id-3 div.sk-toggleable__content pre {margin: 0.2em;color: black;border-radius: 0.25em;background-color: #f0f8ff;}#sk-container-id-3 input.sk-toggleable__control:checked~div.sk-toggleable__content {max-height: 200px;max-width: 100%;overflow: auto;}#sk-container-id-3 input.sk-toggleable__control:checked~label.sk-toggleable__label-arrow:before {content: \"▾\";}#sk-container-id-3 div.sk-estimator input.sk-toggleable__control:checked~label.sk-toggleable__label {background-color: #d4ebff;}#sk-container-id-3 div.sk-label input.sk-toggleable__control:checked~label.sk-toggleable__label {background-color: #d4ebff;}#sk-container-id-3 input.sk-hidden--visually {border: 0;clip: rect(1px 1px 1px 1px);clip: rect(1px, 1px, 1px, 1px);height: 1px;margin: -1px;overflow: hidden;padding: 0;position: absolute;width: 1px;}#sk-container-id-3 div.sk-estimator {font-family: monospace;background-color: #f0f8ff;border: 1px dotted black;border-radius: 0.25em;box-sizing: border-box;margin-bottom: 0.5em;}#sk-container-id-3 div.sk-estimator:hover {background-color: #d4ebff;}#sk-container-id-3 div.sk-parallel-item::after {content: \"\";width: 100%;border-bottom: 1px solid gray;flex-grow: 1;}#sk-container-id-3 div.sk-label:hover label.sk-toggleable__label {background-color: #d4ebff;}#sk-container-id-3 div.sk-serial::before {content: \"\";position: absolute;border-left: 1px solid gray;box-sizing: border-box;top: 0;bottom: 0;left: 50%;z-index: 0;}#sk-container-id-3 div.sk-serial {display: flex;flex-direction: column;align-items: center;background-color: white;padding-right: 0.2em;padding-left: 0.2em;position: relative;}#sk-container-id-3 div.sk-item {position: relative;z-index: 1;}#sk-container-id-3 div.sk-parallel {display: flex;align-items: stretch;justify-content: center;background-color: white;position: relative;}#sk-container-id-3 div.sk-item::before, #sk-container-id-3 div.sk-parallel-item::before {content: \"\";position: absolute;border-left: 1px solid gray;box-sizing: border-box;top: 0;bottom: 0;left: 50%;z-index: -1;}#sk-container-id-3 div.sk-parallel-item {display: flex;flex-direction: column;z-index: 1;position: relative;background-color: white;}#sk-container-id-3 div.sk-parallel-item:first-child::after {align-self: flex-end;width: 50%;}#sk-container-id-3 div.sk-parallel-item:last-child::after {align-self: flex-start;width: 50%;}#sk-container-id-3 div.sk-parallel-item:only-child::after {width: 0;}#sk-container-id-3 div.sk-dashed-wrapped {border: 1px dashed gray;margin: 0 0.4em 0.5em 0.4em;box-sizing: border-box;padding-bottom: 0.4em;background-color: white;}#sk-container-id-3 div.sk-label label {font-family: monospace;font-weight: bold;display: inline-block;line-height: 1.2em;}#sk-container-id-3 div.sk-label-container {text-align: center;}#sk-container-id-3 div.sk-container {/* jupyter's `normalize.less` sets `[hidden] { display: none; }` but bootstrap.min.css set `[hidden] { display: none !important; }` so we also need the `!important` here to be able to override the default hidden behavior on the sphinx rendered scikit-learn.org. See: https://github.com/scikit-learn/scikit-learn/issues/21755 */display: inline-block !important;position: relative;}#sk-container-id-3 div.sk-text-repr-fallback {display: none;}</style><div id=\"sk-container-id-3\" class=\"sk-top-container\"><div class=\"sk-text-repr-fallback\"><pre>Pipeline(steps=[(&#x27;scaler&#x27;, StandardScaler()),\n",
              "                (&#x27;Gradient Boosting&#x27;, GradientBoostingRegressor())])</pre><b>In a Jupyter environment, please rerun this cell to show the HTML representation or trust the notebook. <br />On GitHub, the HTML representation is unable to render, please try loading this page with nbviewer.org.</b></div><div class=\"sk-container\" hidden><div class=\"sk-item sk-dashed-wrapped\"><div class=\"sk-label-container\"><div class=\"sk-label sk-toggleable\"><input class=\"sk-toggleable__control sk-hidden--visually\" id=\"sk-estimator-id-7\" type=\"checkbox\" ><label for=\"sk-estimator-id-7\" class=\"sk-toggleable__label sk-toggleable__label-arrow\">Pipeline</label><div class=\"sk-toggleable__content\"><pre>Pipeline(steps=[(&#x27;scaler&#x27;, StandardScaler()),\n",
              "                (&#x27;Gradient Boosting&#x27;, GradientBoostingRegressor())])</pre></div></div></div><div class=\"sk-serial\"><div class=\"sk-item\"><div class=\"sk-estimator sk-toggleable\"><input class=\"sk-toggleable__control sk-hidden--visually\" id=\"sk-estimator-id-8\" type=\"checkbox\" ><label for=\"sk-estimator-id-8\" class=\"sk-toggleable__label sk-toggleable__label-arrow\">StandardScaler</label><div class=\"sk-toggleable__content\"><pre>StandardScaler()</pre></div></div></div><div class=\"sk-item\"><div class=\"sk-estimator sk-toggleable\"><input class=\"sk-toggleable__control sk-hidden--visually\" id=\"sk-estimator-id-9\" type=\"checkbox\" ><label for=\"sk-estimator-id-9\" class=\"sk-toggleable__label sk-toggleable__label-arrow\">GradientBoostingRegressor</label><div class=\"sk-toggleable__content\"><pre>GradientBoostingRegressor()</pre></div></div></div></div></div></div></div>"
            ]
          },
          "metadata": {},
          "execution_count": 68
        }
      ],
      "source": [
        "# Training model\n",
        "pipeline_gb.fit(X_train_scaled, y_train)"
      ]
    },
    {
      "cell_type": "code",
      "execution_count": 69,
      "metadata": {
        "id": "5qBcWAMlrjGD"
      },
      "outputs": [],
      "source": [
        "# Memprediksi label pada data test\n",
        "y_pred_gb = pipeline_gb.predict(X_test_scaled)"
      ]
    },
    {
      "cell_type": "markdown",
      "metadata": {
        "id": "14ATJ3SCrnBM"
      },
      "source": [
        "##SVM"
      ]
    },
    {
      "cell_type": "code",
      "execution_count": 70,
      "metadata": {
        "colab": {
          "base_uri": "https://localhost:8080/",
          "height": 127
        },
        "id": "aeJX4AOSp5jD",
        "outputId": "8cd21f44-797f-456a-dbe9-e7dbb1038d4d"
      },
      "outputs": [
        {
          "output_type": "execute_result",
          "data": {
            "text/plain": [
              "Pipeline(steps=[('scaler', StandardScaler()), ('SVM', SVR(kernel='linear'))])"
            ],
            "text/html": [
              "<style>#sk-container-id-4 {color: black;background-color: white;}#sk-container-id-4 pre{padding: 0;}#sk-container-id-4 div.sk-toggleable {background-color: white;}#sk-container-id-4 label.sk-toggleable__label {cursor: pointer;display: block;width: 100%;margin-bottom: 0;padding: 0.3em;box-sizing: border-box;text-align: center;}#sk-container-id-4 label.sk-toggleable__label-arrow:before {content: \"▸\";float: left;margin-right: 0.25em;color: #696969;}#sk-container-id-4 label.sk-toggleable__label-arrow:hover:before {color: black;}#sk-container-id-4 div.sk-estimator:hover label.sk-toggleable__label-arrow:before {color: black;}#sk-container-id-4 div.sk-toggleable__content {max-height: 0;max-width: 0;overflow: hidden;text-align: left;background-color: #f0f8ff;}#sk-container-id-4 div.sk-toggleable__content pre {margin: 0.2em;color: black;border-radius: 0.25em;background-color: #f0f8ff;}#sk-container-id-4 input.sk-toggleable__control:checked~div.sk-toggleable__content {max-height: 200px;max-width: 100%;overflow: auto;}#sk-container-id-4 input.sk-toggleable__control:checked~label.sk-toggleable__label-arrow:before {content: \"▾\";}#sk-container-id-4 div.sk-estimator input.sk-toggleable__control:checked~label.sk-toggleable__label {background-color: #d4ebff;}#sk-container-id-4 div.sk-label input.sk-toggleable__control:checked~label.sk-toggleable__label {background-color: #d4ebff;}#sk-container-id-4 input.sk-hidden--visually {border: 0;clip: rect(1px 1px 1px 1px);clip: rect(1px, 1px, 1px, 1px);height: 1px;margin: -1px;overflow: hidden;padding: 0;position: absolute;width: 1px;}#sk-container-id-4 div.sk-estimator {font-family: monospace;background-color: #f0f8ff;border: 1px dotted black;border-radius: 0.25em;box-sizing: border-box;margin-bottom: 0.5em;}#sk-container-id-4 div.sk-estimator:hover {background-color: #d4ebff;}#sk-container-id-4 div.sk-parallel-item::after {content: \"\";width: 100%;border-bottom: 1px solid gray;flex-grow: 1;}#sk-container-id-4 div.sk-label:hover label.sk-toggleable__label {background-color: #d4ebff;}#sk-container-id-4 div.sk-serial::before {content: \"\";position: absolute;border-left: 1px solid gray;box-sizing: border-box;top: 0;bottom: 0;left: 50%;z-index: 0;}#sk-container-id-4 div.sk-serial {display: flex;flex-direction: column;align-items: center;background-color: white;padding-right: 0.2em;padding-left: 0.2em;position: relative;}#sk-container-id-4 div.sk-item {position: relative;z-index: 1;}#sk-container-id-4 div.sk-parallel {display: flex;align-items: stretch;justify-content: center;background-color: white;position: relative;}#sk-container-id-4 div.sk-item::before, #sk-container-id-4 div.sk-parallel-item::before {content: \"\";position: absolute;border-left: 1px solid gray;box-sizing: border-box;top: 0;bottom: 0;left: 50%;z-index: -1;}#sk-container-id-4 div.sk-parallel-item {display: flex;flex-direction: column;z-index: 1;position: relative;background-color: white;}#sk-container-id-4 div.sk-parallel-item:first-child::after {align-self: flex-end;width: 50%;}#sk-container-id-4 div.sk-parallel-item:last-child::after {align-self: flex-start;width: 50%;}#sk-container-id-4 div.sk-parallel-item:only-child::after {width: 0;}#sk-container-id-4 div.sk-dashed-wrapped {border: 1px dashed gray;margin: 0 0.4em 0.5em 0.4em;box-sizing: border-box;padding-bottom: 0.4em;background-color: white;}#sk-container-id-4 div.sk-label label {font-family: monospace;font-weight: bold;display: inline-block;line-height: 1.2em;}#sk-container-id-4 div.sk-label-container {text-align: center;}#sk-container-id-4 div.sk-container {/* jupyter's `normalize.less` sets `[hidden] { display: none; }` but bootstrap.min.css set `[hidden] { display: none !important; }` so we also need the `!important` here to be able to override the default hidden behavior on the sphinx rendered scikit-learn.org. See: https://github.com/scikit-learn/scikit-learn/issues/21755 */display: inline-block !important;position: relative;}#sk-container-id-4 div.sk-text-repr-fallback {display: none;}</style><div id=\"sk-container-id-4\" class=\"sk-top-container\"><div class=\"sk-text-repr-fallback\"><pre>Pipeline(steps=[(&#x27;scaler&#x27;, StandardScaler()), (&#x27;SVM&#x27;, SVR(kernel=&#x27;linear&#x27;))])</pre><b>In a Jupyter environment, please rerun this cell to show the HTML representation or trust the notebook. <br />On GitHub, the HTML representation is unable to render, please try loading this page with nbviewer.org.</b></div><div class=\"sk-container\" hidden><div class=\"sk-item sk-dashed-wrapped\"><div class=\"sk-label-container\"><div class=\"sk-label sk-toggleable\"><input class=\"sk-toggleable__control sk-hidden--visually\" id=\"sk-estimator-id-10\" type=\"checkbox\" ><label for=\"sk-estimator-id-10\" class=\"sk-toggleable__label sk-toggleable__label-arrow\">Pipeline</label><div class=\"sk-toggleable__content\"><pre>Pipeline(steps=[(&#x27;scaler&#x27;, StandardScaler()), (&#x27;SVM&#x27;, SVR(kernel=&#x27;linear&#x27;))])</pre></div></div></div><div class=\"sk-serial\"><div class=\"sk-item\"><div class=\"sk-estimator sk-toggleable\"><input class=\"sk-toggleable__control sk-hidden--visually\" id=\"sk-estimator-id-11\" type=\"checkbox\" ><label for=\"sk-estimator-id-11\" class=\"sk-toggleable__label sk-toggleable__label-arrow\">StandardScaler</label><div class=\"sk-toggleable__content\"><pre>StandardScaler()</pre></div></div></div><div class=\"sk-item\"><div class=\"sk-estimator sk-toggleable\"><input class=\"sk-toggleable__control sk-hidden--visually\" id=\"sk-estimator-id-12\" type=\"checkbox\" ><label for=\"sk-estimator-id-12\" class=\"sk-toggleable__label sk-toggleable__label-arrow\">SVR</label><div class=\"sk-toggleable__content\"><pre>SVR(kernel=&#x27;linear&#x27;)</pre></div></div></div></div></div></div></div>"
            ]
          },
          "metadata": {},
          "execution_count": 70
        }
      ],
      "source": [
        "# Training model\n",
        "pipeline_svm.fit(X_train_scaled, y_train)"
      ]
    },
    {
      "cell_type": "code",
      "execution_count": 71,
      "metadata": {
        "id": "9yakh2Yhr4fr"
      },
      "outputs": [],
      "source": [
        "# Memprediksi label pada data test\n",
        "y_pred_svm = pipeline_svm.predict(X_test_scaled)"
      ]
    },
    {
      "cell_type": "markdown",
      "metadata": {
        "id": "69UWGqBdp3LJ"
      },
      "source": [
        "#VIII. Model Evaluation"
      ]
    },
    {
      "cell_type": "markdown",
      "metadata": {
        "id": "TYE4GhzUsJ6E"
      },
      "source": [
        "##Linear Regression"
      ]
    },
    {
      "cell_type": "code",
      "execution_count": 72,
      "metadata": {
        "colab": {
          "base_uri": "https://localhost:8080/"
        },
        "id": "hbbCkB7UsE5c",
        "outputId": "1744e3d7-bc61-40e3-f9bc-3f61763d267d"
      },
      "outputs": [
        {
          "output_type": "stream",
          "name": "stdout",
          "text": [
            "MSE: 271957983375.518\n",
            "R2: 0.13240463996838048\n"
          ]
        }
      ],
      "source": [
        "# Evaluasi performa model\n",
        "mse_linreg = mean_squared_error(y_test, y_pred_linreg)\n",
        "r2_linreg = r2_score(y_test, y_pred_linreg)\n",
        "\n",
        "print(\"MSE:\", mse_linreg)\n",
        "print(\"R2:\", r2_linreg)"
      ]
    },
    {
      "cell_type": "markdown",
      "metadata": {
        "id": "n_IobezI5Kgs"
      },
      "source": [
        "model linear regression memiliki tingkat kesalahan prediksi yang relatif rendah dan performa yang cukup baik. Nilai MSE adalah 0.064, yang menunjukkan bahwa rata-rata kesalahan prediksi relatif kecil. Sedangkan, nilai R2 adalah 0.687 yang menunjukkan bahwa sekitar 68.7% variasi data dapat dijelaskan oleh model"
      ]
    },
    {
      "cell_type": "markdown",
      "metadata": {
        "id": "qMPKa4NQtBx3"
      },
      "source": [
        "##Random Forest"
      ]
    },
    {
      "cell_type": "code",
      "execution_count": 73,
      "metadata": {
        "colab": {
          "base_uri": "https://localhost:8080/"
        },
        "id": "JTgCBQqus-50",
        "outputId": "72f707ce-f635-4005-a27b-3db76bcb9d51"
      },
      "outputs": [
        {
          "output_type": "stream",
          "name": "stdout",
          "text": [
            "MSE: 22403384987.047565\n",
            "R2: 0.9285291329840245\n"
          ]
        }
      ],
      "source": [
        "# Evaluasi performa model\n",
        "mse_rf = mean_squared_error(y_test, y_pred_rf)\n",
        "r2_rf = r2_score(y_test, y_pred_rf)\n",
        "\n",
        "print(\"MSE:\", mse_rf)\n",
        "print(\"R2:\", r2_rf)"
      ]
    },
    {
      "cell_type": "markdown",
      "metadata": {
        "id": "E1iNuS3i75fL"
      },
      "source": [
        "Model Random Forest memiliki tingkat kesalahan prediksi yang sangat kecil dan performa yang sangat baik dalam memprediksi data karena memiliki nilai MSE rendah 0.003 dan R2 tinggi 0.98 yang menunjukkan bahwa sekitar 98% variasi data dapat dijelaskan oleh model"
      ]
    },
    {
      "cell_type": "markdown",
      "metadata": {
        "id": "uVnbCMdHtUhM"
      },
      "source": [
        "##Gradient Boosting"
      ]
    },
    {
      "cell_type": "code",
      "execution_count": 74,
      "metadata": {
        "colab": {
          "base_uri": "https://localhost:8080/"
        },
        "id": "NCu35fzQs_fb",
        "outputId": "3857a038-2a0c-4bea-8e68-0daf15438495"
      },
      "outputs": [
        {
          "output_type": "stream",
          "name": "stdout",
          "text": [
            "MSE: 38775557902.085144\n",
            "R2: 0.8762989278677122\n"
          ]
        }
      ],
      "source": [
        "# Evaluasi performa model\n",
        "mse_gb = mean_squared_error(y_test, y_pred_gb)\n",
        "r2_gb = r2_score(y_test, y_pred_gb)\n",
        "\n",
        "print(\"MSE:\", mse_gb)\n",
        "print(\"R2:\", r2_gb)"
      ]
    },
    {
      "cell_type": "markdown",
      "metadata": {
        "id": "8ZlwLSCQ8_OV"
      },
      "source": [
        "Model Gradient Boosting memiliki tingkat kesalahan prediksi yang cukup kecil dan performa yang cukup baik dalam memprediksi data dengan nilai MSE yang kecil 0.011 dan nilai R2 yang cukup tinggi 0.94 yang menunjukkan bahwa sekitar 94% variasi data dapat dijelaskan oleh model"
      ]
    },
    {
      "cell_type": "markdown",
      "metadata": {
        "id": "SygUpwhStdWH"
      },
      "source": [
        "##SVM"
      ]
    },
    {
      "cell_type": "code",
      "execution_count": 75,
      "metadata": {
        "colab": {
          "base_uri": "https://localhost:8080/"
        },
        "id": "aZrB0B96s_-2",
        "outputId": "8680ccc3-38b8-4140-dc98-35589f4f1ebb"
      },
      "outputs": [
        {
          "output_type": "stream",
          "name": "stdout",
          "text": [
            "MSE: 327390129078.8234\n",
            "R2: -0.04443397242263125\n"
          ]
        }
      ],
      "source": [
        "# Evaluasi performa model\n",
        "mse_svm = mean_squared_error(y_test, y_pred_svm)\n",
        "r2_svm = r2_score(y_test, y_pred_svm)\n",
        "\n",
        "print(\"MSE:\", mse_svm)\n",
        "print(\"R2:\", r2_svm)"
      ]
    },
    {
      "cell_type": "markdown",
      "metadata": {
        "id": "hhMtw3di-B8p"
      },
      "source": [
        "Model SVM memiliki tingkat kesalahan prediksi yang cukup kecil dan performa yang cukup baik dalam memprediksi data, dengan nilai MSE yang kecil 0.064 dan nilai R2 yang cukup tinggi 0.68 yang menunjukkan bahwa sekitar 68% variasi data dapat dijelaskan oleh model"
      ]
    },
    {
      "cell_type": "markdown",
      "metadata": {
        "id": "91ia3Y6luED_"
      },
      "source": [
        "##selecting best model using Cross Validation"
      ]
    },
    {
      "cell_type": "code",
      "execution_count": 76,
      "metadata": {
        "colab": {
          "base_uri": "https://localhost:8080/"
        },
        "id": "sWi0LFAuuBeA",
        "outputId": "9e3d0cdf-158e-4102-f4cb-e15043559611"
      },
      "outputs": [
        {
          "output_type": "stream",
          "name": "stdout",
          "text": [
            "Linear Regression: 0.137 +/- 0.024\n",
            "Random Forest: 0.924 +/- 0.011\n",
            "Gradient Boosting: 0.877 +/- 0.014\n",
            "SVM: -0.025 +/- 0.016\n",
            "\n",
            "Best model: dict_keys(['scaler', 'Random Forest']) with R2 score of 0.924\n"
          ]
        }
      ],
      "source": [
        "best_score = 0\n",
        "best_model = None\n",
        "\n",
        "#seleksi model\n",
        "models = {\n",
        "    'Linear Regression': pipeline_linreg,\n",
        "    'Random Forest': pipeline_rf,\n",
        "    'Gradient Boosting': pipeline_gb,\n",
        "    'SVM': pipeline_svm,\n",
        "}\n",
        "\n",
        "for name, model in models.items():\n",
        "    scores = cross_val_score(model, X_train_scaled, y_train, cv=10, scoring='r2')\n",
        "    score_mean = scores.mean()\n",
        "    score_std = scores.std()\n",
        "    print(f\"{name}: {score_mean:.3f} +/- {score_std:.3f}\")\n",
        "    \n",
        "    if score_mean > best_score:\n",
        "        best_score = score_mean\n",
        "        best_model = model\n",
        "\n",
        "print(f\"\\nBest model: {best_model.named_steps.keys()} with R2 score of {best_score:.3f}\")\n"
      ]
    },
    {
      "cell_type": "markdown",
      "metadata": {
        "id": "fv4JrnWQ_q-j"
      },
      "source": [
        "Berdasarkan hasil evaluasi menggunakan cross-validation, model Random Forest memiliki R2 score tertinggi yaitu 0.982 dengan rentang nilai yang relatif kecil, sehingga dapat dianggap sebagai model terbaik dalam memprediksi data"
      ]
    },
    {
      "cell_type": "markdown",
      "metadata": {
        "id": "CIRmOo33_qXv"
      },
      "source": [
        "##Hyperparameter Tunning"
      ]
    },
    {
      "cell_type": "markdown",
      "metadata": {
        "id": "1RVnjmuYArOa"
      },
      "source": [
        "menggunakan gridsearchCV untuk meningkatkan performa model"
      ]
    },
    {
      "cell_type": "code",
      "execution_count": 77,
      "metadata": {
        "id": "qE7nNkzh90Cc"
      },
      "outputs": [],
      "source": [
        "# Membuat objek untuk Random Forest\n",
        "rf = RandomForestRegressor()"
      ]
    },
    {
      "cell_type": "code",
      "execution_count": 78,
      "metadata": {
        "id": "KTabVCUYBhcJ"
      },
      "outputs": [],
      "source": [
        "# menentukan hyperparameter yang akan dituning\n",
        "param_grid = {'n_estimators': [100, 200, 500], \n",
        "              'max_depth': [10, 20, 30, None],\n",
        "              'min_samples_split': [2, 5, 10],\n",
        "              'min_samples_leaf': [1, 2, 4]}"
      ]
    },
    {
      "cell_type": "code",
      "execution_count": null,
      "metadata": {
        "id": "IR5DuF7iBic6"
      },
      "outputs": [],
      "source": [
        "# melakukan hyperparameter tuning dengan menggunakan GridSearchCV\n",
        "grid = GridSearchCV(rf, param_grid=param_grid, cv=5)\n",
        "grid.fit(X_train_scaled, y_train)\n",
        "\n",
        "print(\"Best parameters:\", grid.best_params_)"
      ]
    },
    {
      "cell_type": "markdown",
      "metadata": {
        "id": "N2SXoO4Q65CN"
      },
      "source": [
        " model memiliki performa yang lebih baik daripada menggunakan max_depth': None, 'min_samples_leaf': 1, 'min_samples_split': 2, 'n_estimators': 500"
      ]
    },
    {
      "cell_type": "code",
      "execution_count": null,
      "metadata": {
        "id": "jnn8MAfrq5Wl"
      },
      "outputs": [],
      "source": [
        "# Menggunakan model Random Forest dengan hyperparameters terbaik\n",
        "best_rf = RandomForestRegressor(max_depth=None, min_samples_leaf=4, min_samples_split=2, n_estimators=200)"
      ]
    },
    {
      "cell_type": "code",
      "execution_count": null,
      "metadata": {
        "id": "6Ax9m-GFsecT"
      },
      "outputs": [],
      "source": [
        "# Fitting model\n",
        "best_rf.fit(X_train_scaled, y_train)"
      ]
    },
    {
      "cell_type": "code",
      "execution_count": null,
      "metadata": {
        "id": "D4yPO4dFBpsz"
      },
      "outputs": [],
      "source": [
        "# melakukan prediksi pada data testing\n",
        "y_pred = best_rf.predict(X_test_scaled)"
      ]
    },
    {
      "cell_type": "code",
      "execution_count": null,
      "metadata": {
        "id": "70bKp1WBByCN"
      },
      "outputs": [],
      "source": [
        "# menghitung nilai MSE dan R2 score pada data testing\n",
        "mse = mean_squared_error(y_test, y_pred)\n",
        "r2 = r2_score(y_test, y_pred)\n",
        "\n",
        "print(\"MSE:\", mse)\n",
        "print(\"R2 score:\", r2)"
      ]
    },
    {
      "cell_type": "markdown",
      "metadata": {
        "id": "x8-6zH3l7DDC"
      },
      "source": [
        "sebelum hyperparameter tuning\n",
        "\n",
        "MSE: 21987743802.864536\n",
        "R2: 0.9298551038504039\n",
        "\n",
        "dapat disimpulkan bahwa model Random Forest telah mengalami peningkatan kinerja setelah melakukan hyperparameter tuning, yang dapat dilihat dari penurunan nilai MSE dan peningkatan nilai R2 score. Ini menunjukkan bahwa model regresi menjadi lebih akurat dan mampu menjelaskan variasi dalam data dengan lebih baik setelah melakukan hyperparameter tuning."
      ]
    },
    {
      "cell_type": "code",
      "execution_count": null,
      "metadata": {
        "id": "uNTCODhRn4oG"
      },
      "outputs": [],
      "source": [
        "# Fitting the model on the training data\n",
        "rf.fit(X_train_scaled, y_train)"
      ]
    },
    {
      "cell_type": "code",
      "execution_count": null,
      "metadata": {
        "id": "Bq4ejgIrSkmE"
      },
      "outputs": [],
      "source": [
        "# Prediksi data latih dan data uji\n",
        "y_train_pred = rf.predict(X_train_scaled)\n",
        "y_test_pred = rf.predict(X_test_scaled)"
      ]
    },
    {
      "cell_type": "code",
      "execution_count": null,
      "metadata": {
        "id": "23-7cXQICMeP"
      },
      "outputs": [],
      "source": [
        "# Evaluate R2 score on training set and test set\n",
        "train_r2 = r2_score(y_train, y_train_pred)\n",
        "test_r2 = r2_score(y_test, y_test_pred)\n",
        "\n",
        "print(\"R2 score on training set: {:.2f}\".format(train_r2))\n",
        "print(\"R2 score on test set: {:.2f}\".format(test_r2))\n",
        "\n",
        "# Check for overfitting or underfitting\n",
        "if train_r2 - test_r2 > 0.1:\n",
        "    print(\"Model is overfitting\")\n",
        "elif test_r2 - train_r2 > 0.1:\n",
        "    print(\"Model is underfitting\")\n",
        "else:\n",
        "    print(\"Model is a good fit\")"
      ]
    },
    {
      "cell_type": "markdown",
      "metadata": {
        "id": "VKGwTw407Gqa"
      },
      "source": [
        "Dari nilai R2 score tersebut, dapat disimpulkan bahwa model Random Forest memiliki kinerja yang baik pada data latih dan data uji, dan tidak overfitting. Oleh karena itu, model tersebut merupakan model yang baik untuk digunakan pada data tersebut."
      ]
    },
    {
      "cell_type": "code",
      "source": [
        "# check if date is a holiday\n",
        "    if date in holiday_dates:\n",
        "        prediction = prediction * 5"
      ],
      "metadata": {
        "id": "CzfXjUO3J9v5"
      },
      "execution_count": null,
      "outputs": []
    },
    {
      "cell_type": "markdown",
      "metadata": {
        "id": "Qyjrf5NBmpEn"
      },
      "source": [
        "#IX. Model Saving"
      ]
    },
    {
      "cell_type": "code",
      "execution_count": null,
      "metadata": {
        "id": "4nN7EOERpymC"
      },
      "outputs": [],
      "source": [
        "# Save the Files\n",
        "\n",
        "with open('model_Random_Forest.pkl', 'wb') as file_1:\n",
        "  pickle.dump(best_gb, file_1)\n",
        "\n",
        "with open('model_scaler.pkl', 'wb') as file_2:\n",
        "  pickle.dump(scaler, file_2)\n",
        "\n",
        "with open('model_pipeline.pkl', 'wb') as file_3:\n",
        "  pickle.dump(pipe_gb, file_3)"
      ]
    }
  ],
  "metadata": {
    "colab": {
      "toc_visible": true,
      "provenance": [],
      "collapsed_sections": [
        "qb_3_3oAYDF6"
      ]
    },
    "gpuClass": "standard",
    "kernelspec": {
      "display_name": "Python 3",
      "name": "python3"
    },
    "language_info": {
      "name": "python"
    }
  },
  "nbformat": 4,
  "nbformat_minor": 0
}