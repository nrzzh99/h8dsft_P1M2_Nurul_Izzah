{
  "nbformat": 4,
  "nbformat_minor": 0,
  "metadata": {
    "colab": {
      "provenance": []
    },
    "kernelspec": {
      "name": "python3",
      "display_name": "Python 3"
    },
    "language_info": {
      "name": "python"
    },
    "gpuClass": "standard"
  },
  "cells": [
    {
      "cell_type": "markdown",
      "source": [
        "#IX. Model Inference"
      ],
      "metadata": {
        "id": "1fQaqc5x6YiF"
      }
    },
    {
      "cell_type": "markdown",
      "source": [
        "##Import Libraries"
      ],
      "metadata": {
        "id": "kt-ttJz56iYG"
      }
    },
    {
      "cell_type": "code",
      "execution_count": 6,
      "metadata": {
        "id": "os4t1gvqmpeM"
      },
      "outputs": [],
      "source": [
        "# Import Libraries\n",
        "\n",
        "import pickle\n",
        "import json\n",
        "import pandas as pd\n",
        "import numpy as np"
      ]
    },
    {
      "cell_type": "markdown",
      "source": [
        "##Load Model"
      ],
      "metadata": {
        "id": "2OS30-qOL1wX"
      }
    },
    {
      "cell_type": "code",
      "source": [
        "# Load All Files\n",
        "\n",
        "with open('model_Random_Forest (3).pkl', 'rb') as file_1:\n",
        "  best_rf = pickle.load(file_1)\n",
        "\n",
        "with open('model_scaler (5).pkl', 'rb') as file_2:\n",
        "  scaler = pickle.load(file_2)"
      ],
      "metadata": {
        "id": "7vHvhWFcLoAG"
      },
      "execution_count": 7,
      "outputs": []
    },
    {
      "cell_type": "code",
      "source": [
        "# Create New Data \n",
        "\n",
        "data_inf = {\n",
        "    'Store': 5,  \n",
        "    'Holiday_Flag': 1, \n",
        "    'Temperature': 67.87, \n",
        "    'Fuel_Price': 3.834, \n",
        "    'CPI': 191.461281,\n",
        "    'Unemployment': 8.667,  \n",
        "}\n",
        "date = pd.to_datetime('2011-02-11')\n",
        "data_inf = pd.DataFrame([data_inf], index=[date])"
      ],
      "metadata": {
        "id": "G_6JNU6ULoGO"
      },
      "execution_count": 8,
      "outputs": []
    },
    {
      "cell_type": "code",
      "source": [
        "#feature scaling\n",
        "data_inf_scaled = scaler.transform(data_inf)"
      ],
      "metadata": {
        "id": "6hq0Ga2WLoIy"
      },
      "execution_count": 9,
      "outputs": []
    },
    {
      "cell_type": "code",
      "source": [
        "# list of holiday dates\n",
        "holiday_dates = ['2010-02-11', '2010-05-01', '2010-11-23', '2010-12-25','2011-02-11',\n",
        "                 '2011-05-01', '2011-11-23', '2011-12-25', '2012-02-11', '2012-05-01']\n"
      ],
      "metadata": {
        "id": "O4HBLZS3b1tA"
      },
      "execution_count": 10,
      "outputs": []
    },
    {
      "cell_type": "code",
      "source": [
        "# Add Weight Based on Holiday Flag\n",
        "if date in holiday_dates:\n",
        "    weight = 5\n",
        "else:\n",
        "    weight = 1"
      ],
      "metadata": {
        "id": "D2fYGpq-5H1S"
      },
      "execution_count": 11,
      "outputs": []
    },
    {
      "cell_type": "code",
      "source": [
        "# Feature Scaling\n",
        "data_inf_scaled = scaler.transform(data_inf)"
      ],
      "metadata": {
        "id": "pLgoAJx-5MY6"
      },
      "execution_count": 12,
      "outputs": []
    },
    {
      "cell_type": "code",
      "source": [
        "# Memanggil method predict\n",
        "y_pred_inf = pd.DataFrame(best_rf.predict(data_inf_scaled), columns=['Weekly_Sales'])"
      ],
      "metadata": {
        "id": "lXLCKv4h5Pdb"
      },
      "execution_count": 13,
      "outputs": []
    },
    {
      "cell_type": "code",
      "source": [
        "# Calculate Prediction with Weight\n",
        "prediction = y_pred_inf['Weekly_Sales'][0] * weight\n",
        "\n",
        "print(\"Prediction for {} with weight {}: {}\".format(date, weight, prediction))"
      ],
      "metadata": {
        "colab": {
          "base_uri": "https://localhost:8080/"
        },
        "id": "ECObojop5TYb",
        "outputId": "b1ce2b07-918f-4d55-e172-db89e3c90d45"
      },
      "execution_count": 14,
      "outputs": [
        {
          "output_type": "stream",
          "name": "stdout",
          "text": [
            "Prediction for 2011-02-11 00:00:00 with weight 1: 324892.2187673812\n"
          ]
        }
      ]
    },
    {
      "cell_type": "markdown",
      "source": [
        "#Kesimpulan"
      ],
      "metadata": {
        "id": "TStP-ms5Kh4E"
      }
    },
    {
      "cell_type": "markdown",
      "source": [
        "dataset walmart memiliki 8 kolom dengan 6435 baris. Kolom-kolom tersebut meliputi:\n",
        "\n",
        "Store: nomor toko tempat penjualan terjadi\n",
        "\n",
        "Date: tanggal penjualan\n",
        "\n",
        "Weekly_Sales: total penjualan mingguan\n",
        "\n",
        "Holiday_Flag: menandakan apakah tanggal penjualan merupakan hari libur atau tidak\n",
        "\n",
        "Temperature: suhu rata-rata pada tanggal penjualan\n",
        "\n",
        "Fuel_Price: harga rata-rata bahan bakar pada tanggal penjualan\n",
        "\n",
        "CPI: Consumer Price Index pada tanggal penjualan\n",
        "\n",
        "Unemployment: tingkat pengangguran pada tanggal penjualan\n",
        "\n",
        "terdapat 6435 data yang merupakan penjualan mingguan (Weekly Sales) pada 45 toko (Store) selama beberapa tahun.\n",
        "\n",
        "Rata-rata penjualan mingguan pada seluruh toko adalah sekitar 1,046,965 dengan standar deviasi sekitar 564,366. Penjualan mingguan paling rendah sekitar 209,986 dan penjualan mingguan tertinggi mencapai 3,818,686.\n",
        "\n",
        "Terdapat 6 kolom data lainnya yaitu Holiday_Flag (0 untuk hari biasa dan 1 untuk hari libur), Temperature, Fuel_Price, CPI (Consumer Price Index), dan Unemployment (tingkat pengangguran).\n",
        "\n",
        "Dari kolom tersebut, terlihat bahwa toko-toko tersebut terletak di daerah yang memiliki suhu rata-rata sekitar 60,66 derajat dan harga bahan bakar sekitar 3,36 dolar AS per liter.\n",
        "\n",
        "Nilai rata-rata CPI (Consumer Price Index) di daerah tersebut adalah 171,58 dan tingkat pengangguran rata-rata sekitar 7,99%.\n",
        "\n",
        "adanya pola musiman dalam tren penjualan mingguan Walmart. Terdapat peningkatan penjualan yang signifikan di awal tahun, terutama pada tahun 2011, dan juga peningkatan penjualan di setiap bulan Desember. Namun, di luar periode-periode tersebut, penjualan mingguan cenderung stabil dan tidak melebihi angka 1.2 juta USD\n",
        "\n",
        "kelebihan dari model ini adalah bisa memprediksi penjualan dari walmart dengan baik karena memiliki \n",
        "R2 score on training set: 0.99\n",
        "R2 score on test set: 0.93, namun kelemahannya adalah model tidak bisa memprediksi masa penjualan untukk kedepannya, mungkin lebih baik bisa ditambahkan model prediksi masa depan"
      ],
      "metadata": {
        "id": "E-wB-aBoKvVJ"
      }
    }
  ]
}